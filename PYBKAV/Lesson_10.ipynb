{
 "cells": [
  {
   "cell_type": "code",
   "execution_count": 1,
   "id": "e3cab589",
   "metadata": {},
   "outputs": [
    {
     "name": "stdout",
     "output_type": "stream",
     "text": [
      "[0, 1, 2, 3, 4, 5, 6, 7, 8, 9]\n"
     ]
    }
   ],
   "source": [
    "l=[ i for i in range(0,10)]\n",
    "print(l)"
   ]
  },
  {
   "cell_type": "code",
   "execution_count": 3,
   "id": "b2d011eb",
   "metadata": {},
   "outputs": [
    {
     "name": "stdout",
     "output_type": "stream",
     "text": [
      "[2, 3, 6, 11, 18, 27, 38, 51, 66, 83]\n"
     ]
    }
   ],
   "source": [
    "l2 = [i**2+2 for i in l]\n",
    "print(l2)"
   ]
  },
  {
   "cell_type": "code",
   "execution_count": 5,
   "id": "3b6f15b6",
   "metadata": {},
   "outputs": [
    {
     "name": "stdout",
     "output_type": "stream",
     "text": [
      "[[2, 3, 6, 11, 18, 27, 38, 51, 66, 83], [3, 4, 7, 12, 19, 28, 39, 52, 67, 84], [4, 5, 8, 13, 20, 29, 40, 53, 68, 85], [5, 6, 9, 14, 21, 30, 41, 54, 69, 86], [6, 7, 10, 15, 22, 31, 42, 55, 70, 87]]\n"
     ]
    }
   ],
   "source": [
    "l3 = [[i**2+2+j for i in l] for j in range(5)]\n",
    "print(l3)"
   ]
  },
  {
   "cell_type": "markdown",
   "id": "55c3f6d6",
   "metadata": {},
   "source": [
    "-repeat\n",
    "\n",
    "-larger\n",
    "\n",
    "-decompostion\n",
    "\n",
    "-sharing\n"
   ]
  },
  {
   "cell_type": "code",
   "execution_count": 6,
   "id": "88b5e92e",
   "metadata": {},
   "outputs": [
    {
     "name": "stdout",
     "output_type": "stream",
     "text": [
      "7\n"
     ]
    }
   ],
   "source": [
    "def y(x,z):\n",
    "    y = x**2 +z\n",
    "    return y\n",
    "\n",
    "y = y(2,3)\n",
    "print(y)"
   ]
  },
  {
   "cell_type": "code",
   "execution_count": 10,
   "id": "77f20eb6",
   "metadata": {},
   "outputs": [
    {
     "name": "stdout",
     "output_type": "stream",
     "text": [
      "7\n"
     ]
    }
   ],
   "source": [
    "def y(x,z):\n",
    "    y = x**2 +z\n",
    "    return y\n",
    "\n",
    "y=y(z=3,x=2)\n",
    "print(y)"
   ]
  },
  {
   "cell_type": "code",
   "execution_count": 11,
   "id": "5a4498d5",
   "metadata": {},
   "outputs": [
    {
     "name": "stdout",
     "output_type": "stream",
     "text": [
      "hello, my name is Nguyen Van Nam\n"
     ]
    }
   ],
   "source": [
    "def introduction(first_name, last_name):\n",
    "    print('hello, my name is', first_name, last_name)\n",
    "introduction('Nguyen Van','Nam')"
   ]
  },
  {
   "cell_type": "code",
   "execution_count": 13,
   "id": "e8cb0be6",
   "metadata": {},
   "outputs": [
    {
     "name": "stdout",
     "output_type": "stream",
     "text": [
      "hello, my name is Nguyen Van Nam\n"
     ]
    }
   ],
   "source": [
    "def introduction(last_name,first_name='Nguyen Van'):\n",
    "    print('hello, my name is', first_name, last_name)\n",
    "introduction('Nam','Nguyen Van' )"
   ]
  },
  {
   "cell_type": "code",
   "execution_count": 15,
   "id": "fb20879a",
   "metadata": {},
   "outputs": [
    {
     "name": "stdout",
     "output_type": "stream",
     "text": [
      "hello, my name is Tran Van Nam\n"
     ]
    }
   ],
   "source": [
    "introduction('Nam', 'Tran Van' )"
   ]
  },
  {
   "cell_type": "code",
   "execution_count": 16,
   "id": "c80d0a99",
   "metadata": {},
   "outputs": [
    {
     "name": "stdout",
     "output_type": "stream",
     "text": [
      "hello, my name is Nguyen Van Nam\n"
     ]
    }
   ],
   "source": [
    "def introduction(last_name='Anh',first_name='Nguyen Van'):\n",
    "    print('hello, my name is', first_name, last_name)\n",
    "introduction('Nam','Nguyen Van' )"
   ]
  },
  {
   "cell_type": "code",
   "execution_count": 17,
   "id": "e7b514ac",
   "metadata": {},
   "outputs": [
    {
     "name": "stdout",
     "output_type": "stream",
     "text": [
      "hello, my name is Nguyen Van Anh\n"
     ]
    }
   ],
   "source": [
    "def introduction(last_name='Anh',first_name='Nguyen Van'):\n",
    "    print('hello, my name is', first_name, last_name)\n",
    "introduction()"
   ]
  },
  {
   "cell_type": "code",
   "execution_count": 18,
   "id": "e682c0b3",
   "metadata": {},
   "outputs": [],
   "source": [
    "def happy_new_year(wishes = True):\n",
    "    print(\"Three...\")\n",
    "    print(\"Two...\")\n",
    "    print(\"One...\")\n",
    "    if not wishes:\n",
    "        return\n",
    "    \n",
    "    print(\"Happy New Year!\")\n",
    "\n"
   ]
  },
  {
   "cell_type": "code",
   "execution_count": 19,
   "id": "1077f0ee",
   "metadata": {},
   "outputs": [
    {
     "name": "stdout",
     "output_type": "stream",
     "text": [
      "Three...\n",
      "Two...\n",
      "One...\n",
      "Happy New Year!\n"
     ]
    }
   ],
   "source": [
    "happy_new_year()"
   ]
  },
  {
   "cell_type": "code",
   "execution_count": 21,
   "id": "140d4b55",
   "metadata": {},
   "outputs": [
    {
     "name": "stdout",
     "output_type": "stream",
     "text": [
      "count\n",
      "Three...\n",
      "Two...\n",
      "One...\n",
      "finish\n"
     ]
    }
   ],
   "source": [
    "print('count')\n",
    "happy_new_year(False)\n",
    "print('finish')"
   ]
  },
  {
   "cell_type": "code",
   "execution_count": 22,
   "id": "3794f5a0",
   "metadata": {},
   "outputs": [
    {
     "name": "stdout",
     "output_type": "stream",
     "text": [
      "The boring_function has returned its result. It's: 123\n"
     ]
    }
   ],
   "source": [
    "def boring_function():\n",
    "    return 123\n",
    "\n",
    "x = boring_function()\n",
    "\n",
    "print(\"The boring_function has returned its result. It's:\", x)\n"
   ]
  },
  {
   "cell_type": "code",
   "execution_count": 23,
   "id": "120ee3d7",
   "metadata": {},
   "outputs": [
    {
     "name": "stdout",
     "output_type": "stream",
     "text": [
      "This lesson is interesting!\n",
      "'Boredom Mode' ON.\n",
      "This lesson is boring...\n"
     ]
    }
   ],
   "source": [
    "def boring_function():\n",
    "    print(\"'Boredom Mode' ON.\")\n",
    "    return 123\n",
    "\n",
    "print(\"This lesson is interesting!\")\n",
    "boring_function()\n",
    "print(\"This lesson is boring...\")\n",
    "\n"
   ]
  },
  {
   "cell_type": "code",
   "execution_count": 24,
   "id": "5f2b8091",
   "metadata": {},
   "outputs": [
    {
     "name": "stdout",
     "output_type": "stream",
     "text": [
      "'Boredom Mode' ON.\n",
      "None\n"
     ]
    }
   ],
   "source": [
    "def boring_function():\n",
    "    print(\"'Boredom Mode' ON.\")\n",
    "    return \n",
    "a = boring_function()\n",
    "print(a)"
   ]
  },
  {
   "cell_type": "code",
   "execution_count": 25,
   "id": "9e976025",
   "metadata": {},
   "outputs": [
    {
     "ename": "TypeError",
     "evalue": "unsupported operand type(s) for +: 'NoneType' and 'int'",
     "output_type": "error",
     "traceback": [
      "\u001b[1;31m---------------------------------------------------------------------------\u001b[0m",
      "\u001b[1;31mTypeError\u001b[0m                                 Traceback (most recent call last)",
      "\u001b[1;32m~\\AppData\\Local\\Temp/ipykernel_13104/804407843.py\u001b[0m in \u001b[0;36m<module>\u001b[1;34m\u001b[0m\n\u001b[1;32m----> 1\u001b[1;33m \u001b[0mprint\u001b[0m\u001b[1;33m(\u001b[0m\u001b[1;32mNone\u001b[0m \u001b[1;33m+\u001b[0m \u001b[1;36m2\u001b[0m\u001b[1;33m)\u001b[0m\u001b[1;33m\u001b[0m\u001b[1;33m\u001b[0m\u001b[0m\n\u001b[0m",
      "\u001b[1;31mTypeError\u001b[0m: unsupported operand type(s) for +: 'NoneType' and 'int'"
     ]
    }
   ],
   "source": [
    "print(None + 2)\n"
   ]
  },
  {
   "cell_type": "code",
   "execution_count": 26,
   "id": "ec7aa196",
   "metadata": {},
   "outputs": [
    {
     "name": "stdout",
     "output_type": "stream",
     "text": [
      "Sorry, you don't carry any value\n"
     ]
    }
   ],
   "source": [
    "value = None\n",
    "if value is None:\n",
    "    print(\"Sorry, you don't carry any value\")\n",
    "\n"
   ]
  },
  {
   "cell_type": "code",
   "execution_count": 27,
   "id": "0cb1e4a8",
   "metadata": {},
   "outputs": [
    {
     "name": "stdout",
     "output_type": "stream",
     "text": [
      "True\n",
      "None\n"
     ]
    }
   ],
   "source": [
    "def strange_function(n):\n",
    "    if(n % 2 == 0):\n",
    "        return True\n",
    "print(strange_function(2))\n",
    "print(strange_function(1))\n",
    "    "
   ]
  },
  {
   "cell_type": "code",
   "execution_count": 29,
   "id": "c70e2c4e",
   "metadata": {},
   "outputs": [
    {
     "name": "stdout",
     "output_type": "stream",
     "text": [
      "None\n",
      "None\n"
     ]
    }
   ],
   "source": [
    "def strange_function(n):\n",
    "    pass\n",
    "print(strange_function(1))\n",
    "print(strange_function(2))"
   ]
  },
  {
   "cell_type": "code",
   "execution_count": 30,
   "id": "532186c2",
   "metadata": {},
   "outputs": [
    {
     "name": "stdout",
     "output_type": "stream",
     "text": [
      "14\n"
     ]
    }
   ],
   "source": [
    "lst = [3,5,6]\n",
    "def list_sum(lst):\n",
    "    s = 0\n",
    "    for elem in lst:\n",
    "        s = s+elem\n",
    "    return s\n",
    "print(list_sum(lst))"
   ]
  },
  {
   "cell_type": "code",
   "execution_count": 31,
   "id": "090d1d31",
   "metadata": {},
   "outputs": [
    {
     "name": "stdout",
     "output_type": "stream",
     "text": [
      "29\n"
     ]
    }
   ],
   "source": [
    "print(list_sum([2,3,4,5,7,8]))"
   ]
  },
  {
   "cell_type": "code",
   "execution_count": 32,
   "id": "8b62535b",
   "metadata": {},
   "outputs": [
    {
     "name": "stdout",
     "output_type": "stream",
     "text": [
      "2\n"
     ]
    }
   ],
   "source": [
    "print(list_sum([2]))"
   ]
  },
  {
   "cell_type": "code",
   "execution_count": 35,
   "id": "80c22ed1",
   "metadata": {},
   "outputs": [
    {
     "ename": "TypeError",
     "evalue": "'int' object is not iterable",
     "output_type": "error",
     "traceback": [
      "\u001b[1;31m---------------------------------------------------------------------------\u001b[0m",
      "\u001b[1;31mTypeError\u001b[0m                                 Traceback (most recent call last)",
      "\u001b[1;32m~\\AppData\\Local\\Temp/ipykernel_13104/1143759834.py\u001b[0m in \u001b[0;36m<module>\u001b[1;34m\u001b[0m\n\u001b[1;32m----> 1\u001b[1;33m \u001b[0mprint\u001b[0m\u001b[1;33m(\u001b[0m\u001b[0mlist_sum\u001b[0m\u001b[1;33m(\u001b[0m\u001b[1;36m5\u001b[0m\u001b[1;33m)\u001b[0m\u001b[1;33m)\u001b[0m\u001b[1;33m\u001b[0m\u001b[1;33m\u001b[0m\u001b[0m\n\u001b[0m",
      "\u001b[1;32m~\\AppData\\Local\\Temp/ipykernel_13104/291178018.py\u001b[0m in \u001b[0;36mlist_sum\u001b[1;34m(lst)\u001b[0m\n\u001b[0;32m      2\u001b[0m \u001b[1;32mdef\u001b[0m \u001b[0mlist_sum\u001b[0m\u001b[1;33m(\u001b[0m\u001b[0mlst\u001b[0m\u001b[1;33m)\u001b[0m\u001b[1;33m:\u001b[0m\u001b[1;33m\u001b[0m\u001b[1;33m\u001b[0m\u001b[0m\n\u001b[0;32m      3\u001b[0m     \u001b[0ms\u001b[0m \u001b[1;33m=\u001b[0m \u001b[1;36m0\u001b[0m\u001b[1;33m\u001b[0m\u001b[1;33m\u001b[0m\u001b[0m\n\u001b[1;32m----> 4\u001b[1;33m     \u001b[1;32mfor\u001b[0m \u001b[0melem\u001b[0m \u001b[1;32min\u001b[0m \u001b[0mlst\u001b[0m\u001b[1;33m:\u001b[0m\u001b[1;33m\u001b[0m\u001b[1;33m\u001b[0m\u001b[0m\n\u001b[0m\u001b[0;32m      5\u001b[0m         \u001b[0ms\u001b[0m \u001b[1;33m=\u001b[0m \u001b[0ms\u001b[0m\u001b[1;33m+\u001b[0m\u001b[0melem\u001b[0m\u001b[1;33m\u001b[0m\u001b[1;33m\u001b[0m\u001b[0m\n\u001b[0;32m      6\u001b[0m     \u001b[1;32mreturn\u001b[0m \u001b[0ms\u001b[0m\u001b[1;33m\u001b[0m\u001b[1;33m\u001b[0m\u001b[0m\n",
      "\u001b[1;31mTypeError\u001b[0m: 'int' object is not iterable"
     ]
    }
   ],
   "source": [
    "print(list_sum(5))"
   ]
  },
  {
   "cell_type": "code",
   "execution_count": 36,
   "id": "1557a398",
   "metadata": {},
   "outputs": [
    {
     "name": "stdout",
     "output_type": "stream",
     "text": [
      "0\n"
     ]
    }
   ],
   "source": [
    "print(list_sum([]))"
   ]
  },
  {
   "cell_type": "code",
   "execution_count": 37,
   "id": "915616b9",
   "metadata": {},
   "outputs": [
    {
     "name": "stdout",
     "output_type": "stream",
     "text": [
      "[4, 3, 2, 1, 0]\n"
     ]
    }
   ],
   "source": [
    "def strange_list_fun(n):\n",
    "    strange_list = []\n",
    "    \n",
    "    for i in range(0, n):\n",
    "        strange_list.insert(0, i)\n",
    "    \n",
    "    return strange_list\n",
    "\n",
    "print(strange_list_fun(5))"
   ]
  },
  {
   "cell_type": "code",
   "execution_count": 38,
   "id": "9aca68c8",
   "metadata": {},
   "outputs": [
    {
     "name": "stdout",
     "output_type": "stream",
     "text": [
      "[0, 1, 2, 3, 4, 5, 6, 7, 8, 9]\n"
     ]
    }
   ],
   "source": [
    "def relist(n):\n",
    "    l=[]\n",
    "    for i in range(n):\n",
    "        l.append(i)\n",
    "    return l\n",
    "a = relist(10)\n",
    "print(a)"
   ]
  },
  {
   "cell_type": "code",
   "execution_count": 44,
   "id": "5bc6dddb",
   "metadata": {},
   "outputs": [
    {
     "name": "stdout",
     "output_type": "stream",
     "text": [
      "False\n"
     ]
    }
   ],
   "source": [
    "year =2001\n",
    "leap_year_True_False = (year%4==0 and year%100!=0)or year%400==0\n",
    "print(leap_year_True_False)"
   ]
  },
  {
   "cell_type": "code",
   "execution_count": 45,
   "id": "8f54eeb4",
   "metadata": {},
   "outputs": [
    {
     "name": "stdout",
     "output_type": "stream",
     "text": [
      "1900 ->OK\n",
      "2000 ->OK\n",
      "2016 ->OK\n",
      "1987 ->OK\n"
     ]
    }
   ],
   "source": [
    "def is_year_leap(year):\n",
    "    leap_year_True_False = (year%4==0 and year%100!=0)or year%400==0\n",
    "    return leap_year_True_False\n",
    "#\n",
    "# put your code here\n",
    "#\n",
    "\n",
    "test_data = [1900, 2000, 2016, 1987]\n",
    "test_results = [False, True, True, False]\n",
    "\n",
    "\n",
    "for i in range(len(test_data)):\n",
    "\tyr = test_data[i]\n",
    "\tprint(yr,\"->\",end=\"\")\n",
    "\tresult = is_year_leap(yr)\n",
    "\tif result == test_results[i]:\n",
    "\t\tprint(\"OK\")\n",
    "\telse:\n",
    "\t\tprint(\"Failed\")\n"
   ]
  },
  {
   "cell_type": "code",
   "execution_count": null,
   "id": "38cb724a",
   "metadata": {},
   "outputs": [],
   "source": [
    "# month with 31 days: 1,3,5,6,8,10,12\n",
    "# 28or29 days : 2\n",
    "# remain month: 10\n",
    "month_31 = [1,3,5,7,8,10,12]\n",
    "month_30 = [4,6,9,11]\n"
   ]
  },
  {
   "cell_type": "code",
   "execution_count": 50,
   "id": "9c53df1a",
   "metadata": {},
   "outputs": [
    {
     "name": "stderr",
     "output_type": "stream",
     "text": [
      "<>:10: SyntaxWarning: \"is\" with a literal. Did you mean \"==\"?\n",
      "<>:10: SyntaxWarning: \"is\" with a literal. Did you mean \"==\"?\n",
      "C:\\Users\\hieub\\AppData\\Local\\Temp/ipykernel_13104/4252152126.py:10: SyntaxWarning: \"is\" with a literal. Did you mean \"==\"?\n",
      "  elif month is 2:\n"
     ]
    }
   ],
   "source": [
    "def is_year_leap(year):\n",
    "    leap_year_True_False = (year%4==0 and year%100!=0)or year%400==0\n",
    "    return leap_year_True_False\n",
    "\n",
    "def days_in_month(year, month):\n",
    "    if month in [1,3,5,7,8,10,12]:\n",
    "        days =31\n",
    "    elif month in [4,6,9,11]:\n",
    "        days = 30\n",
    "    elif month is 2:\n",
    "        if is_year_leap(year):\n",
    "            days =29\n",
    "        else:\n",
    "            days =28\n",
    "    else:\n",
    "        days = None\n",
    "        \n",
    "    return days\n",
    "#\n",
    "# Write your new code here.\n",
    "#"
   ]
  },
  {
   "cell_type": "code",
   "execution_count": 51,
   "id": "4627aceb",
   "metadata": {},
   "outputs": [
    {
     "name": "stdout",
     "output_type": "stream",
     "text": [
      "1900 2 ->OK days 28\n",
      "2000 2 ->OK days 29\n",
      "2016 1 ->OK days 31\n",
      "1987 11 ->OK days 30\n",
      "2022 4 ->OK days 30\n"
     ]
    }
   ],
   "source": [
    "test_years = [1900, 2000, 2016, 1987,2022]\n",
    "test_months = [2, 2, 1, 11,4]\n",
    "test_results = [28, 29, 31, 30,30]\n",
    "for i in range(len(test_years)):\n",
    "\tyr = test_years[i]\n",
    "\tmo = test_months[i]\n",
    "\tprint(yr, mo, \"->\", end=\"\")\n",
    "\tresult = days_in_month(yr, mo)\n",
    "\tif result == test_results[i]:\n",
    "\t\tprint(\"OK\",'days',result)\n",
    "        \n",
    "\telse:\n",
    "\t\tprint(\"Failed\")\n"
   ]
  },
  {
   "cell_type": "code",
   "execution_count": 70,
   "id": "9e65b5ae",
   "metadata": {},
   "outputs": [
    {
     "name": "stdout",
     "output_type": "stream",
     "text": [
      "Wrong day in month\n",
      "None\n"
     ]
    }
   ],
   "source": [
    "import warnings\n",
    "warnings.filterwarnings('ignore')\n",
    "\n",
    "def is_year_leap(year):\n",
    "    leap_year_True_False = (year%4==0 and year%100!=0)or year%400==0\n",
    "    return leap_year_True_False\n",
    "\n",
    "def days_in_month(year, month):\n",
    "    if month in [1,3,5,7,8,10,12]:\n",
    "        days =31\n",
    "    elif month in [4,6,9,11]:\n",
    "        days = 30\n",
    "    elif month is 2:\n",
    "        if is_year_leap(year):\n",
    "            days =29\n",
    "        else:\n",
    "            days =28\n",
    "    else:\n",
    "        days = None\n",
    "        \n",
    "    return days\n",
    "def day_of_year(year, month, day):\n",
    "    sum_days =0\n",
    "    if day >days_in_month(year, month):\n",
    "        print('Wrong day in month')\n",
    "        return None\n",
    "    for i in range(1,month):\n",
    "        days_in_m=days_in_month(year, i)\n",
    "        \n",
    "        sum_days = sum_days + days_in_m\n",
    "    \n",
    "    sum_days+=day\n",
    "    \n",
    "    return sum_days\n",
    "\n",
    "\n",
    "print(day_of_year(2022, 4, 31))\n"
   ]
  },
  {
   "cell_type": "code",
   "execution_count": 71,
   "id": "67b3d4d7",
   "metadata": {},
   "outputs": [
    {
     "name": "stdout",
     "output_type": "stream",
     "text": [
      "2 3 5 7 11 13 17 19 \n"
     ]
    }
   ],
   "source": [
    "def is_prime(num):\n",
    "    if num ==2 or num==3:\n",
    "        return True\n",
    "    if num%2==0:\n",
    "        return False\n",
    "    else:\n",
    "        for i in range(3, int(num**(1/2)+1)):\n",
    "            if num%i ==0:\n",
    "                return False\n",
    "    return True \n",
    "\n",
    "\n",
    "for i in range(1, 20):\n",
    "\tif is_prime(i + 1):\n",
    "\t\t\tprint(i + 1, end=\" \")\n",
    "print()\n"
   ]
  },
  {
   "cell_type": "code",
   "execution_count": 73,
   "id": "0bd557fb",
   "metadata": {},
   "outputs": [
    {
     "name": "stdout",
     "output_type": "stream",
     "text": [
      "2 3 5 7 11 13 17 19 \n"
     ]
    }
   ],
   "source": [
    "def is_prime(num):\n",
    "    if num ==2 or num==3:\n",
    "        return True\n",
    "    if num%2==0:\n",
    "        return False\n",
    "    else:\n",
    "        for i in range(3, num):\n",
    "            if num%i ==0:\n",
    "                return False\n",
    "    return True \n",
    "\n",
    "\n",
    "for i in range(1, 20):\n",
    "\tif is_prime(i + 1):\n",
    "\t\t\tprint(i + 1, end=\" \")\n",
    "print()\n"
   ]
  },
  {
   "cell_type": "code",
   "execution_count": 74,
   "id": "502573f9",
   "metadata": {},
   "outputs": [
    {
     "name": "stdout",
     "output_type": "stream",
     "text": [
      "14.763105957599999\n",
      "28.39058838\n",
      "37.85411784\n",
      "97043.4432\n",
      "50533.4016\n",
      "37819.584\n"
     ]
    }
   ],
   "source": [
    "def liters_100km_to_miles_gallon(liters)\n",
    ":\n",
    "#3.785411784*liters\n",
    "#\n",
    "# Write your code here.\n",
    "#\n",
    "\n",
    "def miles_gallon_to_liters_100km(miles):\n",
    "#return 1609.344*miles\n",
    "#\n",
    "# Write your code here\n",
    "#\n",
    "\n",
    "print(liters_100km_to_miles_gallon(3.9))\n",
    "print(liters_100km_to_miles_gallon(7.5))\n",
    "print(liters_100km_to_miles_gallon(10.))\n",
    "print(miles_gallon_to_liters_100km(60.3))\n",
    "print(miles_gallon_to_liters_100km(31.4))\n",
    "print(miles_gallon_to_liters_100km(23.5))\n"
   ]
  },
  {
   "cell_type": "code",
   "execution_count": 1,
   "id": "ce638329",
   "metadata": {},
   "outputs": [
    {
     "ename": "NameError",
     "evalue": "name 'x' is not defined",
     "output_type": "error",
     "traceback": [
      "\u001b[1;31m---------------------------------------------------------------------------\u001b[0m",
      "\u001b[1;31mNameError\u001b[0m                                 Traceback (most recent call last)",
      "\u001b[1;32m~\\AppData\\Local\\Temp/ipykernel_15328/3980610983.py\u001b[0m in \u001b[0;36m<module>\u001b[1;34m\u001b[0m\n\u001b[0;32m      4\u001b[0m \u001b[1;33m\u001b[0m\u001b[0m\n\u001b[0;32m      5\u001b[0m \u001b[0mscope_test\u001b[0m\u001b[1;33m(\u001b[0m\u001b[1;33m)\u001b[0m\u001b[1;33m\u001b[0m\u001b[1;33m\u001b[0m\u001b[0m\n\u001b[1;32m----> 6\u001b[1;33m \u001b[0mprint\u001b[0m\u001b[1;33m(\u001b[0m\u001b[0mx\u001b[0m\u001b[1;33m)\u001b[0m\u001b[1;33m\u001b[0m\u001b[1;33m\u001b[0m\u001b[0m\n\u001b[0m",
      "\u001b[1;31mNameError\u001b[0m: name 'x' is not defined"
     ]
    }
   ],
   "source": [
    "def scope_test():\n",
    "    x = 123\n",
    "\n",
    "\n",
    "scope_test()\n",
    "print(x)\n"
   ]
  },
  {
   "cell_type": "code",
   "execution_count": 2,
   "id": "7c588d56",
   "metadata": {},
   "outputs": [
    {
     "name": "stdout",
     "output_type": "stream",
     "text": [
      "Do I know that variable? 1\n",
      "1\n"
     ]
    }
   ],
   "source": [
    "\n",
    "def my_function():\n",
    "    print(\"Do I know that variable?\", var)\n",
    "\n",
    "\n",
    "var = 1\n",
    "my_function()\n",
    "print(var)"
   ]
  },
  {
   "cell_type": "code",
   "execution_count": null,
   "id": "f1db8d06",
   "metadata": {},
   "outputs": [],
   "source": [
    "# EX: Write a function with no input  \n",
    "# and do the following things:\n",
    "# A. Ask user to input continuously a name of user, a name of product and a comment of that user about product\n",
    "# until they input username is blank\n",
    "# B. Each input of username, productname, comment add three list (CustomerName, ProductName, and Comment) \n"
   ]
  }
 ],
 "metadata": {
  "kernelspec": {
   "display_name": "Python 3 (ipykernel)",
   "language": "python",
   "name": "python3"
  },
  "language_info": {
   "codemirror_mode": {
    "name": "ipython",
    "version": 3
   },
   "file_extension": ".py",
   "mimetype": "text/x-python",
   "name": "python",
   "nbconvert_exporter": "python",
   "pygments_lexer": "ipython3",
   "version": "3.9.5"
  }
 },
 "nbformat": 4,
 "nbformat_minor": 5
}
