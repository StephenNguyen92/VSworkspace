{
 "cells": [
  {
   "cell_type": "code",
   "execution_count": null,
   "id": "04262a4b",
   "metadata": {},
   "outputs": [],
   "source": [
    "#__int__.py"
   ]
  },
  {
   "cell_type": "code",
   "execution_count": 1,
   "id": "d6814c45",
   "metadata": {},
   "outputs": [],
   "source": [
    "from sys import path\n",
    "path.append('G:/My Drive/BKACAD/ipynb/extra')"
   ]
  },
  {
   "cell_type": "code",
   "execution_count": 2,
   "id": "6bd17766",
   "metadata": {},
   "outputs": [
    {
     "name": "stdout",
     "output_type": "stream",
     "text": [
      "extra.iota\n",
      "Iota\n"
     ]
    }
   ],
   "source": [
    "import extra.iota\n",
    "print(extra.iota.funI())"
   ]
  },
  {
   "cell_type": "code",
   "execution_count": 3,
   "id": "fbd6f4ca",
   "metadata": {},
   "outputs": [
    {
     "name": "stdout",
     "output_type": "stream",
     "text": [
      "Iota\n"
     ]
    }
   ],
   "source": [
    "from extra.iota import funI\n",
    "print(funI())"
   ]
  },
  {
   "cell_type": "code",
   "execution_count": 3,
   "id": "5244f27d",
   "metadata": {},
   "outputs": [
    {
     "name": "stdout",
     "output_type": "stream",
     "text": [
      "I prefer to be a module.\n",
      "__main__\n"
     ]
    }
   ],
   "source": [
    "%run extra\\iota.py"
   ]
  },
  {
   "cell_type": "code",
   "execution_count": 4,
   "id": "a03a1318",
   "metadata": {},
   "outputs": [
    {
     "name": "stdout",
     "output_type": "stream",
     "text": [
      "Sigma\n",
      "Tau\n"
     ]
    }
   ],
   "source": [
    "import extra.good.best.sigma\n",
    "from extra.good.best.tau import funT\n",
    "\n",
    "print(extra.good.best.sigma.funS())\n",
    "print(funT())\n",
    "\n"
   ]
  },
  {
   "cell_type": "code",
   "execution_count": 5,
   "id": "3cf0a2b7",
   "metadata": {},
   "outputs": [
    {
     "name": "stdout",
     "output_type": "stream",
     "text": [
      "Tau\n"
     ]
    }
   ],
   "source": [
    "import extra.good.best.sigma\n",
    "import extra.good.best.tau as t\n",
    "\n",
    "print(t.funT())\n"
   ]
  },
  {
   "cell_type": "code",
   "execution_count": 1,
   "id": "70422fe8",
   "metadata": {},
   "outputs": [],
   "source": [
    "from sys import path\n",
    "path.append('G:/My Drive/BKACAD/ipynb/extra.rar')"
   ]
  },
  {
   "cell_type": "code",
   "execution_count": 2,
   "id": "3b5e7f68",
   "metadata": {},
   "outputs": [
    {
     "name": "stdout",
     "output_type": "stream",
     "text": [
      "extra.iota\n",
      "Iota\n"
     ]
    }
   ],
   "source": [
    "import extra.iota\n",
    "print(extra.iota.funI())"
   ]
  },
  {
   "cell_type": "code",
   "execution_count": 3,
   "id": "d1f01fe6",
   "metadata": {},
   "outputs": [
    {
     "name": "stdout",
     "output_type": "stream",
     "text": [
      "Requirement already satisfied: pygame in c:\\users\\hieub\\miniconda3\\lib\\site-packages (2.1.2)\n",
      "Note: you may need to restart the kernel to use updated packages.\n"
     ]
    }
   ],
   "source": [
    "pip install pygame"
   ]
  },
  {
   "cell_type": "code",
   "execution_count": 4,
   "id": "c5299b68",
   "metadata": {},
   "outputs": [
    {
     "name": "stdout",
     "output_type": "stream",
     "text": [
      "Name: pygame\n",
      "Version: 2.1.2\n",
      "Summary: Python Game Development\n",
      "Home-page: https://www.pygame.org\n",
      "Author: A community project.\n",
      "Author-email: pygame@pygame.org\n",
      "License: LGPL\n",
      "Location: c:\\users\\hieub\\miniconda3\\lib\\site-packages\n",
      "Requires: \n",
      "Required-by: \n",
      "Note: you may need to restart the kernel to use updated packages.\n"
     ]
    }
   ],
   "source": [
    "pip show pygame"
   ]
  },
  {
   "cell_type": "code",
   "execution_count": 5,
   "id": "cce6531d",
   "metadata": {},
   "outputs": [
    {
     "name": "stdout",
     "output_type": "stream",
     "text": [
      "Package                       Version\n",
      "----------------------------- -------------------\n",
      "absl-py                       1.0.0\n",
      "algopy                        0.5.7\n",
      "argon2-cffi                   21.1.0\n",
      "astunparse                    1.6.3\n",
      "async-generator               1.10\n",
      "atomicwrites                  1.4.0\n",
      "attrs                         21.2.0\n",
      "backcall                      0.2.0\n",
      "backports.functools-lru-cache 1.6.4\n",
      "bleach                        4.1.0\n",
      "bokeh                         2.4.2\n",
      "brotlipy                      0.7.0\n",
      "cachetools                    4.2.4\n",
      "certifi                       2021.10.8\n",
      "cffi                          1.14.6\n",
      "chardet                       3.0.4Note: you may need to restart the kernel to use updated packages.\n",
      "\n",
      "colorama                      0.4.4\n",
      "conda                         4.11.0\n",
      "conda-package-handling        1.7.3\n",
      "cryptography                  3.4.7\n",
      "cycler                        0.11.0\n",
      "debugpy                       1.5.1\n",
      "decorator                     5.1.0\n",
      "defusedxml                    0.7.1\n",
      "entrypoints                   0.3\n",
      "et-xmlfile                    1.1.0\n",
      "flatbuffers                   2.0\n",
      "fonttools                     4.28.3\n",
      "gast                          0.4.0\n",
      "gitdb                         4.0.9\n",
      "GitPython                     3.1.24\n",
      "google-auth                   2.3.3\n",
      "google-auth-oauthlib          0.4.6\n",
      "google-pasta                  0.2.0\n",
      "googletrans                   3.0.0\n",
      "googletranslate               2.1.2\n",
      "grpcio                        1.43.0\n",
      "h11                           0.9.0\n",
      "h2                            3.2.0\n",
      "h5py                          3.6.0\n",
      "hpack                         3.0.0\n",
      "hstspreload                   2021.12.1\n",
      "httpcore                      0.9.1\n",
      "httpx                         0.13.3\n",
      "hyperframe                    5.2.0\n",
      "idna                          2.10\n",
      "imageio                       2.13.3\n",
      "importlib-metadata            4.8.2\n",
      "importlib-resources           5.4.0\n",
      "iniconfig                     1.1.1\n",
      "ipykernel                     6.6.0\n",
      "ipython                       7.30.1\n",
      "ipython-genutils              0.2.0\n",
      "ipywidgets                    7.6.5\n",
      "jedi                          0.18.1\n",
      "Jinja2                        3.0.3\n",
      "joblib                        1.1.0\n",
      "jsonschema                    4.2.1\n",
      "jupyter                       1.0.0\n",
      "jupyter-client                7.1.0\n",
      "jupyter-console               6.4.0\n",
      "jupyter-core                  4.9.1\n",
      "jupyterlab-pygments           0.1.2\n",
      "jupyterlab-widgets            1.0.2\n",
      "keras                         2.7.0\n",
      "Keras-Preprocessing           1.1.2\n",
      "kiwisolver                    1.3.2\n",
      "libclang                      12.0.0\n",
      "lxml                          4.7.0\n",
      "Markdown                      3.3.6\n",
      "MarkupSafe                    2.0.1\n",
      "matplotlib                    3.5.0\n",
      "matplotlib-inline             0.1.3\n",
      "menuinst                      1.4.16\n",
      "mistune                       0.8.4\n",
      "msoffcrypto-tool              4.12.0\n",
      "natsort                       8.0.2\n",
      "nbclient                      0.5.9\n",
      "nbconvert                     6.3.0\n",
      "nbformat                      5.1.3\n",
      "nest-asyncio                  1.5.4\n",
      "networkx                      2.6.3\n",
      "notebook                      6.4.6\n",
      "numdifftools                  0.9.40\n",
      "numpy                         1.21.4\n",
      "oauthlib                      3.1.1\n",
      "olefile                       0.46\n",
      "opencv-python                 4.5.4.60\n",
      "OpenPIV                       0.23.8\n",
      "openpyxl                      3.0.9\n",
      "opt-einsum                    3.3.0\n",
      "packaging                     21.3\n",
      "pandas                        1.3.4\n",
      "pandas-datareader             0.10.0\n",
      "pandocfilters                 1.5.0\n",
      "parso                         0.8.3\n",
      "patsy                         0.5.2\n",
      "pickleshare                   0.7.5\n",
      "Pillow                        8.4.0\n",
      "pip                           21.1.3\n",
      "pluggy                        1.0.0\n",
      "prometheus-client             0.12.0\n",
      "prompt-toolkit                3.0.24\n",
      "protobuf                      3.19.1\n",
      "py                            1.11.0\n",
      "pyasn1                        0.4.8\n",
      "pyasn1-modules                0.2.8\n",
      "pycosat                       0.6.3\n",
      "pycparser                     2.20\n",
      "pygame                        2.1.2\n",
      "Pygments                      2.10.0\n",
      "pyOpenSSL                     20.0.1\n",
      "pyparsing                     3.0.6\n",
      "pyrsistent                    0.18.0\n",
      "PySocks                       1.7.1\n",
      "pytest                        6.2.5\n",
      "python-dateutil               2.8.2\n",
      "pytz                          2021.3\n",
      "PyWavelets                    1.2.0\n",
      "pywin32                       228\n",
      "pywinpty                      0.5.7\n",
      "PyYAML                        6.0\n",
      "pyzmq                         22.3.0\n",
      "qtconsole                     5.2.2\n",
      "QtPy                          2.0.0\n",
      "requests                      2.25.1\n",
      "requests-oauthlib             1.3.0\n",
      "rfc3986                       1.5.0\n",
      "rsa                           4.8\n",
      "ruamel-yaml-conda             0.15.100\n",
      "scikit-image                  0.19.0\n",
      "scikit-learn                  1.0.1\n",
      "scipy                         1.7.3\n",
      "seaborn                       0.11.2\n",
      "Send2Trash                    1.8.0\n",
      "setuptools                    52.0.0.post20210125\n",
      "setuptools-scm                6.3.2\n",
      "six                           1.16.0\n",
      "sklearn                       0.0\n",
      "smmap                         5.0.0\n",
      "sniffio                       1.2.0\n",
      "statsmodels                   0.13.1\n",
      "tensorboard                   2.7.0\n",
      "tensorboard-data-server       0.6.1\n",
      "tensorboard-plugin-wit        1.8.0\n",
      "tensorflow                    2.7.0\n",
      "tensorflow-estimator          2.7.0\n",
      "tensorflow-io-gcs-filesystem  0.23.1\n",
      "termcolor                     1.1.0\n",
      "terminado                     0.9.4\n",
      "testpath                      0.5.0\n",
      "threadpoolctl                 3.0.0\n",
      "tifffile                      2021.11.2\n",
      "toml                          0.10.2\n",
      "tomli                         1.2.2\n",
      "tornado                       6.1\n",
      "tqdm                          4.61.2\n",
      "traitlets                     5.1.1\n",
      "typing-extensions             4.0.1\n",
      "urllib3                       1.26.6\n",
      "watermark                     2.2.0\n",
      "wcwidth                       0.2.5\n",
      "webencodings                  0.5.1\n",
      "Werkzeug                      2.0.2\n",
      "wheel                         0.36.2\n",
      "widgetsnbextension            3.5.2\n",
      "win-inet-pton                 1.1.0\n",
      "wincertstore                  0.2\n",
      "wrapt                         1.13.3\n",
      "zipp                          3.6.0\n"
     ]
    }
   ],
   "source": [
    "pip list\n"
   ]
  },
  {
   "cell_type": "code",
   "execution_count": 6,
   "id": "59bbc38f",
   "metadata": {},
   "outputs": [
    {
     "name": "stdout",
     "output_type": "stream",
     "text": [
      "pygame 2.1.2 (SDL 2.0.18, Python 3.9.5)\n",
      "Hello from the pygame community. https://www.pygame.org/contribute.html\n"
     ]
    },
    {
     "ename": "KeyboardInterrupt",
     "evalue": "",
     "output_type": "error",
     "traceback": [
      "\u001b[1;31m---------------------------------------------------------------------------\u001b[0m",
      "\u001b[1;31mKeyboardInterrupt\u001b[0m                         Traceback (most recent call last)",
      "\u001b[1;32m~\\AppData\\Local\\Temp/ipykernel_2768/3037271079.py\u001b[0m in \u001b[0;36m<module>\u001b[1;34m\u001b[0m\n\u001b[0;32m     11\u001b[0m \u001b[0mpygame\u001b[0m\u001b[1;33m.\u001b[0m\u001b[0mdisplay\u001b[0m\u001b[1;33m.\u001b[0m\u001b[0mflip\u001b[0m\u001b[1;33m(\u001b[0m\u001b[1;33m)\u001b[0m\u001b[1;33m\u001b[0m\u001b[1;33m\u001b[0m\u001b[0m\n\u001b[0;32m     12\u001b[0m \u001b[1;32mwhile\u001b[0m \u001b[0mrun\u001b[0m\u001b[1;33m:\u001b[0m\u001b[1;33m\u001b[0m\u001b[1;33m\u001b[0m\u001b[0m\n\u001b[1;32m---> 13\u001b[1;33m     \u001b[1;32mfor\u001b[0m \u001b[0mevent\u001b[0m \u001b[1;32min\u001b[0m \u001b[0mpygame\u001b[0m\u001b[1;33m.\u001b[0m\u001b[0mevent\u001b[0m\u001b[1;33m.\u001b[0m\u001b[0mget\u001b[0m\u001b[1;33m(\u001b[0m\u001b[1;33m)\u001b[0m\u001b[1;33m:\u001b[0m\u001b[1;33m\u001b[0m\u001b[1;33m\u001b[0m\u001b[0m\n\u001b[0m\u001b[0;32m     14\u001b[0m         \u001b[1;32mif\u001b[0m \u001b[0mevent\u001b[0m\u001b[1;33m.\u001b[0m\u001b[0mtype\u001b[0m \u001b[1;33m==\u001b[0m \u001b[0mpygame\u001b[0m\u001b[1;33m.\u001b[0m\u001b[0mQUIT\u001b[0m\u001b[0;31m\\\u001b[0m\u001b[1;33m\u001b[0m\u001b[1;33m\u001b[0m\u001b[0m\n\u001b[0;32m     15\u001b[0m         \u001b[1;32mor\u001b[0m \u001b[0mevent\u001b[0m\u001b[1;33m.\u001b[0m\u001b[0mtype\u001b[0m \u001b[1;33m==\u001b[0m \u001b[0mpygame\u001b[0m\u001b[1;33m.\u001b[0m\u001b[0mMOUSEBUTTONUP\u001b[0m\u001b[0;31m\\\u001b[0m\u001b[1;33m\u001b[0m\u001b[1;33m\u001b[0m\u001b[0m\n",
      "\u001b[1;31mKeyboardInterrupt\u001b[0m: "
     ]
    }
   ],
   "source": [
    "import pygame\n",
    "\n",
    "run = True\n",
    "width = 400\n",
    "height = 100\n",
    "pygame.init()\n",
    "screen = pygame.display.set_mode((width, height))\n",
    "font = pygame.font.SysFont(None, 48)\n",
    "text = font.render(\"Welcome to pygame\", True, (255, 255, 255))\n",
    "screen.blit(text, ((width - text.get_width()) // 2, (height - text.get_height()) // 2))\n",
    "pygame.display.flip()\n",
    "while run:\n",
    "    for event in pygame.event.get():\n",
    "        if event.type == pygame.QUIT\\\n",
    "        or event.type == pygame.MOUSEBUTTONUP\\\n",
    "        or event.type == pygame.KEYUP:\n",
    "            run = False\n"
   ]
  },
  {
   "cell_type": "code",
   "execution_count": 7,
   "id": "5ad36bd7",
   "metadata": {},
   "outputs": [],
   "source": [
    "import pygame\n",
    "\n",
    "run = True\n",
    "width = 400\n",
    "height = 100\n",
    "pygame.init()\n",
    "screen = pygame.display.set_mode((width, height))\n",
    "font = pygame.font.SysFont(None, 48)\n",
    "text = font.render(\"Welcome to pygame\", True, (255, 255, 255))\n",
    "screen.blit(text, ((width - text.get_width()) // 2, (height - text.get_height()) // 2))\n",
    "pygame.display.flip()\n",
    "while run:\n",
    "    for event in pygame.event.get():\n",
    "        if event.type == pygame.QUIT\\\n",
    "        or event.type == pygame.MOUSEBUTTONUP\\\n",
    "        or event.type == pygame.KEYUP:\n",
    "            run = False\n"
   ]
  },
  {
   "cell_type": "code",
   "execution_count": 1,
   "id": "8dc997f2",
   "metadata": {},
   "outputs": [
    {
     "name": "stdout",
     "output_type": "stream",
     "text": [
      "Requirement already satisfied: pygame in c:\\users\\hieub\\miniconda3\\lib\\site-packages (2.1.2)\n",
      "Note: you may need to restart the kernel to use updated packages.\n"
     ]
    }
   ],
   "source": [
    "pip install -U pygame"
   ]
  },
  {
   "cell_type": "code",
   "execution_count": 2,
   "id": "b42d56de",
   "metadata": {},
   "outputs": [
    {
     "name": "stdout",
     "output_type": "stream",
     "text": [
      "Collecting pygame==1.9.2\n",
      "  Downloading pygame-1.9.2.tar.gz (3.0 MB)\n",
      "Note: you may need to restart the kernel to use updated packages.\n"
     ]
    },
    {
     "name": "stderr",
     "output_type": "stream",
     "text": [
      "    ERROR: Command errored out with exit status 1:\n",
      "     command: 'C:\\Users\\hieub\\miniconda3\\python.exe' -c 'import io, os, sys, setuptools, tokenize; sys.argv[0] = '\"'\"'C:\\\\Users\\\\hieub\\\\AppData\\\\Local\\\\Temp\\\\pip-install-ulmojv7y\\\\pygame_5be64e3b2e704ae6812e87a88f07a7fe\\\\setup.py'\"'\"'; __file__='\"'\"'C:\\\\Users\\\\hieub\\\\AppData\\\\Local\\\\Temp\\\\pip-install-ulmojv7y\\\\pygame_5be64e3b2e704ae6812e87a88f07a7fe\\\\setup.py'\"'\"';f = getattr(tokenize, '\"'\"'open'\"'\"', open)(__file__) if os.path.exists(__file__) else io.StringIO('\"'\"'from setuptools import setup; setup()'\"'\"');code = f.read().replace('\"'\"'\\r\\n'\"'\"', '\"'\"'\\n'\"'\"');f.close();exec(compile(code, __file__, '\"'\"'exec'\"'\"'))' egg_info --egg-base 'C:\\Users\\hieub\\AppData\\Local\\Temp\\pip-pip-egg-info-m0o715yl'\n",
      "         cwd: C:\\Users\\hieub\\AppData\\Local\\Temp\\pip-install-ulmojv7y\\pygame_5be64e3b2e704ae6812e87a88f07a7fe\\\n",
      "    Complete output (34 lines):\n",
      "    \n",
      "    \n",
      "    WARNING, No \"Setup\" File Exists, Running \"config.py\"\n",
      "    Using WINDOWS configuration...\n",
      "    \n",
      "    Path for SDL not found.\n",
      "    Too bad that is a requirement! Hand-fix the \"Setup\"\n",
      "    Path for FONT not found.\n",
      "    Path for IMAGE not found.\n",
      "    Path for MIXER not found.\n",
      "    Path for PNG not found.\n",
      "    Path for JPEG not found.\n",
      "    Path for PORTMIDI not found.\n",
      "    Path for COPYLIB_tiff not found.\n",
      "    Path for COPYLIB_z not found.\n",
      "    Path for COPYLIB_vorbis not found.\n",
      "    Path for COPYLIB_ogg not found.\n",
      "    \n",
      "    If you get compiler errors during install, doublecheck\n",
      "    the compiler flags in the \"Setup\" file.\n",
      "    \n",
      "    Traceback (most recent call last):\n",
      "      File \"<string>\", line 1, in <module>\n",
      "      File \"C:\\Users\\hieub\\AppData\\Local\\Temp\\pip-install-ulmojv7y\\pygame_5be64e3b2e704ae6812e87a88f07a7fe\\setup.py\", line 165, in <module>\n",
      "        extensions = read_setup_file('Setup')\n",
      "      File \"C:\\Users\\hieub\\miniconda3\\lib\\distutils\\extension.py\", line 171, in read_setup_file\n",
      "        line = expand_makefile_vars(line, vars)\n",
      "      File \"C:\\Users\\hieub\\miniconda3\\lib\\distutils\\sysconfig.py\", line 433, in expand_makefile_vars\n",
      "        s = s[0:beg] + vars.get(m.group(1)) + s[end:]\n",
      "    TypeError: can only concatenate str (not \"NoneType\") to str\n",
      "    \n",
      "    Continuing With \"setup.py\"\n",
      "    Error with the \"Setup\" file,\n",
      "    perhaps make a clean copy from \"Setup.in\".\n",
      "    ----------------------------------------\n",
      "WARNING: Discarding https://files.pythonhosted.org/packages/da/b8/b110cdea95452f8f9f9e79d02062fdccaebfd808a667d6d9a805ca8d222a/pygame-1.9.2.tar.gz#sha256=2050c68ff6eba1f801efc14fd1f805aaa3a94936c80ed6725b64a75ca1bce66f (from https://pypi.org/simple/pygame/). Command errored out with exit status 1: python setup.py egg_info Check the logs for full command output.\n",
      "ERROR: Could not find a version that satisfies the requirement pygame==1.9.2 (from versions: 1.9.2rc1, 1.9.2, 1.9.3, 1.9.4.dev0, 1.9.4rc1, 1.9.4, 1.9.5rc1, 1.9.5rc2, 1.9.5, 1.9.6rc1, 1.9.6rc2, 1.9.6, 2.0.0.dev6, 2.0.0.dev12, 2.0.0.dev14, 2.0.0.dev16, 2.0.0.dev18, 2.0.0.dev20, 2.0.0.dev22, 2.0.0.dev24, 2.0.0, 2.0.1.dev1, 2.0.1, 2.0.2.dev4, 2.0.2, 2.0.3.dev2, 2.0.3.dev4, 2.0.3.dev6, 2.0.3, 2.1.0.dev2, 2.1.0, 2.1.1.dev2, 2.1.1.dev4, 2.1.1, 2.1.2, 2.1.3.dev2, 2.1.3.dev4)\n",
      "ERROR: No matching distribution found for pygame==1.9.2\n"
     ]
    }
   ],
   "source": [
    "pip install pygame==1.9.2"
   ]
  },
  {
   "cell_type": "code",
   "execution_count": 3,
   "id": "632a45a4",
   "metadata": {},
   "outputs": [
    {
     "name": "stdout",
     "output_type": "stream",
     "text": [
      "^C\n",
      "Note: you may need to restart the kernel to use updated packages.\n"
     ]
    }
   ],
   "source": [
    "pip uninstall pygame"
   ]
  },
  {
   "cell_type": "code",
   "execution_count": 4,
   "id": "70be791a",
   "metadata": {},
   "outputs": [
    {
     "name": "stdout",
     "output_type": "stream",
     "text": [
      "2\n",
      "0\n",
      "3\n"
     ]
    }
   ],
   "source": [
    "# Example 1\n",
    "\n",
    "word = 'by'\n",
    "print(len(word))\n",
    "\n",
    "\n",
    "# Example 2\n",
    "\n",
    "empty = ''\n",
    "print(len(empty))\n",
    "\n",
    "\n",
    "# Example 3\n",
    "\n",
    "i_am = 'I\\'m'\n",
    "print(len(i_am))"
   ]
  },
  {
   "cell_type": "code",
   "execution_count": 6,
   "id": "15155aaa",
   "metadata": {},
   "outputs": [
    {
     "ename": "SyntaxError",
     "evalue": "EOL while scanning string literal (Temp/ipykernel_12916/2887293872.py, line 1)",
     "output_type": "error",
     "traceback": [
      "\u001b[1;36m  File \u001b[1;32m\"C:\\Users\\hieub\\AppData\\Local\\Temp/ipykernel_12916/2887293872.py\"\u001b[1;36m, line \u001b[1;32m1\u001b[0m\n\u001b[1;33m    multiline = 'Line #1\u001b[0m\n\u001b[1;37m                        ^\u001b[0m\n\u001b[1;31mSyntaxError\u001b[0m\u001b[1;31m:\u001b[0m EOL while scanning string literal\n"
     ]
    }
   ],
   "source": [
    "multiline = 'Line #1\n",
    "Line #2'\n",
    "\n",
    "print(len(multiline))"
   ]
  },
  {
   "cell_type": "code",
   "execution_count": 5,
   "id": "9c9b5a4c",
   "metadata": {},
   "outputs": [
    {
     "name": "stdout",
     "output_type": "stream",
     "text": [
      "15\n"
     ]
    }
   ],
   "source": [
    "multiline = '''Line #1\n",
    "Line #2'''\n",
    "\n",
    "print(len(multiline))\n"
   ]
  },
  {
   "cell_type": "code",
   "execution_count": 9,
   "id": "31aa6b0f",
   "metadata": {},
   "outputs": [
    {
     "name": "stdout",
     "output_type": "stream",
     "text": [
      "15\n"
     ]
    }
   ],
   "source": [
    "multiline = \"\"\"Line #1\n",
    "Line #2\"\"\"\n",
    "\n",
    "print(len(multiline))"
   ]
  },
  {
   "cell_type": "code",
   "execution_count": 8,
   "id": "8da78afc",
   "metadata": {},
   "outputs": [
    {
     "name": "stdout",
     "output_type": "stream",
     "text": [
      "15\n"
     ]
    }
   ],
   "source": [
    "multiline = \"\"\"Line #1\n",
    "Line #2\"\"\"\n",
    "\n",
    "print(len(multiline))\n"
   ]
  },
  {
   "cell_type": "code",
   "execution_count": 12,
   "id": "b35c0625",
   "metadata": {},
   "outputs": [
    {
     "name": "stdout",
     "output_type": "stream",
     "text": [
      "aba\n",
      "aaaaaaaaaa\n"
     ]
    }
   ],
   "source": [
    "str1 = 'a'\n",
    "str2 = 'b'\n",
    "print(str1+str2+str1)\n",
    "print(str1*10)"
   ]
  },
  {
   "cell_type": "code",
   "execution_count": 15,
   "id": "ef9ad213",
   "metadata": {},
   "outputs": [
    {
     "name": "stdout",
     "output_type": "stream",
     "text": [
      "acccccc\n"
     ]
    }
   ],
   "source": [
    "str1+='cc'\n",
    "print(str1)"
   ]
  },
  {
   "cell_type": "code",
   "execution_count": 21,
   "id": "cf29702d",
   "metadata": {},
   "outputs": [
    {
     "name": "stdout",
     "output_type": "stream",
     "text": [
      "945\n"
     ]
    }
   ],
   "source": [
    "print(ord('α'))"
   ]
  },
  {
   "cell_type": "code",
   "execution_count": 24,
   "id": "aedcf5a3",
   "metadata": {},
   "outputs": [
    {
     "name": "stdout",
     "output_type": "stream",
     "text": [
      "βa\n"
     ]
    }
   ],
   "source": [
    "print(chr(946)+'a')"
   ]
  },
  {
   "cell_type": "code",
   "execution_count": 26,
   "id": "efda0498",
   "metadata": {},
   "outputs": [
    {
     "name": "stdout",
     "output_type": "stream",
     "text": [
      "s i l l y   w a l k "
     ]
    },
    {
     "ename": "IndexError",
     "evalue": "string index out of range",
     "output_type": "error",
     "traceback": [
      "\u001b[1;31m---------------------------------------------------------------------------\u001b[0m",
      "\u001b[1;31mIndexError\u001b[0m                                Traceback (most recent call last)",
      "\u001b[1;32m~\\AppData\\Local\\Temp/ipykernel_12916/3778275428.py\u001b[0m in \u001b[0;36m<module>\u001b[1;34m\u001b[0m\n\u001b[0;32m      1\u001b[0m \u001b[0mthe_string\u001b[0m \u001b[1;33m=\u001b[0m\u001b[1;34m'silly walk'\u001b[0m\u001b[1;33m\u001b[0m\u001b[1;33m\u001b[0m\u001b[0m\n\u001b[0;32m      2\u001b[0m \u001b[1;32mfor\u001b[0m \u001b[0mix\u001b[0m \u001b[1;32min\u001b[0m \u001b[0mrange\u001b[0m\u001b[1;33m(\u001b[0m\u001b[0mlen\u001b[0m\u001b[1;33m(\u001b[0m\u001b[0mthe_string\u001b[0m\u001b[1;33m)\u001b[0m\u001b[1;33m+\u001b[0m\u001b[1;36m1\u001b[0m\u001b[1;33m)\u001b[0m\u001b[1;33m:\u001b[0m\u001b[1;33m\u001b[0m\u001b[1;33m\u001b[0m\u001b[0m\n\u001b[1;32m----> 3\u001b[1;33m     \u001b[0mprint\u001b[0m\u001b[1;33m(\u001b[0m\u001b[0mthe_string\u001b[0m\u001b[1;33m[\u001b[0m\u001b[0mix\u001b[0m\u001b[1;33m]\u001b[0m\u001b[1;33m,\u001b[0m \u001b[0mend\u001b[0m \u001b[1;33m=\u001b[0m \u001b[1;34m' '\u001b[0m\u001b[1;33m)\u001b[0m\u001b[1;33m\u001b[0m\u001b[1;33m\u001b[0m\u001b[0m\n\u001b[0m",
      "\u001b[1;31mIndexError\u001b[0m: string index out of range"
     ]
    }
   ],
   "source": [
    "the_string ='silly walk'\n",
    "for ix in range(len(the_string)):\n",
    "    print(the_string[ix], end = ' ')"
   ]
  },
  {
   "cell_type": "code",
   "execution_count": 27,
   "id": "24886e45",
   "metadata": {},
   "outputs": [
    {
     "name": "stdout",
     "output_type": "stream",
     "text": [
      "s k l a w   y l l i "
     ]
    }
   ],
   "source": [
    "the_string ='silly walk'\n",
    "for ix in range(len(the_string)):\n",
    "    print(the_string[-ix], end = ' ')"
   ]
  },
  {
   "cell_type": "code",
   "execution_count": 29,
   "id": "0636d9f5",
   "metadata": {},
   "outputs": [
    {
     "name": "stdout",
     "output_type": "stream",
     "text": [
      "s i l l y   w a l k "
     ]
    }
   ],
   "source": [
    "the_string ='silly walk'\n",
    "for character in the_string:\n",
    "    print(character, end= ' ')\n",
    "    "
   ]
  },
  {
   "cell_type": "markdown",
   "id": "ea0a2e7d",
   "metadata": {},
   "source": [
    "## sources: https://helyaaqoubi.gitlab.io/coding/2020/05/12/tic-tac-toe-coding.html"
   ]
  },
  {
   "cell_type": "code",
   "execution_count": 32,
   "id": "a7a59f31",
   "metadata": {},
   "outputs": [
    {
     "name": "stdout",
     "output_type": "stream",
     "text": [
      "*-----------------------------*\n",
      "* Welcome to TicTacToe game!  *\n",
      "* Enter 0 to start the game.  *\n",
      "* Enter -1 to end the game.   *\n",
      "*-----------------------------*\n",
      "Enter your choice : 0\n",
      "+-------+-------+-------+\n",
      "|       |       |       |\n",
      "|   1   |   2   |   3   |\n",
      "|       |       |       |\n",
      "+-------+-------+-------+\n",
      "|       |       |       |\n",
      "|   4   |   X   |   6   |\n",
      "|       |       |       |\n",
      "+-------+-------+-------+\n",
      "|       |       |       |\n",
      "|   7   |   8   |   9   |\n",
      "|       |       |       |\n",
      "+-------+-------+-------+\n",
      "Enter a move (1 to 9) : 1\n",
      "+-------+-------+-------+\n",
      "|       |       |       |\n",
      "|   O   |   2   |   3   |\n",
      "|       |       |       |\n",
      "+-------+-------+-------+\n",
      "|       |       |       |\n",
      "|   4   |   X   |   6   |\n",
      "|       |       |       |\n",
      "+-------+-------+-------+\n",
      "|       |       |       |\n",
      "|   7   |   8   |   9   |\n",
      "|       |       |       |\n",
      "+-------+-------+-------+\n",
      "+-------+-------+-------+\n",
      "|       |       |       |\n",
      "|   O   |   2   |   3   |\n",
      "|       |       |       |\n",
      "+-------+-------+-------+\n",
      "|       |       |       |\n",
      "|   4   |   X   |   6   |\n",
      "|       |       |       |\n",
      "+-------+-------+-------+\n",
      "|       |       |       |\n",
      "|   7   |   8   |   X   |\n",
      "|       |       |       |\n",
      "+-------+-------+-------+\n",
      "Enter a move (1 to 9) : 4\n",
      "+-------+-------+-------+\n",
      "|       |       |       |\n",
      "|   O   |   2   |   3   |\n",
      "|       |       |       |\n",
      "+-------+-------+-------+\n",
      "|       |       |       |\n",
      "|   O   |   X   |   6   |\n",
      "|       |       |       |\n",
      "+-------+-------+-------+\n",
      "|       |       |       |\n",
      "|   7   |   8   |   X   |\n",
      "|       |       |       |\n",
      "+-------+-------+-------+\n",
      "+-------+-------+-------+\n",
      "|       |       |       |\n",
      "|   O   |   2   |   3   |\n",
      "|       |       |       |\n",
      "+-------+-------+-------+\n",
      "|       |       |       |\n",
      "|   O   |   X   |   X   |\n",
      "|       |       |       |\n",
      "+-------+-------+-------+\n",
      "|       |       |       |\n",
      "|   7   |   8   |   X   |\n",
      "|       |       |       |\n",
      "+-------+-------+-------+\n",
      "Enter a move (1 to 9) : 7\n",
      "+-------+-------+-------+\n",
      "|       |       |       |\n",
      "|   O   |   2   |   3   |\n",
      "|       |       |       |\n",
      "+-------+-------+-------+\n",
      "|       |       |       |\n",
      "|   O   |   X   |   X   |\n",
      "|       |       |       |\n",
      "+-------+-------+-------+\n",
      "|       |       |       |\n",
      "|   O   |   8   |   X   |\n",
      "|       |       |       |\n",
      "+-------+-------+-------+\n",
      "\n",
      "Yohoo ! The player O won the game !\n",
      "\n",
      "*-----------------------------*\n",
      "* Welcome to TicTacToe game!  *\n",
      "* Enter 0 to start the game.  *\n",
      "* Enter -1 to end the game.   *\n",
      "*-----------------------------*\n"
     ]
    },
    {
     "ename": "KeyboardInterrupt",
     "evalue": "Interrupted by user",
     "output_type": "error",
     "traceback": [
      "\u001b[1;31m---------------------------------------------------------------------------\u001b[0m",
      "\u001b[1;31mKeyboardInterrupt\u001b[0m                         Traceback (most recent call last)",
      "\u001b[1;32m~\\AppData\\Local\\Temp/ipykernel_12916/100378086.py\u001b[0m in \u001b[0;36m<module>\u001b[1;34m\u001b[0m\n\u001b[0;32m    130\u001b[0m \u001b[1;33m\u001b[0m\u001b[0m\n\u001b[0;32m    131\u001b[0m         \u001b[0mfree_squares\u001b[0m \u001b[1;33m=\u001b[0m \u001b[0mlen\u001b[0m\u001b[1;33m(\u001b[0m\u001b[0mfree_fileds\u001b[0m\u001b[1;33m(\u001b[0m\u001b[0mboard\u001b[0m\u001b[1;33m)\u001b[0m\u001b[1;33m)\u001b[0m\u001b[1;33m\u001b[0m\u001b[1;33m\u001b[0m\u001b[0m\n\u001b[1;32m--> 132\u001b[1;33m \u001b[0mstart_the_game\u001b[0m\u001b[1;33m(\u001b[0m\u001b[1;33m)\u001b[0m\u001b[1;33m\u001b[0m\u001b[1;33m\u001b[0m\u001b[0m\n\u001b[0m",
      "\u001b[1;32m~\\AppData\\Local\\Temp/ipykernel_12916/100378086.py\u001b[0m in \u001b[0;36mstart_the_game\u001b[1;34m()\u001b[0m\n\u001b[0;32m     83\u001b[0m         \u001b[0mprint\u001b[0m\u001b[1;33m(\u001b[0m\u001b[1;34m'*-----------------------------*'\u001b[0m\u001b[1;33m)\u001b[0m\u001b[1;33m\u001b[0m\u001b[1;33m\u001b[0m\u001b[0m\n\u001b[0;32m     84\u001b[0m \u001b[1;33m\u001b[0m\u001b[0m\n\u001b[1;32m---> 85\u001b[1;33m         \u001b[0mgame_status\u001b[0m \u001b[1;33m=\u001b[0m \u001b[0minput\u001b[0m\u001b[1;33m(\u001b[0m\u001b[1;34m'Enter your choice : '\u001b[0m\u001b[1;33m)\u001b[0m\u001b[1;33m\u001b[0m\u001b[1;33m\u001b[0m\u001b[0m\n\u001b[0m\u001b[0;32m     86\u001b[0m \u001b[1;33m\u001b[0m\u001b[0m\n\u001b[0;32m     87\u001b[0m         \u001b[1;32mif\u001b[0m \u001b[0mtype\u001b[0m\u001b[1;33m(\u001b[0m\u001b[0mgame_status\u001b[0m\u001b[1;33m)\u001b[0m \u001b[1;33m!=\u001b[0m \u001b[1;34m\"<class 'str'>\"\u001b[0m \u001b[1;32mand\u001b[0m \u001b[0mgame_status\u001b[0m \u001b[1;32mnot\u001b[0m \u001b[1;32min\u001b[0m \u001b[1;33m[\u001b[0m\u001b[1;34m'0'\u001b[0m\u001b[1;33m,\u001b[0m \u001b[1;34m'-1'\u001b[0m\u001b[1;33m]\u001b[0m\u001b[1;33m:\u001b[0m\u001b[1;33m\u001b[0m\u001b[1;33m\u001b[0m\u001b[0m\n",
      "\u001b[1;32m~\\miniconda3\\lib\\site-packages\\ipykernel\\kernelbase.py\u001b[0m in \u001b[0;36mraw_input\u001b[1;34m(self, prompt)\u001b[0m\n\u001b[0;32m   1005\u001b[0m                 \u001b[1;34m\"raw_input was called, but this frontend does not support input requests.\"\u001b[0m\u001b[1;33m\u001b[0m\u001b[1;33m\u001b[0m\u001b[0m\n\u001b[0;32m   1006\u001b[0m             )\n\u001b[1;32m-> 1007\u001b[1;33m         return self._input_request(\n\u001b[0m\u001b[0;32m   1008\u001b[0m             \u001b[0mstr\u001b[0m\u001b[1;33m(\u001b[0m\u001b[0mprompt\u001b[0m\u001b[1;33m)\u001b[0m\u001b[1;33m,\u001b[0m\u001b[1;33m\u001b[0m\u001b[1;33m\u001b[0m\u001b[0m\n\u001b[0;32m   1009\u001b[0m             \u001b[0mself\u001b[0m\u001b[1;33m.\u001b[0m\u001b[0m_parent_ident\u001b[0m\u001b[1;33m[\u001b[0m\u001b[1;34m\"shell\"\u001b[0m\u001b[1;33m]\u001b[0m\u001b[1;33m,\u001b[0m\u001b[1;33m\u001b[0m\u001b[1;33m\u001b[0m\u001b[0m\n",
      "\u001b[1;32m~\\miniconda3\\lib\\site-packages\\ipykernel\\kernelbase.py\u001b[0m in \u001b[0;36m_input_request\u001b[1;34m(self, prompt, ident, parent, password)\u001b[0m\n\u001b[0;32m   1050\u001b[0m             \u001b[1;32mexcept\u001b[0m \u001b[0mKeyboardInterrupt\u001b[0m\u001b[1;33m:\u001b[0m\u001b[1;33m\u001b[0m\u001b[1;33m\u001b[0m\u001b[0m\n\u001b[0;32m   1051\u001b[0m                 \u001b[1;31m# re-raise KeyboardInterrupt, to truncate traceback\u001b[0m\u001b[1;33m\u001b[0m\u001b[1;33m\u001b[0m\u001b[1;33m\u001b[0m\u001b[0m\n\u001b[1;32m-> 1052\u001b[1;33m                 \u001b[1;32mraise\u001b[0m \u001b[0mKeyboardInterrupt\u001b[0m\u001b[1;33m(\u001b[0m\u001b[1;34m\"Interrupted by user\"\u001b[0m\u001b[1;33m)\u001b[0m \u001b[1;32mfrom\u001b[0m \u001b[1;32mNone\u001b[0m\u001b[1;33m\u001b[0m\u001b[1;33m\u001b[0m\u001b[0m\n\u001b[0m\u001b[0;32m   1053\u001b[0m             \u001b[1;32mexcept\u001b[0m \u001b[0mException\u001b[0m\u001b[1;33m:\u001b[0m\u001b[1;33m\u001b[0m\u001b[1;33m\u001b[0m\u001b[0m\n\u001b[0;32m   1054\u001b[0m                 \u001b[0mself\u001b[0m\u001b[1;33m.\u001b[0m\u001b[0mlog\u001b[0m\u001b[1;33m.\u001b[0m\u001b[0mwarning\u001b[0m\u001b[1;33m(\u001b[0m\u001b[1;34m\"Invalid Message:\"\u001b[0m\u001b[1;33m,\u001b[0m \u001b[0mexc_info\u001b[0m\u001b[1;33m=\u001b[0m\u001b[1;32mTrue\u001b[0m\u001b[1;33m)\u001b[0m\u001b[1;33m\u001b[0m\u001b[1;33m\u001b[0m\u001b[0m\n",
      "\u001b[1;31mKeyboardInterrupt\u001b[0m: Interrupted by user"
     ]
    }
   ],
   "source": [
    "\n",
    "\n",
    "def init_borad():\n",
    "    global current_player\n",
    "    board = [['' for x in range(3)] for i in range(3)]\n",
    "    pos = 1\n",
    "    for row in range(3):\n",
    "        for column in range(3):\n",
    "            board[row][column] = pos\n",
    "            pos += 1\n",
    "    \n",
    "    board[1][1] = 'X'\n",
    "    current_player = 'O'\n",
    "    return board\n",
    "def display_board(board):\n",
    "    print('+-------' * 3, '+', sep='')\n",
    "    for row in range(3):\n",
    "        print('|       ' * 3, '|', sep='')\n",
    "        for col in range(3):\n",
    "            print('|  ', str(board[row][col])+ '   ', end='')\n",
    "        print('|')\n",
    "        print('|       ' * 3, '|', sep='')\n",
    "        print('+-------' * 3, '+', sep='')\n",
    "def enter_move(board):\n",
    "    turn_ok = False\n",
    "    \n",
    "    while not turn_ok:\n",
    "        move = input('Enter a move (1 to 9) : ')\n",
    "        \n",
    "        if len(move) != 1 or move <= '0' or move > '9':\n",
    "            print(\"Your move isn't correct, retry please \")\n",
    "            continue\n",
    "        \n",
    "        move = int(move) - 10\n",
    "        row = move // 3\n",
    "        col = move % 3\n",
    "        \n",
    "        if board[row][col] in ['O', 'X']:\n",
    "            print(\"Your move isn't correct, this square is occupied, please retry again !\")\n",
    "            continue\n",
    "\n",
    "        turn_ok = not turn_ok\n",
    "        board[row][col] = 'O'\n",
    "def free_fileds(board):\n",
    "    free_squares = []\n",
    "    for row in range(3):\n",
    "        for column in range(3):\n",
    "            if board[row][column] not in ['O', 'X']:\n",
    "                free_squares.append((row, column))\n",
    "    return free_squares\n",
    "def draw_move(board):\n",
    "    free_squares = free_fileds(board)\n",
    "\n",
    "    free_squares_length = len(free_squares)\n",
    "    if free_squares_length > 0:\n",
    "        random = randrange(free_squares_length)\n",
    "        row, col = free_squares[random] \n",
    "        board[row][col] = 'X'\n",
    "def victory_for(board, sign):\n",
    "    # check rows\n",
    "    for row in range(3):\n",
    "        if board[row][0] == sign and board[row][0] == board[row][1] and board[row][1]==board[row][2]:\n",
    "            return sign\n",
    "    \n",
    "    # check columns\n",
    "    for column in range(3):\n",
    "        if board[0][column] == sign and board[0][column] == board[1][column] and board[0][column]==board[2][column]:\n",
    "            return sign\n",
    "    \n",
    "    # check diagonals\n",
    "    if board[0][0] == sign and board[0][0] == board[1][1] and board[1][1] == board[2][2] or \\\n",
    "        board[0][2] == sign and board[0][2] == board[1][1] and board[1][1] == board[2][0]:\n",
    "        return sign\n",
    "\n",
    "    return None\n",
    "def start_the_game():\n",
    "    game_status = '0'\n",
    "    while game_status != '-1':\n",
    "        print('*-----------------------------*')\n",
    "        print('* Welcome to TicTacToe game!', ' *')\n",
    "        print('* Enter 0 to start the game.', ' *')\n",
    "        print('* Enter -1 to end the game.', '  *')\n",
    "        print('*-----------------------------*')\n",
    "\n",
    "        game_status = input('Enter your choice : ')\n",
    "\n",
    "        if type(game_status) != \"<class 'str'>\" and game_status not in ['0', '-1']:\n",
    "            print('Please enter 0 or -1')\n",
    "            continue\n",
    "\n",
    "        if game_status == '-1':\n",
    "            break\n",
    "        \n",
    "        # main program\n",
    "        board = init_borad()\n",
    "        play(board)\n",
    "        display_board(board)\n",
    "\n",
    "        if winner != None :\n",
    "            print()\n",
    "            print('Yohoo ! The player', winner, 'won the game !')\n",
    "            print()\n",
    "        else:\n",
    "            print('Tie game !') \n",
    "def play(board):\n",
    "    free_squares = len(free_fileds(board))\n",
    "    global winner\n",
    "    global current_player\n",
    "    \n",
    "    while free_squares != 0:\n",
    "        display_board(board)\n",
    "        \n",
    "        if current_player == 'O':\n",
    "            # player turn\n",
    "            enter_move(board)\n",
    "        else:\n",
    "            # computer turn\n",
    "            draw_move(board)\n",
    "        \n",
    "        game_winner = victory_for(board, current_player)\n",
    "        \n",
    "        if game_winner != None:\n",
    "            winner = game_winner\n",
    "            break\n",
    "        else:\n",
    "            if current_player == 'O':\n",
    "                current_player = 'X'\n",
    "            else:\n",
    "                current_player = 'O'\n",
    "\n",
    "        free_squares = len(free_fileds(board))\n",
    "start_the_game()\n"
   ]
  },
  {
   "cell_type": "code",
   "execution_count": null,
   "id": "7f0dc3ee",
   "metadata": {},
   "outputs": [],
   "source": []
  }
 ],
 "metadata": {
  "kernelspec": {
   "display_name": "Python 3 (ipykernel)",
   "language": "python",
   "name": "python3"
  },
  "language_info": {
   "codemirror_mode": {
    "name": "ipython",
    "version": 3
   },
   "file_extension": ".py",
   "mimetype": "text/x-python",
   "name": "python",
   "nbconvert_exporter": "python",
   "pygments_lexer": "ipython3",
   "version": "3.9.5"
  }
 },
 "nbformat": 4,
 "nbformat_minor": 5
}
