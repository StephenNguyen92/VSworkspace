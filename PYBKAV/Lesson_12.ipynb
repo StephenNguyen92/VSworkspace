{
 "cells": [
  {
   "cell_type": "code",
   "execution_count": 1,
   "id": "fdb5c4b2",
   "metadata": {},
   "outputs": [
    {
     "name": "stdout",
     "output_type": "stream",
     "text": [
      "120\n"
     ]
    }
   ],
   "source": [
    "def ff(n):\n",
    "    if n<0:\n",
    "        return None\n",
    "    if n<2: return 1\n",
    "    \n",
    "    return n*ff(n-1)\n",
    "print(ff(5))"
   ]
  },
  {
   "cell_type": "code",
   "execution_count": 2,
   "id": "e9e675d7",
   "metadata": {},
   "outputs": [
    {
     "name": "stdout",
     "output_type": "stream",
     "text": [
      "<class 'tuple'>\n"
     ]
    }
   ],
   "source": [
    "t = 1,2,3\n",
    "print(type(t))"
   ]
  },
  {
   "cell_type": "code",
   "execution_count": 3,
   "id": "654e4e3b",
   "metadata": {},
   "outputs": [
    {
     "name": "stdout",
     "output_type": "stream",
     "text": [
      "<class 'tuple'>\n"
     ]
    }
   ],
   "source": [
    "t2 = (1,2,3)\n",
    "print(type(t2))"
   ]
  },
  {
   "cell_type": "code",
   "execution_count": 6,
   "id": "ae2968fb",
   "metadata": {},
   "outputs": [
    {
     "name": "stdout",
     "output_type": "stream",
     "text": [
      "<class 'tuple'>\n"
     ]
    }
   ],
   "source": [
    "def ff(n):\n",
    "    if n<0:\n",
    "        return None\n",
    "    if n<2: return 1\n",
    "    \n",
    "    return n*ff(n-1),n\n",
    "print(type(ff(5)))"
   ]
  },
  {
   "cell_type": "code",
   "execution_count": 9,
   "id": "c89454f3",
   "metadata": {},
   "outputs": [],
   "source": [
    "dic ={'Hello':'Xin chao','Hello':'Halo'}"
   ]
  },
  {
   "cell_type": "code",
   "execution_count": 10,
   "id": "8f34b48f",
   "metadata": {},
   "outputs": [
    {
     "data": {
      "text/plain": [
       "'Halo'"
      ]
     },
     "execution_count": 10,
     "metadata": {},
     "output_type": "execute_result"
    }
   ],
   "source": [
    "dic['Hello']"
   ]
  },
  {
   "cell_type": "code",
   "execution_count": 11,
   "id": "a1f10478",
   "metadata": {},
   "outputs": [],
   "source": [
    "dic ={'Hello':'Xin chao','Hello2':'Hello'}"
   ]
  },
  {
   "cell_type": "code",
   "execution_count": 13,
   "id": "5b6d4d43",
   "metadata": {},
   "outputs": [],
   "source": [
    "dic ={2:'Xin chao','Hello2':'Hello'}"
   ]
  },
  {
   "cell_type": "code",
   "execution_count": 14,
   "id": "52c5a208",
   "metadata": {},
   "outputs": [
    {
     "data": {
      "text/plain": [
       "'Xin chao'"
      ]
     },
     "execution_count": 14,
     "metadata": {},
     "output_type": "execute_result"
    }
   ],
   "source": [
    "dic[2]"
   ]
  },
  {
   "cell_type": "code",
   "execution_count": 15,
   "id": "8a4eb664",
   "metadata": {},
   "outputs": [
    {
     "name": "stdout",
     "output_type": "stream",
     "text": [
      "2\n"
     ]
    }
   ],
   "source": [
    "print(len(dic))"
   ]
  },
  {
   "cell_type": "code",
   "execution_count": 17,
   "id": "3c558a67",
   "metadata": {
    "scrolled": true
   },
   "outputs": [
    {
     "name": "stdout",
     "output_type": "stream",
     "text": [
      "{'cat': 'chat', 'dog': 'chien', 'horse': 'cheval'}\n",
      "{'boss': 5551234567, 'Suzy': 22657854310}\n",
      "{}\n"
     ]
    }
   ],
   "source": [
    "dictionary = {\"cat\": \"chat\", \"dog\": \"chien\", \"horse\": \"cheval\"}\n",
    "phone_numbers = {'boss': 5551234567, 'Suzy': 22657854310}\n",
    "empty_dictionary = {}\n",
    "\n",
    "print(dictionary)\n",
    "print(phone_numbers)\n",
    "print(empty_dictionary)\n"
   ]
  },
  {
   "cell_type": "code",
   "execution_count": 19,
   "id": "783e250c",
   "metadata": {},
   "outputs": [
    {
     "name": "stdout",
     "output_type": "stream",
     "text": [
      "{'cat': 'chat', 'dog': 'chien', 'horse': 'cheval'}\n",
      "{'boss': 5551234567, 'Suzy': 22657854310}\n",
      "{}\n"
     ]
    }
   ],
   "source": [
    "{'dog': 'chien', 'horse': 'cheval', 'cat': 'chat'}\n",
    "{'Suzy': 5557654321, 'boss': 5551234567}\n",
    "{}\n",
    "print(dictionary)\n",
    "print(phone_numbers)\n",
    "print(empty_dictionary)"
   ]
  },
  {
   "cell_type": "code",
   "execution_count": 25,
   "id": "cac40396",
   "metadata": {},
   "outputs": [
    {
     "name": "stdout",
     "output_type": "stream",
     "text": [
      "chien\n"
     ]
    }
   ],
   "source": [
    "dictionary = {\"cat\": \"chat\", \"dog\": \"chien\", \"horse\": \"cheval\"}\n",
    "phone_numbers = {'boss' : 5551234567, 'Suzy' : 22657854310}\n",
    "empty_dictionary = {}\n",
    "\n",
    "# Print the values here.\n",
    "print(dictionary['dog'])"
   ]
  },
  {
   "cell_type": "code",
   "execution_count": 26,
   "id": "23fb223a",
   "metadata": {},
   "outputs": [
    {
     "ename": "KeyError",
     "evalue": "'dogs'",
     "output_type": "error",
     "traceback": [
      "\u001b[1;31m---------------------------------------------------------------------------\u001b[0m",
      "\u001b[1;31mKeyError\u001b[0m                                  Traceback (most recent call last)",
      "\u001b[1;32m~\\AppData\\Local\\Temp/ipykernel_11008/1417575154.py\u001b[0m in \u001b[0;36m<module>\u001b[1;34m\u001b[0m\n\u001b[1;32m----> 1\u001b[1;33m \u001b[0mprint\u001b[0m\u001b[1;33m(\u001b[0m\u001b[0mdictionary\u001b[0m\u001b[1;33m[\u001b[0m\u001b[1;34m'dogs'\u001b[0m\u001b[1;33m]\u001b[0m\u001b[1;33m)\u001b[0m\u001b[1;33m\u001b[0m\u001b[1;33m\u001b[0m\u001b[0m\n\u001b[0m",
      "\u001b[1;31mKeyError\u001b[0m: 'dogs'"
     ]
    }
   ],
   "source": [
    "print(dictionary['dogs'])"
   ]
  },
  {
   "cell_type": "code",
   "execution_count": 28,
   "id": "d5ae6fc5",
   "metadata": {},
   "outputs": [
    {
     "name": "stdout",
     "output_type": "stream",
     "text": [
      "cat -> chat\n",
      "lion is not in dictionary\n",
      "horse -> cheval\n"
     ]
    }
   ],
   "source": [
    "dictionary = {\"cat\": \"chat\", \"dog\": \"chien\", \"horse\": \"cheval\"}\n",
    "words = ['cat', 'lion', 'horse']\n",
    "\n",
    "for word in words:\n",
    "    if word in dictionary:\n",
    "        print(word, \"->\", dictionary[word])\n",
    "    else:\n",
    "        print(word, \"is not in dictionary\")"
   ]
  },
  {
   "cell_type": "code",
   "execution_count": 29,
   "id": "8df8ff27",
   "metadata": {},
   "outputs": [],
   "source": [
    "# Example 1:\n",
    "dictionary = {\n",
    "              \"cat\": \"chat\",\"dog\": \"chien\",\n",
    "              \"horse\": \"cheval\"\n",
    "              }\n",
    "\n",
    "# Example 2:\n",
    "phone_numbers = {'boss': 5551234567,\n",
    "                 'Suzy': 22657854310\n",
    "                 }\n",
    "\n"
   ]
  },
  {
   "cell_type": "code",
   "execution_count": 32,
   "id": "b63eb156",
   "metadata": {},
   "outputs": [
    {
     "name": "stdout",
     "output_type": "stream",
     "text": [
      "dict_keys(['cat', 'dog', 'horse'])\n"
     ]
    }
   ],
   "source": [
    "dictionary = {\"cat\": \"chat\", \"dog\": \"chien\", \"horse\": \"cheval\"}\n",
    "\n",
    "print(dictionary.keys())"
   ]
  },
  {
   "cell_type": "code",
   "execution_count": 34,
   "id": "1c2a494e",
   "metadata": {},
   "outputs": [
    {
     "name": "stdout",
     "output_type": "stream",
     "text": [
      "cat -> chat\n",
      "dog -> chien\n",
      "horse -> cheval\n"
     ]
    }
   ],
   "source": [
    "for key in dictionary.keys():\n",
    "    print(key, '->',dictionary[key])"
   ]
  },
  {
   "cell_type": "code",
   "execution_count": 36,
   "id": "d12a0ace",
   "metadata": {},
   "outputs": [
    {
     "name": "stdout",
     "output_type": "stream",
     "text": [
      "horse -> cheval\n",
      "dog -> chien\n",
      "cat -> chat\n"
     ]
    }
   ],
   "source": [
    "for key in sorted(dictionary.keys(),reverse =True):\n",
    "    print(key, '->',dictionary[key])"
   ]
  },
  {
   "cell_type": "code",
   "execution_count": 37,
   "id": "cb707f40",
   "metadata": {},
   "outputs": [
    {
     "name": "stdout",
     "output_type": "stream",
     "text": [
      "dict_items([('cat', 'chat'), ('dog', 'chien'), ('horse', 'cheval')])\n"
     ]
    }
   ],
   "source": [
    "print(dictionary.items())"
   ]
  },
  {
   "cell_type": "code",
   "execution_count": 41,
   "id": "720b0a8b",
   "metadata": {},
   "outputs": [
    {
     "name": "stdout",
     "output_type": "stream",
     "text": [
      "('dog', 'chien')\n"
     ]
    }
   ],
   "source": [
    "print(list(dictionary.items())[1])"
   ]
  },
  {
   "cell_type": "code",
   "execution_count": 43,
   "id": "60017baf",
   "metadata": {},
   "outputs": [
    {
     "name": "stdout",
     "output_type": "stream",
     "text": [
      "(('cat', 'chat'), ('dog', 'chien'), ('horse', 'cheval'))\n"
     ]
    }
   ],
   "source": [
    "print(tuple(dictionary.items()))"
   ]
  },
  {
   "cell_type": "code",
   "execution_count": 44,
   "id": "720d6aa6",
   "metadata": {},
   "outputs": [
    {
     "name": "stdout",
     "output_type": "stream",
     "text": [
      "dict_items([('cat', 'chat'), ('dog', 'chien'), ('horse', 'cheval')])\n"
     ]
    }
   ],
   "source": [
    "print(dictionary.items())"
   ]
  },
  {
   "cell_type": "code",
   "execution_count": 45,
   "id": "db0b476f",
   "metadata": {},
   "outputs": [
    {
     "name": "stdout",
     "output_type": "stream",
     "text": [
      "cat -> chat\n",
      "dog -> chien\n",
      "horse -> cheval\n"
     ]
    }
   ],
   "source": [
    "for en,fren in dictionary.items():\n",
    "    print(en,'->',fren)"
   ]
  },
  {
   "cell_type": "code",
   "execution_count": 46,
   "id": "5dda2055",
   "metadata": {},
   "outputs": [
    {
     "name": "stdout",
     "output_type": "stream",
     "text": [
      "dict_values(['chat', 'chien', 'cheval'])\n"
     ]
    }
   ],
   "source": [
    "print(dictionary.values())"
   ]
  },
  {
   "cell_type": "code",
   "execution_count": 47,
   "id": "a61e8bc0",
   "metadata": {},
   "outputs": [
    {
     "name": "stdout",
     "output_type": "stream",
     "text": [
      "chat\n",
      "chien\n",
      "cheval\n"
     ]
    }
   ],
   "source": [
    "for fren in dictionary.values():\n",
    "    print(fren)"
   ]
  },
  {
   "cell_type": "code",
   "execution_count": 54,
   "id": "16d8c815",
   "metadata": {},
   "outputs": [
    {
     "name": "stdout",
     "output_type": "stream",
     "text": [
      "1\n",
      "dog\n"
     ]
    }
   ],
   "source": [
    "dictionary = {\"cat\": \"chat\", \"dog\": \"chien\", \"horse\": \"cheval\"}\n",
    "print(list(dictionary.values()).index('chien'))\n",
    "print(list(dictionary.keys())[list(dictionary.values()).index('chien')])"
   ]
  },
  {
   "cell_type": "code",
   "execution_count": 55,
   "id": "074ff32d",
   "metadata": {},
   "outputs": [
    {
     "name": "stdout",
     "output_type": "stream",
     "text": [
      "{'cat': 'minou', 'dog': 'chien', 'horse': 'cheval'}\n"
     ]
    }
   ],
   "source": [
    "dictionary = {\"cat\": \"chat\", \"dog\": \"chien\", \"horse\": \"cheval\"}\n",
    "\n",
    "dictionary['cat'] = 'minou'\n",
    "print(dictionary)\n"
   ]
  },
  {
   "cell_type": "code",
   "execution_count": 56,
   "id": "f67533fb",
   "metadata": {},
   "outputs": [
    {
     "name": "stdout",
     "output_type": "stream",
     "text": [
      "{'cat': 'minou', 'dog': 'chien', 'horse': 'cheval', 'cat2': 'minou'}\n"
     ]
    }
   ],
   "source": [
    "dictionary['cat2'] = 'minou'\n",
    "print(dictionary)"
   ]
  },
  {
   "cell_type": "code",
   "execution_count": 58,
   "id": "916a774b",
   "metadata": {},
   "outputs": [
    {
     "name": "stdout",
     "output_type": "stream",
     "text": [
      "{'cat': 'chat', 'dog': 'chien', 'horse': 'cheval', 'duck': 'canard', 'duck2': 'canard2'}\n"
     ]
    }
   ],
   "source": [
    "dictionary = {\"cat\": \"chat\", \"dog\": \"chien\", \"horse\": \"cheval\"}\n",
    "\n",
    "dictionary.update({\"duck\": \"canard\",\"duck2\": \"canard2\"})\n",
    "print(dictionary)"
   ]
  },
  {
   "cell_type": "code",
   "execution_count": 59,
   "id": "b4177543",
   "metadata": {},
   "outputs": [],
   "source": [
    "del dictionary['cat']"
   ]
  },
  {
   "cell_type": "code",
   "execution_count": 60,
   "id": "c19003fc",
   "metadata": {},
   "outputs": [
    {
     "name": "stdout",
     "output_type": "stream",
     "text": [
      "{'dog': 'chien', 'horse': 'cheval', 'duck': 'canard', 'duck2': 'canard2'}\n"
     ]
    }
   ],
   "source": [
    "print(dictionary)"
   ]
  },
  {
   "cell_type": "code",
   "execution_count": 62,
   "id": "6a8e11c3",
   "metadata": {},
   "outputs": [
    {
     "data": {
      "text/plain": [
       "('duck', 'canard')"
      ]
     },
     "execution_count": 62,
     "metadata": {},
     "output_type": "execute_result"
    }
   ],
   "source": [
    "dictionary.popitem()"
   ]
  },
  {
   "cell_type": "code",
   "execution_count": 63,
   "id": "00af0cbe",
   "metadata": {},
   "outputs": [
    {
     "name": "stdout",
     "output_type": "stream",
     "text": [
      "{'dog': 'chien', 'horse': 'cheval'}\n"
     ]
    }
   ],
   "source": [
    "print(dictionary)"
   ]
  },
  {
   "cell_type": "code",
   "execution_count": 64,
   "id": "01fe159e",
   "metadata": {},
   "outputs": [
    {
     "name": "stdout",
     "output_type": "stream",
     "text": [
      "['__class__', '__class_getitem__', '__contains__', '__delattr__', '__delitem__', '__dir__', '__doc__', '__eq__', '__format__', '__ge__', '__getattribute__', '__getitem__', '__gt__', '__hash__', '__init__', '__init_subclass__', '__ior__', '__iter__', '__le__', '__len__', '__lt__', '__ne__', '__new__', '__or__', '__reduce__', '__reduce_ex__', '__repr__', '__reversed__', '__ror__', '__setattr__', '__setitem__', '__sizeof__', '__str__', '__subclasshook__', 'clear', 'copy', 'fromkeys', 'get', 'items', 'keys', 'pop', 'popitem', 'setdefault', 'update', 'values']\n"
     ]
    }
   ],
   "source": [
    "print(dir(dictionary))"
   ]
  },
  {
   "cell_type": "code",
   "execution_count": 66,
   "id": "c3e2c3d2",
   "metadata": {},
   "outputs": [
    {
     "name": "stdout",
     "output_type": "stream",
     "text": [
      "None\n"
     ]
    }
   ],
   "source": [
    "print(dictionary.clear())"
   ]
  },
  {
   "cell_type": "code",
   "execution_count": 69,
   "id": "a2af014a",
   "metadata": {},
   "outputs": [
    {
     "name": "stdout",
     "output_type": "stream",
     "text": [
      "Enter the student's name: Nam\n",
      "Enter the student's score (0-10): 8\n",
      "Enter the student's name: Nam\n",
      "Enter the student's score (0-10): 9\n",
      "Enter the student's name: An\n",
      "Enter the student's score (0-10): 5\n",
      "Enter the student's name: An\n",
      "Enter the student's score (0-10): 4\n",
      "Enter the student's name: \n",
      "An : 4.5\n",
      "Nam : 8.5\n"
     ]
    },
    {
     "ename": "TypeError",
     "evalue": "'int' object is not iterable",
     "output_type": "error",
     "traceback": [
      "\u001b[1;31m---------------------------------------------------------------------------\u001b[0m",
      "\u001b[1;31mTypeError\u001b[0m                                 Traceback (most recent call last)",
      "\u001b[1;32m~\\AppData\\Local\\Temp/ipykernel_11008/1731907624.py\u001b[0m in \u001b[0;36m<module>\u001b[1;34m\u001b[0m\n\u001b[0;32m     18\u001b[0m     \u001b[0madding\u001b[0m \u001b[1;33m=\u001b[0m \u001b[1;36m0\u001b[0m\u001b[1;33m\u001b[0m\u001b[1;33m\u001b[0m\u001b[0m\n\u001b[0;32m     19\u001b[0m     \u001b[0mcounter\u001b[0m \u001b[1;33m=\u001b[0m \u001b[1;36m0\u001b[0m\u001b[1;33m\u001b[0m\u001b[1;33m\u001b[0m\u001b[0m\n\u001b[1;32m---> 20\u001b[1;33m     \u001b[1;32mfor\u001b[0m \u001b[0mscore\u001b[0m \u001b[1;32min\u001b[0m \u001b[0mschool_class\u001b[0m\u001b[1;33m[\u001b[0m\u001b[0mname\u001b[0m\u001b[1;33m]\u001b[0m\u001b[1;33m:\u001b[0m\u001b[1;33m\u001b[0m\u001b[1;33m\u001b[0m\u001b[0m\n\u001b[0m\u001b[0;32m     21\u001b[0m         \u001b[0madding\u001b[0m \u001b[1;33m+=\u001b[0m \u001b[0mscore\u001b[0m\u001b[1;33m\u001b[0m\u001b[1;33m\u001b[0m\u001b[0m\n\u001b[0;32m     22\u001b[0m         \u001b[0mcounter\u001b[0m \u001b[1;33m+=\u001b[0m \u001b[1;36m1\u001b[0m\u001b[1;33m\u001b[0m\u001b[1;33m\u001b[0m\u001b[0m\n",
      "\u001b[1;31mTypeError\u001b[0m: 'int' object is not iterable"
     ]
    }
   ],
   "source": [
    "school_class = {\"nam\":5}\n",
    "\n",
    "while True:\n",
    "    name = input(\"Enter the student's name: \")\n",
    "    if name == '':\n",
    "        break\n",
    "    \n",
    "    score = int(input(\"Enter the student's score (0-10): \"))\n",
    "    if score not in range(0, 11):\n",
    "\t    break\n",
    "    \n",
    "    if name in school_class:\n",
    "        school_class[name] += (score,)\n",
    "    else:\n",
    "        school_class[name] = (score,)\n",
    "        \n",
    "for name in sorted(school_class.keys()):\n",
    "    adding = 0\n",
    "    counter = 0\n",
    "    for score in school_class[name]:\n",
    "        adding += score\n",
    "        counter += 1\n",
    "    print(name, \":\", adding / counter)\n"
   ]
  },
  {
   "cell_type": "code",
   "execution_count": 70,
   "id": "11ab52d4",
   "metadata": {},
   "outputs": [
    {
     "name": "stdout",
     "output_type": "stream",
     "text": [
      "{'nam': 5, 'Nam': (8, 9), 'An': (5, 4)}\n"
     ]
    }
   ],
   "source": [
    "print(school_class)"
   ]
  },
  {
   "cell_type": "markdown",
   "id": "77630803",
   "metadata": {},
   "source": [
    "##### "
   ]
  },
  {
   "cell_type": "code",
   "execution_count": 71,
   "id": "85269767",
   "metadata": {},
   "outputs": [
    {
     "name": "stdout",
     "output_type": "stream",
     "text": [
      "(1, 2, 3, 5)\n"
     ]
    }
   ],
   "source": [
    "l = [1,2,3,5]\n",
    "l2 = tuple(l)\n",
    "print(l2)"
   ]
  },
  {
   "cell_type": "code",
   "execution_count": 73,
   "id": "dc7b092e",
   "metadata": {},
   "outputs": [
    {
     "name": "stdout",
     "output_type": "stream",
     "text": [
      "[1, 2, 3, 5, 3]\n"
     ]
    }
   ],
   "source": [
    "l = (1,2,3,5)\n",
    "\n",
    "l2 = list(l)\n",
    "l2.append(3)\n",
    "print(l2)"
   ]
  },
  {
   "cell_type": "code",
   "execution_count": 74,
   "id": "e573fa97",
   "metadata": {},
   "outputs": [
    {
     "name": "stdout",
     "output_type": "stream",
     "text": [
      "{}\n"
     ]
    }
   ],
   "source": [
    "print(dictionary)"
   ]
  },
  {
   "cell_type": "code",
   "execution_count": 75,
   "id": "1137afdb",
   "metadata": {},
   "outputs": [],
   "source": [
    "pol_eng_dictionary = {\n",
    "    \"kwiat\": \"flower\",\n",
    "    \"woda\": \"water\",\n",
    "    \"gleba\": \"soil\"\n",
    "    }\n"
   ]
  },
  {
   "cell_type": "code",
   "execution_count": 76,
   "id": "810d3670",
   "metadata": {},
   "outputs": [
    {
     "data": {
      "text/plain": [
       "'water'"
      ]
     },
     "execution_count": 76,
     "metadata": {},
     "output_type": "execute_result"
    }
   ],
   "source": [
    "pol_eng_dictionary[\"woda\"]"
   ]
  },
  {
   "cell_type": "code",
   "execution_count": 77,
   "id": "1d716a28",
   "metadata": {},
   "outputs": [
    {
     "data": {
      "text/plain": [
       "'water'"
      ]
     },
     "execution_count": 77,
     "metadata": {},
     "output_type": "execute_result"
    }
   ],
   "source": [
    "pol_eng_dictionary.get(\"woda\")"
   ]
  },
  {
   "cell_type": "code",
   "execution_count": 78,
   "id": "b48f6b49",
   "metadata": {},
   "outputs": [],
   "source": [
    "pol_eng_dictionary[\"woda2\"]='liquid'"
   ]
  },
  {
   "cell_type": "code",
   "execution_count": 79,
   "id": "a3b486a3",
   "metadata": {},
   "outputs": [
    {
     "name": "stdout",
     "output_type": "stream",
     "text": [
      "{'kwiat': 'flower', 'woda': 'water', 'gleba': 'soil', 'woda2': 'liquid'}\n"
     ]
    }
   ],
   "source": [
    "print(pol_eng_dictionary)"
   ]
  },
  {
   "cell_type": "code",
   "execution_count": 80,
   "id": "1f065e2d",
   "metadata": {},
   "outputs": [],
   "source": [
    "dic = {\n",
    "    \"kwiat\": \"flower\",\n",
    "    \"woda\": \"water\",\n",
    "    \"gleba\": \"soil\"\n",
    "    }"
   ]
  },
  {
   "cell_type": "code",
   "execution_count": 82,
   "id": "6fd80f39",
   "metadata": {},
   "outputs": [],
   "source": [
    "lv=list(dic.values())\n",
    "lk=list(dic.keys())"
   ]
  },
  {
   "cell_type": "code",
   "execution_count": 83,
   "id": "5f849ddd",
   "metadata": {},
   "outputs": [
    {
     "name": "stdout",
     "output_type": "stream",
     "text": [
      "['flower', 'water', 'soil']\n",
      "['kwiat', 'woda', 'gleba']\n"
     ]
    }
   ],
   "source": [
    "print(lv)\n",
    "print(lk)"
   ]
  },
  {
   "cell_type": "code",
   "execution_count": 86,
   "id": "8745af75",
   "metadata": {},
   "outputs": [
    {
     "name": "stdout",
     "output_type": "stream",
     "text": [
      "{'flower': 'kwiat', 'water': 'woda', 'soil': 'gleba'}\n"
     ]
    }
   ],
   "source": [
    "dic2={}\n",
    "for i in range(len(lv)):\n",
    "    dic2[lv[i]]=lk[i]\n",
    "print(dic2)\n"
   ]
  },
  {
   "cell_type": "code",
   "execution_count": 90,
   "id": "e29594b2",
   "metadata": {},
   "outputs": [
    {
     "name": "stdout",
     "output_type": "stream",
     "text": [
      "Enter a natural number: 3.6\n"
     ]
    },
    {
     "ename": "ValueError",
     "evalue": "invalid literal for int() with base 10: '3.6'",
     "output_type": "error",
     "traceback": [
      "\u001b[1;31m---------------------------------------------------------------------------\u001b[0m",
      "\u001b[1;31mValueError\u001b[0m                                Traceback (most recent call last)",
      "\u001b[1;32m~\\AppData\\Local\\Temp/ipykernel_11008/2639002500.py\u001b[0m in \u001b[0;36m<module>\u001b[1;34m\u001b[0m\n\u001b[1;32m----> 1\u001b[1;33m \u001b[0mvalue\u001b[0m \u001b[1;33m=\u001b[0m \u001b[0mint\u001b[0m\u001b[1;33m(\u001b[0m\u001b[0minput\u001b[0m\u001b[1;33m(\u001b[0m\u001b[1;34m'Enter a natural number: '\u001b[0m\u001b[1;33m)\u001b[0m\u001b[1;33m)\u001b[0m\u001b[1;33m\u001b[0m\u001b[1;33m\u001b[0m\u001b[0m\n\u001b[0m\u001b[0;32m      2\u001b[0m \u001b[0mprint\u001b[0m\u001b[1;33m(\u001b[0m\u001b[1;34m'The reciprocal of'\u001b[0m\u001b[1;33m,\u001b[0m \u001b[0mvalue\u001b[0m\u001b[1;33m,\u001b[0m \u001b[1;34m'is'\u001b[0m\u001b[1;33m,\u001b[0m \u001b[1;36m1\u001b[0m\u001b[1;33m/\u001b[0m\u001b[0mvalue\u001b[0m\u001b[1;33m)\u001b[0m\u001b[1;33m\u001b[0m\u001b[1;33m\u001b[0m\u001b[0m\n",
      "\u001b[1;31mValueError\u001b[0m: invalid literal for int() with base 10: '3.6'"
     ]
    }
   ],
   "source": [
    "value = int(input('Enter a natural number: '))\n",
    "print('The reciprocal of', value, 'is', 1/value)\n"
   ]
  },
  {
   "cell_type": "code",
   "execution_count": 92,
   "id": "d03f90eb",
   "metadata": {},
   "outputs": [
    {
     "name": "stdout",
     "output_type": "stream",
     "text": [
      "2\n"
     ]
    },
    {
     "data": {
      "text/plain": [
       "True"
      ]
     },
     "execution_count": 92,
     "metadata": {},
     "output_type": "execute_result"
    }
   ],
   "source": [
    "print(value)\n",
    "type(value) is int"
   ]
  },
  {
   "cell_type": "code",
   "execution_count": null,
   "id": "672e4984",
   "metadata": {},
   "outputs": [],
   "source": [
    "try:\n",
    "\t# It's a place where\n",
    "\t# you can do something \n",
    "    # without asking for permission.\n",
    "except:\n",
    "\t# It's a spot dedicated to \n",
    "    # solemnly begging for forgiveness.\n"
   ]
  },
  {
   "cell_type": "code",
   "execution_count": 95,
   "id": "c494d872",
   "metadata": {},
   "outputs": [
    {
     "name": "stdout",
     "output_type": "stream",
     "text": [
      "Enter a natural number: 4.8\n"
     ]
    },
    {
     "ename": "ValueError",
     "evalue": "invalid literal for int() with base 10: '4.8'",
     "output_type": "error",
     "traceback": [
      "\u001b[1;31m---------------------------------------------------------------------------\u001b[0m",
      "\u001b[1;31mValueError\u001b[0m                                Traceback (most recent call last)",
      "\u001b[1;32m~\\AppData\\Local\\Temp/ipykernel_11008/3155713843.py\u001b[0m in \u001b[0;36m<module>\u001b[1;34m\u001b[0m\n\u001b[1;32m----> 1\u001b[1;33m \u001b[0mvalue\u001b[0m \u001b[1;33m=\u001b[0m \u001b[0mint\u001b[0m\u001b[1;33m(\u001b[0m\u001b[0minput\u001b[0m\u001b[1;33m(\u001b[0m\u001b[1;34m'Enter a natural number: '\u001b[0m\u001b[1;33m)\u001b[0m\u001b[1;33m)\u001b[0m\u001b[1;33m\u001b[0m\u001b[1;33m\u001b[0m\u001b[0m\n\u001b[0m\u001b[0;32m      2\u001b[0m \u001b[0mprint\u001b[0m\u001b[1;33m(\u001b[0m\u001b[1;34m'The reciprocal of'\u001b[0m\u001b[1;33m,\u001b[0m \u001b[0mvalue\u001b[0m\u001b[1;33m,\u001b[0m \u001b[1;34m'is'\u001b[0m\u001b[1;33m,\u001b[0m \u001b[1;36m1\u001b[0m\u001b[1;33m/\u001b[0m\u001b[0mvalue\u001b[0m\u001b[1;33m)\u001b[0m\u001b[1;33m\u001b[0m\u001b[1;33m\u001b[0m\u001b[0m\n",
      "\u001b[1;31mValueError\u001b[0m: invalid literal for int() with base 10: '4.8'"
     ]
    }
   ],
   "source": [
    "value = int(input('Enter a natural number: '))\n",
    "print('The reciprocal of', value, 'is', 1/value) "
   ]
  },
  {
   "cell_type": "code",
   "execution_count": 94,
   "id": "8925c9ac",
   "metadata": {},
   "outputs": [
    {
     "name": "stdout",
     "output_type": "stream",
     "text": [
      "Enter a natural number: 4.7\n",
      "I do not know what to do.\n",
      "command 2\n"
     ]
    }
   ],
   "source": [
    "try:\n",
    "    value = int(input('Enter a natural number: '))\n",
    "    print('The reciprocal of', value, 'is', 1/value) \n",
    "    \n",
    "except:\n",
    "    print('I do not know what to do.')\n",
    "\n",
    "print('command 2')"
   ]
  },
  {
   "cell_type": "code",
   "execution_count": 96,
   "id": "52b10c98",
   "metadata": {},
   "outputs": [
    {
     "name": "stdout",
     "output_type": "stream",
     "text": [
      "Enter a natural number: 4.7\n"
     ]
    },
    {
     "ename": "ValueError",
     "evalue": "invalid literal for int() with base 10: '4.7'",
     "output_type": "error",
     "traceback": [
      "\u001b[1;31m---------------------------------------------------------------------------\u001b[0m",
      "\u001b[1;31mValueError\u001b[0m                                Traceback (most recent call last)",
      "\u001b[1;32m~\\AppData\\Local\\Temp/ipykernel_11008/3155713843.py\u001b[0m in \u001b[0;36m<module>\u001b[1;34m\u001b[0m\n\u001b[1;32m----> 1\u001b[1;33m \u001b[0mvalue\u001b[0m \u001b[1;33m=\u001b[0m \u001b[0mint\u001b[0m\u001b[1;33m(\u001b[0m\u001b[0minput\u001b[0m\u001b[1;33m(\u001b[0m\u001b[1;34m'Enter a natural number: '\u001b[0m\u001b[1;33m)\u001b[0m\u001b[1;33m)\u001b[0m\u001b[1;33m\u001b[0m\u001b[1;33m\u001b[0m\u001b[0m\n\u001b[0m\u001b[0;32m      2\u001b[0m \u001b[0mprint\u001b[0m\u001b[1;33m(\u001b[0m\u001b[1;34m'The reciprocal of'\u001b[0m\u001b[1;33m,\u001b[0m \u001b[0mvalue\u001b[0m\u001b[1;33m,\u001b[0m \u001b[1;34m'is'\u001b[0m\u001b[1;33m,\u001b[0m \u001b[1;36m1\u001b[0m\u001b[1;33m/\u001b[0m\u001b[0mvalue\u001b[0m\u001b[1;33m)\u001b[0m\u001b[1;33m\u001b[0m\u001b[1;33m\u001b[0m\u001b[0m\n",
      "\u001b[1;31mValueError\u001b[0m: invalid literal for int() with base 10: '4.7'"
     ]
    }
   ],
   "source": [
    "value = int(input('Enter a natural number: '))\n",
    "print('The reciprocal of', value, 'is', 1/value) "
   ]
  },
  {
   "cell_type": "code",
   "execution_count": null,
   "id": "56293f5d",
   "metadata": {
    "scrolled": true
   },
   "outputs": [],
   "source": [
    "try:\n",
    "    value = int(input('Enter a natural number: '))\n",
    "    print('The reciprocal of', value, 'is', 1/value) \n",
    "except ValueError:\n",
    "    #value = int(round(float(input('Enter a natural number: '))))\n",
    "    print('The reciprocal of', value, 'is', 1/value) \n",
    "\n",
    "\n",
    "    "
   ]
  },
  {
   "cell_type": "code",
   "execution_count": 3,
   "id": "97ae2050",
   "metadata": {},
   "outputs": [
    {
     "name": "stdout",
     "output_type": "stream",
     "text": [
      "Enter a natural number: hh\n",
      "I do not know what to do.\n"
     ]
    }
   ],
   "source": [
    "try:\n",
    "    value = int(input('Enter a natural number: '))\n",
    "    print('The reciprocal of', value, 'is', 1/value) \n",
    "except ValueError:\n",
    "    \n",
    "    print('I do not know what to do.')  \n",
    "except ZeroDivisionError:\n",
    "    print('Division by zero is not allowed in our Universe.')\n"
   ]
  },
  {
   "cell_type": "code",
   "execution_count": null,
   "id": "69a860cb",
   "metadata": {},
   "outputs": [],
   "source": [
    "try:\n",
    "    value = int(input('Enter a natural number: '))\n",
    "    print('The reciprocal of', value, 'is', 1/value)        \n",
    "except ValueError:\n",
    "    print('I do not know what to do.') \n",
    "    \n",
    "except ZeroDivisionError:\n",
    "    print('Division by zero is not allowed in our Universe.')    \n",
    "except:\n",
    "    print('Something strange has happened here... Sorry!')\n",
    "    "
   ]
  }
 ],
 "metadata": {
  "kernelspec": {
   "display_name": "Python 3 (ipykernel)",
   "language": "python",
   "name": "python3"
  },
  "language_info": {
   "codemirror_mode": {
    "name": "ipython",
    "version": 3
   },
   "file_extension": ".py",
   "mimetype": "text/x-python",
   "name": "python",
   "nbconvert_exporter": "python",
   "pygments_lexer": "ipython3",
   "version": "3.9.5"
  }
 },
 "nbformat": 4,
 "nbformat_minor": 5
}
