{
 "cells": [
  {
   "cell_type": "code",
   "execution_count": 1,
   "id": "179a36f6",
   "metadata": {},
   "outputs": [
    {
     "name": "stdout",
     "output_type": "stream",
     "text": [
      "['To', 'be', 'or', 'not', 'to', 'be,', 'that', 'is', 'the', 'question']\n"
     ]
    }
   ],
   "source": [
    "str1=\"To be or not to be, that is the question\"\n",
    "print(str1.split())"
   ]
  },
  {
   "cell_type": "code",
   "execution_count": 19,
   "id": "4864c591",
   "metadata": {},
   "outputs": [
    {
     "name": "stdout",
     "output_type": "stream",
     "text": [
      "2\n",
      "5\n",
      "8\n",
      "12\n",
      "15\n",
      "19\n",
      "24\n",
      "27\n",
      "31\n",
      "['To', ' be', ' or', ' not', ' to', ' be,', ' that', ' is', ' the']\n"
     ]
    }
   ],
   "source": [
    "str1=\"To be or not to be, that is the question\"\n",
    "\n",
    "j = 0\n",
    "my_spl=[]\n",
    "for i in range(len(str1)):\n",
    "    \n",
    "    if str1[i] ==' ':\n",
    "        my_spl.append(str1[j:i])\n",
    "        j=i\n",
    "        print(j)\n",
    "        #print(i,end='')\n",
    "\n",
    "print(my_spl)"
   ]
  },
  {
   "cell_type": "code",
   "execution_count": 33,
   "id": "e125196c",
   "metadata": {
    "scrolled": true
   },
   "outputs": [
    {
     "name": "stdout",
     "output_type": "stream",
     "text": [
      "2\n",
      "5\n",
      "8\n",
      "12\n",
      "15\n",
      "19\n",
      "24\n",
      "27\n",
      "31\n",
      "['o', 'be', 'or', 'not', 'to', 'be,', 'that', 'is', 'the']\n"
     ]
    }
   ],
   "source": [
    "str1=\"To-be-or-not-to-be,-that-is-the-question\"\n",
    "\n",
    "j = 0\n",
    "my_spl=[]\n",
    "for i in range(len(str1)):\n",
    "    \n",
    "    if str1[i] =='-':\n",
    "        my_spl.append(str1[j+1:i])\n",
    "        j=i\n",
    "        print(j)\n",
    "        #print(i,end='')\n",
    "\n",
    "print(my_spl)"
   ]
  },
  {
   "cell_type": "code",
   "execution_count": 34,
   "id": "fbfbde6b",
   "metadata": {},
   "outputs": [
    {
     "name": "stdout",
     "output_type": "stream",
     "text": [
      "['o', 'be', 'or', 'not', 'to', 'be,', 'that', 'is', 'the']\n"
     ]
    }
   ],
   "source": [
    "def mysplit(strng):\n",
    "    j = 0\n",
    "    my_spl=[]\n",
    "    for i in range(len(strng)):\n",
    "\n",
    "        if strng[i] ==' ':\n",
    "            my_spl.append(strng[j:i])\n",
    "            j=i\n",
    "    return my_spl\n",
    "print(my_spl)\n"
   ]
  },
  {
   "cell_type": "code",
   "execution_count": 35,
   "id": "a448d408",
   "metadata": {},
   "outputs": [
    {
     "data": {
      "text/plain": [
       "['To', ' be', ' or', ' not', ' to', ' be,', ' that', ' is', ' the']"
      ]
     },
     "execution_count": 35,
     "metadata": {},
     "output_type": "execute_result"
    }
   ],
   "source": [
    "str1=\"To be or not to be, that is the question\"\n",
    "mysplit(str1)"
   ]
  },
  {
   "cell_type": "code",
   "execution_count": 36,
   "id": "4b37cce3",
   "metadata": {},
   "outputs": [
    {
     "name": "stdout",
     "output_type": "stream",
     "text": [
      "['To', ' be', ' or', ' not', ' to', ' be,', ' that', ' is', ' the']\n",
      "['To', ' be', ' or', ' not', ' to', ' be,that', ' is', ' the']\n",
      "['', ' ', ' ']\n",
      "['', ' abc']\n",
      "[]\n"
     ]
    }
   ],
   "source": [
    "\n",
    "\n",
    "print(mysplit(\"To be or not to be, that is the question\"))\n",
    "print(mysplit(\"To be or not to be,that is the question\"))\n",
    "print(mysplit(\"   \"))\n",
    "print(mysplit(\" abc \"))\n",
    "print(mysplit(\"\"))\n"
   ]
  },
  {
   "cell_type": "code",
   "execution_count": 38,
   "id": "b5a7770c",
   "metadata": {},
   "outputs": [],
   "source": [
    "strng=\"To be or not to be, that is the question\"\n",
    "strsplit = mysplit(strng)"
   ]
  },
  {
   "cell_type": "code",
   "execution_count": 39,
   "id": "845d8ccf",
   "metadata": {},
   "outputs": [
    {
     "name": "stdout",
     "output_type": "stream",
     "text": [
      "['To', ' be', ' or', ' not', ' to', ' be,', ' that', ' is', ' the']\n"
     ]
    }
   ],
   "source": [
    "print(strsplit)"
   ]
  },
  {
   "cell_type": "code",
   "execution_count": 40,
   "id": "ca5a0359",
   "metadata": {},
   "outputs": [
    {
     "name": "stdout",
     "output_type": "stream",
     "text": [
      "['o', 'be', 'or', 'not', 'to', 'be,', 'that', 'is', 'the']\n"
     ]
    }
   ],
   "source": [
    "def mysplit(strng):\n",
    "    j = 0\n",
    "    my_spl=[]\n",
    "    for i in range(len(strng)):\n",
    "\n",
    "        if strng[i] =='e':\n",
    "            my_spl.append(strng[j:i])\n",
    "            j=i\n",
    "    return my_spl\n",
    "#print(my_spl)"
   ]
  },
  {
   "cell_type": "code",
   "execution_count": 41,
   "id": "e3d14d67",
   "metadata": {},
   "outputs": [],
   "source": [
    "strng=\"To be or not to be, that is the question\"\n",
    "strsplit = mysplit(strng)"
   ]
  },
  {
   "cell_type": "code",
   "execution_count": 42,
   "id": "82731c16",
   "metadata": {},
   "outputs": [
    {
     "name": "stdout",
     "output_type": "stream",
     "text": [
      "['To b', 'e or not to b', 'e, that is th', 'e qu']\n"
     ]
    }
   ],
   "source": [
    "print(strsplit)"
   ]
  },
  {
   "cell_type": "code",
   "execution_count": 45,
   "id": "6b89dba5",
   "metadata": {},
   "outputs": [
    {
     "name": "stdout",
     "output_type": "stream",
     "text": [
      "True\n"
     ]
    }
   ],
   "source": [
    "print('z'<'â')"
   ]
  },
  {
   "cell_type": "code",
   "execution_count": 46,
   "id": "4e5bde7e",
   "metadata": {},
   "outputs": [
    {
     "name": "stdout",
     "output_type": "stream",
     "text": [
      "122\n"
     ]
    }
   ],
   "source": [
    "print(ord('z'))"
   ]
  },
  {
   "cell_type": "code",
   "execution_count": 47,
   "id": "d53e83ea",
   "metadata": {},
   "outputs": [
    {
     "name": "stdout",
     "output_type": "stream",
     "text": [
      "226\n"
     ]
    }
   ],
   "source": [
    "print(ord('â'))"
   ]
  },
  {
   "cell_type": "code",
   "execution_count": 48,
   "id": "affc93e2",
   "metadata": {},
   "outputs": [
    {
     "name": "stdout",
     "output_type": "stream",
     "text": [
      "97\n"
     ]
    }
   ],
   "source": [
    "print(ord('a'))"
   ]
  },
  {
   "cell_type": "code",
   "execution_count": 49,
   "id": "d59d2465",
   "metadata": {},
   "outputs": [
    {
     "name": "stdout",
     "output_type": "stream",
     "text": [
      "65\n"
     ]
    }
   ],
   "source": [
    "print(ord('A'))"
   ]
  },
  {
   "cell_type": "code",
   "execution_count": 50,
   "id": "e7aaa3e8",
   "metadata": {},
   "outputs": [
    {
     "name": "stdout",
     "output_type": "stream",
     "text": [
      "True\n"
     ]
    }
   ],
   "source": [
    "print('a'>'A')"
   ]
  },
  {
   "cell_type": "code",
   "execution_count": 51,
   "id": "84741d08",
   "metadata": {},
   "outputs": [
    {
     "data": {
      "text/plain": [
       "True"
      ]
     },
     "execution_count": 51,
     "metadata": {},
     "output_type": "execute_result"
    }
   ],
   "source": [
    "'alpha' == 'alpha'"
   ]
  },
  {
   "cell_type": "code",
   "execution_count": 52,
   "id": "31f954f7",
   "metadata": {},
   "outputs": [
    {
     "data": {
      "text/plain": [
       "True"
      ]
     },
     "execution_count": 52,
     "metadata": {},
     "output_type": "execute_result"
    }
   ],
   "source": [
    "'alpha' != 'Alpha'"
   ]
  },
  {
   "cell_type": "code",
   "execution_count": 54,
   "id": "cc7c011d",
   "metadata": {},
   "outputs": [
    {
     "data": {
      "text/plain": [
       "True"
      ]
     },
     "execution_count": 54,
     "metadata": {},
     "output_type": "execute_result"
    }
   ],
   "source": [
    "'alpha' == 'Alpha'.lower()"
   ]
  },
  {
   "cell_type": "code",
   "execution_count": 55,
   "id": "66db2697",
   "metadata": {},
   "outputs": [
    {
     "data": {
      "text/plain": [
       "True"
      ]
     },
     "execution_count": 55,
     "metadata": {},
     "output_type": "execute_result"
    }
   ],
   "source": [
    "'alpha' > 'Alpha'"
   ]
  },
  {
   "cell_type": "code",
   "execution_count": 4,
   "id": "2d4b99b4",
   "metadata": {},
   "outputs": [
    {
     "data": {
      "text/plain": [
       "True"
      ]
     },
     "execution_count": 4,
     "metadata": {},
     "output_type": "execute_result"
    }
   ],
   "source": [
    "'alpha' > 'Alvphaccssfsdfsd'"
   ]
  },
  {
   "cell_type": "code",
   "execution_count": 7,
   "id": "869fc335",
   "metadata": {},
   "outputs": [
    {
     "data": {
      "text/plain": [
       "False"
      ]
     },
     "execution_count": 7,
     "metadata": {},
     "output_type": "execute_result"
    }
   ],
   "source": [
    "'10'==10"
   ]
  },
  {
   "cell_type": "code",
   "execution_count": 12,
   "id": "be34b56c",
   "metadata": {},
   "outputs": [
    {
     "data": {
      "text/plain": [
       "False"
      ]
     },
     "execution_count": 12,
     "metadata": {},
     "output_type": "execute_result"
    }
   ],
   "source": [
    "'10' == '010'\n",
    "\n"
   ]
  },
  {
   "cell_type": "code",
   "execution_count": 13,
   "id": "b0b4c7a7",
   "metadata": {},
   "outputs": [
    {
     "name": "stdout",
     "output_type": "stream",
     "text": [
      "True\n",
      "False\n",
      "True\n",
      "True\n"
     ]
    }
   ],
   "source": [
    "print('10' > '010')\n",
    "print('10' > '8')\n",
    "print('20' < '8')\n",
    "print('20' < '80')"
   ]
  },
  {
   "cell_type": "code",
   "execution_count": 11,
   "id": "5f350fd1",
   "metadata": {},
   "outputs": [
    {
     "name": "stdout",
     "output_type": "stream",
     "text": [
      "49\n",
      "50\n"
     ]
    }
   ],
   "source": [
    "print(ord('1'))\n",
    "print(ord('2'))"
   ]
  },
  {
   "cell_type": "code",
   "execution_count": 14,
   "id": "dfe8f965",
   "metadata": {},
   "outputs": [
    {
     "ename": "TypeError",
     "evalue": "'>' not supported between instances of 'str' and 'int'",
     "output_type": "error",
     "traceback": [
      "\u001b[1;31m---------------------------------------------------------------------------\u001b[0m",
      "\u001b[1;31mTypeError\u001b[0m                                 Traceback (most recent call last)",
      "\u001b[1;32m~\\AppData\\Local\\Temp/ipykernel_15636/458584471.py\u001b[0m in \u001b[0;36m<module>\u001b[1;34m\u001b[0m\n\u001b[0;32m      3\u001b[0m \u001b[1;34m'10'\u001b[0m \u001b[1;33m==\u001b[0m \u001b[1;36m1\u001b[0m\u001b[1;33m\u001b[0m\u001b[1;33m\u001b[0m\u001b[0m\n\u001b[0;32m      4\u001b[0m \u001b[1;34m'10'\u001b[0m \u001b[1;33m!=\u001b[0m \u001b[1;36m1\u001b[0m\u001b[1;33m\u001b[0m\u001b[1;33m\u001b[0m\u001b[0m\n\u001b[1;32m----> 5\u001b[1;33m \u001b[1;34m'10'\u001b[0m \u001b[1;33m>\u001b[0m \u001b[1;36m10\u001b[0m\u001b[1;33m\u001b[0m\u001b[1;33m\u001b[0m\u001b[0m\n\u001b[0m",
      "\u001b[1;31mTypeError\u001b[0m: '>' not supported between instances of 'str' and 'int'"
     ]
    }
   ],
   "source": [
    "'10' == 10\n",
    "'10' != 10\n",
    "'10' == 1\n",
    "'10' != 1\n",
    "'10' > 10\n"
   ]
  },
  {
   "cell_type": "code",
   "execution_count": 15,
   "id": "b5ad3bfc",
   "metadata": {},
   "outputs": [],
   "source": [
    "first_greek = ['omega', 'alpha', 'pi', 'gamma']\n",
    "first_greek_2 = sorted(first_greek)"
   ]
  },
  {
   "cell_type": "code",
   "execution_count": 16,
   "id": "0353d4fa",
   "metadata": {},
   "outputs": [
    {
     "name": "stdout",
     "output_type": "stream",
     "text": [
      "['omega', 'alpha', 'pi', 'gamma']\n",
      "['alpha', 'gamma', 'omega', 'pi']\n"
     ]
    }
   ],
   "source": [
    "print(first_greek)\n",
    "print(first_greek_2)"
   ]
  },
  {
   "cell_type": "code",
   "execution_count": 18,
   "id": "fa85039b",
   "metadata": {},
   "outputs": [
    {
     "data": {
      "text/plain": [
       "['alpha', 'gamma', 'omega', 'pi']"
      ]
     },
     "execution_count": 18,
     "metadata": {},
     "output_type": "execute_result"
    }
   ],
   "source": [
    "first_greek = ['omega', 'alpha', 'pi', 'gamma']\n",
    "sorted(first_greek)"
   ]
  },
  {
   "cell_type": "code",
   "execution_count": 19,
   "id": "dde324f5",
   "metadata": {},
   "outputs": [],
   "source": [
    "first_greek.sort()"
   ]
  },
  {
   "cell_type": "code",
   "execution_count": 20,
   "id": "ef519173",
   "metadata": {
    "scrolled": true
   },
   "outputs": [
    {
     "name": "stdout",
     "output_type": "stream",
     "text": [
      "['alpha', 'gamma', 'omega', 'pi']\n"
     ]
    }
   ],
   "source": [
    "print(first_greek)"
   ]
  },
  {
   "cell_type": "code",
   "execution_count": 23,
   "id": "4781f0e6",
   "metadata": {},
   "outputs": [
    {
     "name": "stdout",
     "output_type": "stream",
     "text": [
      "a\n"
     ]
    }
   ],
   "source": [
    "i=1\n",
    "print(first_greek[i][1])"
   ]
  },
  {
   "cell_type": "code",
   "execution_count": 25,
   "id": "d3d9e12e",
   "metadata": {},
   "outputs": [],
   "source": [
    "first_greek.sort(reverse =True)"
   ]
  },
  {
   "cell_type": "code",
   "execution_count": 26,
   "id": "c2d14ddb",
   "metadata": {},
   "outputs": [
    {
     "name": "stdout",
     "output_type": "stream",
     "text": [
      "['pi', 'omega', 'gamma', 'alpha']\n"
     ]
    }
   ],
   "source": [
    "print(first_greek)"
   ]
  },
  {
   "cell_type": "code",
   "execution_count": 27,
   "id": "7d40b71e",
   "metadata": {},
   "outputs": [
    {
     "name": "stdout",
     "output_type": "stream",
     "text": [
      "['pi', 'omega', 'gamma', 'alpha']\n"
     ]
    }
   ],
   "source": [
    "first_greek = ['omega', 'alpha', 'pi', 'gamma']\n",
    "first_greek_2 = sorted(first_greek,reverse =True)\n",
    "print(first_greek_2 )"
   ]
  },
  {
   "cell_type": "code",
   "execution_count": 29,
   "id": "4eb64667",
   "metadata": {},
   "outputs": [],
   "source": [
    "itg = 13\n",
    "flt = 1.3\n",
    "si = str(itg)\n",
    "sf = str(flt)\n"
   ]
  },
  {
   "cell_type": "code",
   "execution_count": 30,
   "id": "053e19e3",
   "metadata": {},
   "outputs": [
    {
     "name": "stdout",
     "output_type": "stream",
     "text": [
      "13 1.3\n"
     ]
    }
   ],
   "source": [
    "print(si + ' ' + sf)"
   ]
  },
  {
   "cell_type": "code",
   "execution_count": 31,
   "id": "3fd79ba4",
   "metadata": {},
   "outputs": [
    {
     "name": "stdout",
     "output_type": "stream",
     "text": [
      "14.3\n"
     ]
    }
   ],
   "source": [
    "si = '13'\n",
    "sf = '1.3'\n",
    "itg = int(si)\n",
    "flt = float(sf)\n",
    "\n",
    "print(itg + flt)\n"
   ]
  },
  {
   "cell_type": "code",
   "execution_count": 33,
   "id": "e28882a1",
   "metadata": {},
   "outputs": [],
   "source": [
    "si = '100'\n",
    "sf = '1.3'\n",
    "itg = int(si)\n",
    "flt = float(sf)"
   ]
  },
  {
   "cell_type": "code",
   "execution_count": 63,
   "id": "c6f4c096",
   "metadata": {},
   "outputs": [],
   "source": [
    "display={\n",
    "    '0':['###','# #','# #','# #','###'],\n",
    "    '1':[' # ',' # ',' # ',' # ',' # '],\n",
    "    '2':['###','  #','###','#  ','###'],\n",
    "    '3':['###','  #','###','  #','###'],\n",
    "    '4':['# #','# #','###','  #','  #'],\n",
    "    '5':['###','#  ','###','  #','###'],\n",
    "    '6':['###','#  ','###','# #','###'],\n",
    "    '7':['###','  #','  #','  #','  #'],\n",
    "    '8':['###','# #','###','# #','###'],\n",
    "    '9':['###','# #','###','  #','###'],\n",
    "    '.':[' ',' ',' ',' ','#'],\n",
    "}\n",
    "\n",
    "number = 323\n",
    "\n",
    "def seven_display(number):\n",
    "    number1 = str(number)\n",
    "    digits = [display[i] for i in str(number)]\n",
    "    #print(digits)\n",
    "\n",
    "\n",
    "    for i in range(5):\n",
    "        print(' '.join(digit[i] for digit in digits))\n",
    "    "
   ]
  },
  {
   "cell_type": "code",
   "execution_count": 68,
   "id": "dce36e47",
   "metadata": {},
   "outputs": [
    {
     "name": "stdout",
     "output_type": "stream",
     "text": [
      "Please input a number123231232132.7\n",
      " #  ### ### ### ###  #  ### ### ###  #  ### ###   ###\n",
      " #    #   #   #   #  #    #   #   #  #    #   #     #\n",
      " #  ### ### ### ###  #  ### ### ###  #  ### ###     #\n",
      " #  #     # #     #  #  #     # #    #    # #       #\n",
      " #  ### ### ### ###  #  ### ### ###  #  ### ### #   #\n"
     ]
    }
   ],
   "source": [
    "#number = 456.08\n",
    "\n",
    "number = input('Please input a number')\n",
    "seven_display(number)"
   ]
  },
  {
   "cell_type": "code",
   "execution_count": 69,
   "id": "0d9c1d7e",
   "metadata": {},
   "outputs": [
    {
     "name": "stdout",
     "output_type": "stream",
     "text": [
      "a\n"
     ]
    }
   ],
   "source": [
    "print('a')"
   ]
  },
  {
   "cell_type": "code",
   "execution_count": 73,
   "id": "149e314c",
   "metadata": {},
   "outputs": [
    {
     "name": "stdout",
     "output_type": "stream",
     "text": [
      "Ϧ\n"
     ]
    }
   ],
   "source": [
    "print(chr(ord('a')+901))"
   ]
  },
  {
   "cell_type": "code",
   "execution_count": 74,
   "id": "2f0cffaa",
   "metadata": {},
   "outputs": [
    {
     "name": "stdout",
     "output_type": "stream",
     "text": [
      "a\n"
     ]
    }
   ],
   "source": [
    "print(chr(ord('Ϧ')-901))"
   ]
  },
  {
   "cell_type": "code",
   "execution_count": 75,
   "id": "f5eeb5b9",
   "metadata": {},
   "outputs": [
    {
     "name": "stdout",
     "output_type": "stream",
     "text": [
      "Enter your message: love\n",
      "MPWF\n"
     ]
    }
   ],
   "source": [
    "# Caesar cipher.\n",
    "text = input(\"Enter your message: \")\n",
    "cipher = ''\n",
    "for char in text:\n",
    "    if not char.isalpha():\n",
    "        continue\n",
    "    char = char.upper()\n",
    "    code = ord(char) + 1\n",
    "    if code > ord('Z'):\n",
    "        code = ord('A')\n",
    "    cipher += chr(code)\n",
    "\n",
    "print(cipher)"
   ]
  },
  {
   "cell_type": "code",
   "execution_count": null,
   "id": "0e681d6d",
   "metadata": {},
   "outputs": [],
   "source": [
    "# Caesar cipher - decrypting a message.\n",
    "cipher = input('Enter your cryptogram: ')\n",
    "text = ''\n",
    "for char in cipher:\n",
    "    if not char.isalpha():\n",
    "        continue\n",
    "    char = char.upper()\n",
    "    code = ord(char) - 1\n",
    "    if code < ord('A'):\n",
    "        code = ord('Z')\n",
    "    text += chr(code)\n",
    "\n",
    "print(text)\n"
   ]
  },
  {
   "cell_type": "code",
   "execution_count": 76,
   "id": "bd340b67",
   "metadata": {},
   "outputs": [
    {
     "name": "stdout",
     "output_type": "stream",
     "text": [
      "Enter your cryptogram: MPWF\n",
      "LOVE\n"
     ]
    }
   ],
   "source": [
    "# Caesar cipher - decrypting a message.\n",
    "cipher = input('Enter your cryptogram: ')\n",
    "text = ''\n",
    "for char in cipher:\n",
    "    if not char.isalpha():\n",
    "        continue\n",
    "    char = char.upper()\n",
    "    code = ord(char) - 1\n",
    "    if code < ord('A'):\n",
    "        code = ord('Z')\n",
    "    text += chr(code)\n",
    "\n",
    "print(text)\n"
   ]
  },
  {
   "cell_type": "code",
   "execution_count": 78,
   "id": "a0b090fe",
   "metadata": {},
   "outputs": [
    {
     "name": "stdout",
     "output_type": "stream",
     "text": [
      "Enter a line of numbers - separate them with spaces: 132131232\n",
      "The total is: 132131232.0\n"
     ]
    }
   ],
   "source": [
    "# Numbers Processor.\n",
    "\n",
    "line = input(\"Enter a line of numbers - separate them with spaces: \")\n",
    "strings = line.split()\n",
    "total = 0\n",
    "try:\n",
    "    for substr in strings:\n",
    "        total += float(substr)\n",
    "    print(\"The total is:\", total)\n",
    "except:\n",
    "    print(substr, \"is not a number.\")\n"
   ]
  },
  {
   "cell_type": "code",
   "execution_count": 81,
   "id": "405dd819",
   "metadata": {},
   "outputs": [
    {
     "name": "stdout",
     "output_type": "stream",
     "text": [
      "Enter IBAN, please: DE02100100100152 517108\n",
      "IBAN entered is valid.\n"
     ]
    }
   ],
   "source": [
    "# IBAN Validator.\n",
    "\n",
    "iban = input(\"Enter IBAN, please: \")\n",
    "iban = iban.replace(' ','')\n",
    "\n",
    "if not iban.isalnum():\n",
    "    print(\"You have entered invalid characters.\")\n",
    "elif len(iban) < 15:\n",
    "    print(\"IBAN entered is too short.\")\n",
    "elif len(iban) > 31:\n",
    "    print(\"IBAN entered is too long.\")\n",
    "else:\n",
    "    iban = (iban[4:] + iban[0:4]).upper()\n",
    "    iban2 = ''\n",
    "    for ch in iban:\n",
    "        if ch.isdigit():\n",
    "            iban2 += ch\n",
    "        else:\n",
    "            iban2 += str(10 + ord(ch) - ord('A'))\n",
    "    iban = int(iban2)\n",
    "    if iban % 97 == 1:\n",
    "        print(\"IBAN entered is valid.\")\n",
    "    else:\n",
    "        print(\"IBAN entered is invalid.\")\n"
   ]
  },
  {
   "cell_type": "code",
   "execution_count": 85,
   "id": "9c1ed71c",
   "metadata": {},
   "outputs": [
    {
     "name": "stdout",
     "output_type": "stream",
     "text": [
      "Enter your cryptogram: hello124G\n",
      "Enter your shift number (1-25)5\n",
      "mjqqt124\n"
     ]
    }
   ],
   "source": [
    "# Caesar cipher - decrypting a message.\n",
    "cipher = input('Enter your cryptogram: ')\n",
    "shift = int(input('Enter your shift number (1-25)'))\n",
    "text = ''\n",
    "for char in cipher:\n",
    "    if not char.isalpha():\n",
    "        text +=char\n",
    "    if char.islower():\n",
    "        code = ord(char) + shift\n",
    "        if code>ord('z'):\n",
    "            code= ord('a') + (code - ord(z)-1)\n",
    "        text +=chr(code)\n",
    "    #if char.islower():\n",
    "\n",
    "\n",
    "print(text)\n"
   ]
  },
  {
   "cell_type": "code",
   "execution_count": null,
   "id": "ffafc2c0",
   "metadata": {},
   "outputs": [],
   "source": [
    "#EX Lab 1,2"
   ]
  },
  {
   "cell_type": "code",
   "execution_count": null,
   "id": "9132e568",
   "metadata": {},
   "outputs": [],
   "source": []
  }
 ],
 "metadata": {
  "kernelspec": {
   "display_name": "Python 3 (ipykernel)",
   "language": "python",
   "name": "python3"
  },
  "language_info": {
   "codemirror_mode": {
    "name": "ipython",
    "version": 3
   },
   "file_extension": ".py",
   "mimetype": "text/x-python",
   "name": "python",
   "nbconvert_exporter": "python",
   "pygments_lexer": "ipython3",
   "version": "3.9.5"
  }
 },
 "nbformat": 4,
 "nbformat_minor": 5
}
