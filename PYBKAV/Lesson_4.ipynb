{
 "cells": [
  {
   "cell_type": "code",
   "execution_count": 1,
   "id": "2db90356",
   "metadata": {},
   "outputs": [],
   "source": [
    "a = 2"
   ]
  },
  {
   "cell_type": "code",
   "execution_count": null,
   "id": "2a0de7ef",
   "metadata": {},
   "outputs": [],
   "source": [
    "a = 0\n",
    "a = "
   ]
  },
  {
   "cell_type": "code",
   "execution_count": 3,
   "id": "4ab10e4e",
   "metadata": {},
   "outputs": [],
   "source": [
    "sum = 0\n",
    "sum = sum + 2"
   ]
  },
  {
   "cell_type": "code",
   "execution_count": 5,
   "id": "c8c9e253",
   "metadata": {},
   "outputs": [],
   "source": [
    "a = []\n",
    "a.append([2,3])"
   ]
  },
  {
   "cell_type": "code",
   "execution_count": 6,
   "id": "8b206eda",
   "metadata": {},
   "outputs": [
    {
     "name": "stdout",
     "output_type": "stream",
     "text": [
      "[[2, 3]]\n"
     ]
    }
   ],
   "source": [
    "print(a)"
   ]
  },
  {
   "cell_type": "code",
   "execution_count": 8,
   "id": "53494633",
   "metadata": {},
   "outputs": [],
   "source": [
    "import numpy as np\n",
    "b = np.zeros((2,3))"
   ]
  },
  {
   "cell_type": "code",
   "execution_count": 9,
   "id": "37bd5b6d",
   "metadata": {},
   "outputs": [
    {
     "name": "stdout",
     "output_type": "stream",
     "text": [
      "[[0. 0. 0.]\n",
      " [0. 0. 0.]]\n"
     ]
    }
   ],
   "source": [
    "print(b)"
   ]
  },
  {
   "cell_type": "code",
   "execution_count": 11,
   "id": "bcafcbc5",
   "metadata": {},
   "outputs": [],
   "source": [
    "a = 3.\n",
    "b = 4.0"
   ]
  },
  {
   "cell_type": "code",
   "execution_count": 12,
   "id": "603d8cfa",
   "metadata": {},
   "outputs": [
    {
     "name": "stdout",
     "output_type": "stream",
     "text": [
      "5.0\n"
     ]
    }
   ],
   "source": [
    "c = (a**2 +b**2)**0.5\n",
    "print(c)"
   ]
  },
  {
   "cell_type": "code",
   "execution_count": 13,
   "id": "885cca7a",
   "metadata": {},
   "outputs": [
    {
     "name": "stdout",
     "output_type": "stream",
     "text": [
      "13\n"
     ]
    }
   ],
   "source": [
    "John = 3\n",
    "Mary = 5\n",
    "Adam = 5\n",
    "total_apple = John +Mary +Adam\n",
    "print(total_apple)"
   ]
  },
  {
   "cell_type": "code",
   "execution_count": 14,
   "id": "ba0e0e44",
   "metadata": {},
   "outputs": [
    {
     "name": "stdout",
     "output_type": "stream",
     "text": [
      "8\n"
     ]
    }
   ],
   "source": [
    "x = 3\n",
    "x = x+5\n",
    "print(x)"
   ]
  },
  {
   "cell_type": "code",
   "execution_count": 16,
   "id": "dc4ae85b",
   "metadata": {},
   "outputs": [
    {
     "name": "stdout",
     "output_type": "stream",
     "text": [
      "8\n"
     ]
    }
   ],
   "source": [
    "x = 3\n",
    "x +=5\n",
    "print(x)"
   ]
  },
  {
   "cell_type": "code",
   "execution_count": 17,
   "id": "f7e76b26",
   "metadata": {},
   "outputs": [
    {
     "name": "stdout",
     "output_type": "stream",
     "text": [
      "-2\n"
     ]
    }
   ],
   "source": [
    "x = 3\n",
    "x -=5\n",
    "print(x)"
   ]
  },
  {
   "cell_type": "code",
   "execution_count": 20,
   "id": "a3764683",
   "metadata": {},
   "outputs": [
    {
     "name": "stdout",
     "output_type": "stream",
     "text": [
      "0.6\n",
      "0\n",
      "3\n",
      "243\n"
     ]
    }
   ],
   "source": [
    "x = 3\n",
    "x /=5\n",
    "print(x)\n",
    "x = 3\n",
    "x //=5\n",
    "print(x)\n",
    "x = 3\n",
    "x %=5\n",
    "print(x)\n",
    "x = 3\n",
    "x **=5\n",
    "print(x)"
   ]
  },
  {
   "cell_type": "code",
   "execution_count": 31,
   "id": "ce8fca8d",
   "metadata": {},
   "outputs": [
    {
     "name": "stdout",
     "output_type": "stream",
     "text": [
      "7.38 miles is 11.8818 kilometers\n",
      "12.25 kilometers is 7.6087 miles\n"
     ]
    }
   ],
   "source": [
    "kilometers = 12.25\n",
    "miles = 7.38\n",
    "\n",
    "miles_to_kilometers = miles*1.61 ###\n",
    "kilometers_to_miles = kilometers/1.61 ###\n",
    "\n",
    "print(miles, \"miles is\", round(miles_to_kilometers, 4), \"kilometers\")\n",
    "print(kilometers, \"kilometers is\", round(kilometers_to_miles, 5), \"miles\")\n"
   ]
  },
  {
   "cell_type": "code",
   "execution_count": 28,
   "id": "e5ee83a3",
   "metadata": {},
   "outputs": [
    {
     "data": {
      "text/plain": [
       "'\\nx = float(x)\\ny = 3*x**3-2*x**2+3*x-1\\n'"
      ]
     },
     "execution_count": 28,
     "metadata": {},
     "output_type": "execute_result"
    }
   ],
   "source": [
    "x = -1 # hardcode your test data here\n",
    "'''\n",
    "x = float(x)\n",
    "y = 3*x**3-2*x**2+3*x-1\n",
    "'''\n",
    "# write your code here\n",
    "#print(\"y =\", y)"
   ]
  },
  {
   "cell_type": "code",
   "execution_count": 26,
   "id": "454ed90a",
   "metadata": {},
   "outputs": [],
   "source": [
    "_1 = 2"
   ]
  },
  {
   "cell_type": "code",
   "execution_count": null,
   "id": "3036e6e8",
   "metadata": {},
   "outputs": [],
   "source": [
    "print(\"Tell me anything...\")\n",
    "anything = input()\n",
    "print(\"Hmm...\", anything, \"... Really?\")\n"
   ]
  },
  {
   "cell_type": "code",
   "execution_count": 29,
   "id": "2923b120",
   "metadata": {},
   "outputs": [
    {
     "name": "stdout",
     "output_type": "stream",
     "text": [
      "hello input\n"
     ]
    },
    {
     "data": {
      "text/plain": [
       "'hello input'"
      ]
     },
     "execution_count": 29,
     "metadata": {},
     "output_type": "execute_result"
    }
   ],
   "source": [
    "input()"
   ]
  },
  {
   "cell_type": "code",
   "execution_count": 32,
   "id": "cc375941",
   "metadata": {},
   "outputs": [
    {
     "name": "stdout",
     "output_type": "stream",
     "text": [
      "Tell me any thing ...hi\n"
     ]
    }
   ],
   "source": [
    "anything = input('Tell me any thing ...')"
   ]
  },
  {
   "cell_type": "code",
   "execution_count": 33,
   "id": "82b8a378",
   "metadata": {},
   "outputs": [
    {
     "name": "stdout",
     "output_type": "stream",
     "text": [
      "Enter a number: 2\n"
     ]
    },
    {
     "ename": "TypeError",
     "evalue": "unsupported operand type(s) for ** or pow(): 'str' and 'float'",
     "output_type": "error",
     "traceback": [
      "\u001b[1;31m---------------------------------------------------------------------------\u001b[0m",
      "\u001b[1;31mTypeError\u001b[0m                                 Traceback (most recent call last)",
      "\u001b[1;32m~\\AppData\\Local\\Temp/ipykernel_1308/2055937481.py\u001b[0m in \u001b[0;36m<module>\u001b[1;34m\u001b[0m\n\u001b[0;32m      1\u001b[0m \u001b[0manything\u001b[0m \u001b[1;33m=\u001b[0m \u001b[0minput\u001b[0m\u001b[1;33m(\u001b[0m\u001b[1;34m\"Enter a number: \"\u001b[0m\u001b[1;33m)\u001b[0m\u001b[1;33m\u001b[0m\u001b[1;33m\u001b[0m\u001b[0m\n\u001b[1;32m----> 2\u001b[1;33m \u001b[0msomething\u001b[0m \u001b[1;33m=\u001b[0m \u001b[0manything\u001b[0m \u001b[1;33m**\u001b[0m \u001b[1;36m2.0\u001b[0m\u001b[1;33m\u001b[0m\u001b[1;33m\u001b[0m\u001b[0m\n\u001b[0m\u001b[0;32m      3\u001b[0m \u001b[0mprint\u001b[0m\u001b[1;33m(\u001b[0m\u001b[0manything\u001b[0m\u001b[1;33m,\u001b[0m \u001b[1;34m\"to the power of 2 is\"\u001b[0m\u001b[1;33m,\u001b[0m \u001b[0msomething\u001b[0m\u001b[1;33m)\u001b[0m\u001b[1;33m\u001b[0m\u001b[1;33m\u001b[0m\u001b[0m\n",
      "\u001b[1;31mTypeError\u001b[0m: unsupported operand type(s) for ** or pow(): 'str' and 'float'"
     ]
    }
   ],
   "source": [
    "anything = input(\"Enter a number: \")\n",
    "something = anything ** 2.0\n",
    "print(anything, \"to the power of 2 is\", something)"
   ]
  },
  {
   "cell_type": "code",
   "execution_count": 34,
   "id": "70701f78",
   "metadata": {},
   "outputs": [
    {
     "data": {
      "text/plain": [
       "str"
      ]
     },
     "execution_count": 34,
     "metadata": {},
     "output_type": "execute_result"
    }
   ],
   "source": [
    "type(anything)"
   ]
  },
  {
   "cell_type": "code",
   "execution_count": 35,
   "id": "8a0ad0dc",
   "metadata": {},
   "outputs": [
    {
     "name": "stdout",
     "output_type": "stream",
     "text": [
      "Enter a number: 2\n",
      "2.0 to the power of 2 is 4.0\n"
     ]
    }
   ],
   "source": [
    "anything = float(input(\"Enter a number: \"))\n",
    "something = anything ** 2.0\n",
    "print(anything, \"to the power of 2 is\", something)"
   ]
  },
  {
   "cell_type": "code",
   "execution_count": null,
   "id": "e3a93940",
   "metadata": {},
   "outputs": [],
   "source": [
    "# Input from keyboard ItemName, Quantity, and Unit Price\n",
    "# Print order information"
   ]
  },
  {
   "cell_type": "code",
   "execution_count": null,
   "id": "ff36e2b5",
   "metadata": {},
   "outputs": [],
   "source": [
    "Order Information : \n",
    "    Item Name : 'Milk'\n",
    "    Quantity: 10\n",
    "    UnitPrice : 3.5 USD. \n",
    "===================================\n",
    "Total Amount : 35.0 USD"
   ]
  },
  {
   "cell_type": "code",
   "execution_count": 44,
   "id": "c1a67f79",
   "metadata": {},
   "outputs": [
    {
     "name": "stdout",
     "output_type": "stream",
     "text": [
      "Total Amount:\n",
      "\tmilk,\n",
      "\t5\n"
     ]
    }
   ],
   "source": [
    "a = 5\n",
    "b = 'milk'\n",
    "print('Total Amount:\\n\\t{1},\\n\\t{0}'.format((a),(b)))"
   ]
  },
  {
   "cell_type": "code",
   "execution_count": 40,
   "id": "909b5127",
   "metadata": {},
   "outputs": [
    {
     "name": "stdout",
     "output_type": "stream",
     "text": [
      "Input a Item Name : Milk\n"
     ]
    }
   ],
   "source": [
    "ItemName = input('Input a Item Name : ')"
   ]
  },
  {
   "cell_type": "code",
   "execution_count": 41,
   "id": "2ebacbcb",
   "metadata": {},
   "outputs": [
    {
     "name": "stdout",
     "output_type": "stream",
     "text": [
      "Input a quantity of Item: 10\n"
     ]
    }
   ],
   "source": [
    "Quantity = int(input('Input a quantity of Item: '))"
   ]
  },
  {
   "cell_type": "code",
   "execution_count": 42,
   "id": "03f9ce06",
   "metadata": {},
   "outputs": [
    {
     "name": "stdout",
     "output_type": "stream",
     "text": [
      "Input a Unit Price of Item3.5\n"
     ]
    }
   ],
   "source": [
    "UnitPrice = float(input('Input a Unit Price of Item'))"
   ]
  },
  {
   "cell_type": "code",
   "execution_count": 43,
   "id": "e689fcbf",
   "metadata": {},
   "outputs": [
    {
     "name": "stdout",
     "output_type": "stream",
     "text": [
      "35.0\n"
     ]
    }
   ],
   "source": [
    "Total = UnitPrice*Quantity\n",
    "print(Total)"
   ]
  },
  {
   "cell_type": "code",
   "execution_count": 52,
   "id": "80ca9669",
   "metadata": {},
   "outputs": [],
   "source": [
    "sep = '='*30"
   ]
  },
  {
   "cell_type": "code",
   "execution_count": 53,
   "id": "579c39a8",
   "metadata": {},
   "outputs": [],
   "source": [
    "infor ='Order Information: \\n\\t Item Name : {0} \\n\\t Quantity : {1} \\n\\t UnitPrice {2} \\n{3}'"
   ]
  },
  {
   "cell_type": "code",
   "execution_count": 54,
   "id": "ac2cc20f",
   "metadata": {},
   "outputs": [
    {
     "name": "stdout",
     "output_type": "stream",
     "text": [
      "Order Information: \n",
      "\t Item Name : Milk \n",
      "\t Quantity : 10 \n",
      "\t UnitPrice 3.5 \n",
      "==============================\n",
      "Total Amount :35.0\n"
     ]
    }
   ],
   "source": [
    "print(infor.format(ItemName,Quantity,UnitPrice,sep),f'Total Amount :{Total}',sep='\\n')"
   ]
  },
  {
   "cell_type": "code",
   "execution_count": 55,
   "id": "9bd76015",
   "metadata": {},
   "outputs": [
    {
     "name": "stdout",
     "output_type": "stream",
     "text": [
      "Input first leg length: 2\n",
      "Input second leg length: 3\n",
      "Hypotenuse length is 3.605551275463989\n"
     ]
    }
   ],
   "source": [
    "leg_a = float(input(\"Input first leg length: \"))\n",
    "leg_b = float(input(\"Input second leg length: \"))\n",
    "hypo = (leg_a**2 + leg_b**2) ** .5\n",
    "print(\"Hypotenuse length is\", hypo)"
   ]
  },
  {
   "cell_type": "code",
   "execution_count": 56,
   "id": "f40b7edd",
   "metadata": {},
   "outputs": [
    {
     "name": "stdout",
     "output_type": "stream",
     "text": [
      "Input first leg length: 4\n",
      "Input second leg length: 6\n",
      "Hypotenuse length is 7.211102550927978\n",
      "Input first leg length: 4\n",
      "Input second leg length: 6\n",
      "Hypotenuse length is 7.211102550927978\n"
     ]
    }
   ],
   "source": [
    "leg_a = float(input(\"Input first leg length: \"))\n",
    "leg_b = float(input(\"Input second leg length: \"))\n",
    "print(\"Hypotenuse length is\", (leg_a**2 + leg_b**2) ** .5)\n",
    "\n",
    "leg_a = float(input(\"Input first leg length: \"))\n",
    "leg_b = float(input(\"Input second leg length: \"))\n",
    "hypo = (leg_a**2 + leg_b**2) ** .5\n",
    "print(\"Hypotenuse length is\", hypo)\n",
    "\n",
    "\n"
   ]
  },
  {
   "cell_type": "code",
   "execution_count": 60,
   "id": "941809fd",
   "metadata": {},
   "outputs": [
    {
     "name": "stdout",
     "output_type": "stream",
     "text": [
      " hello python python python python python programming\n"
     ]
    }
   ],
   "source": [
    "a= ' hello '\n",
    "b = 'python '\n",
    "c = 'programming'\n",
    "d = a+b*5+c\n",
    "print(d)"
   ]
  },
  {
   "cell_type": "code",
   "execution_count": null,
   "id": "560de00f",
   "metadata": {},
   "outputs": [],
   "source": [
    "fnam = input(\"May I have your first name, please? \")\n",
    "lnam = input(\"May I have your last name, please? \")\n",
    "print(\"Thank you.\")\n",
    "print(\"\\nYour name is \" + fnam + \" \" + l)"
   ]
  },
  {
   "cell_type": "code",
   "execution_count": 64,
   "id": "bcd8a9b4",
   "metadata": {},
   "outputs": [
    {
     "name": "stdout",
     "output_type": "stream",
     "text": [
      "\n"
     ]
    }
   ],
   "source": [
    "print(a*-6)"
   ]
  },
  {
   "cell_type": "code",
   "execution_count": 66,
   "id": "b2af2999",
   "metadata": {},
   "outputs": [
    {
     "name": "stdout",
     "output_type": "stream",
     "text": [
      "10python \n"
     ]
    }
   ],
   "source": [
    "a = 10\n",
    "print(str(a)+b)"
   ]
  },
  {
   "cell_type": "code",
   "execution_count": 67,
   "id": "3fbc3f66",
   "metadata": {},
   "outputs": [
    {
     "name": "stdout",
     "output_type": "stream",
     "text": [
      "Input first leg length: 2\n",
      "Input second leg length: 5\n",
      "Hypotenuse length is 5.385164807134504\n"
     ]
    }
   ],
   "source": [
    "leg_a = float(input(\"Input first leg length: \"))\n",
    "leg_b = float(input(\"Input second leg length: \"))\n",
    "print(\"Hypotenuse length is \" + str((leg_a**2 + leg_b**2) ** .5))\n"
   ]
  },
  {
   "cell_type": "code",
   "execution_count": 70,
   "id": "9375a5fb",
   "metadata": {},
   "outputs": [],
   "source": [
    "x= 1"
   ]
  },
  {
   "cell_type": "code",
   "execution_count": 71,
   "id": "fd7285ec",
   "metadata": {},
   "outputs": [],
   "source": [
    "y = 1/(x+(1/(x+(1/(x+(1/x))))))"
   ]
  },
  {
   "cell_type": "code",
   "execution_count": 72,
   "id": "9d2666a7",
   "metadata": {},
   "outputs": [
    {
     "name": "stdout",
     "output_type": "stream",
     "text": [
      "0.6000000000000001\n"
     ]
    }
   ],
   "source": [
    "print(y)"
   ]
  },
  {
   "cell_type": "code",
   "execution_count": 73,
   "id": "26b76fe4",
   "metadata": {},
   "outputs": [],
   "source": [
    "x= 10"
   ]
  },
  {
   "cell_type": "code",
   "execution_count": 74,
   "id": "8c1232ac",
   "metadata": {},
   "outputs": [
    {
     "name": "stdout",
     "output_type": "stream",
     "text": [
      "0.6000000000000001\n"
     ]
    }
   ],
   "source": [
    "print(y)"
   ]
  },
  {
   "cell_type": "code",
   "execution_count": 75,
   "id": "8494908a",
   "metadata": {},
   "outputs": [
    {
     "name": "stdout",
     "output_type": "stream",
     "text": [
      "Starting time (hours): 12\n",
      "Starting time (minutes): 17\n",
      "Event duration (minutes): 59\n",
      "Ending time 13:16\n"
     ]
    }
   ],
   "source": [
    "hour = int(input(\"Starting time (hours): \"))\n",
    "mins = int(input(\"Starting time (minutes): \"))\n",
    "dura = int(input(\"Event duration (minutes): \"))\n",
    "\n",
    "min2 = mins + dura\n",
    "\n",
    "end_hour = hour + min2//60\n",
    "end_min = min2%60\n",
    "print(f'Ending time {end_hour}:{end_min}')\n",
    "\n",
    "# Write your code here.\n"
   ]
  },
  {
   "cell_type": "code",
   "execution_count": 76,
   "id": "576b041c",
   "metadata": {},
   "outputs": [
    {
     "name": "stdout",
     "output_type": "stream",
     "text": [
      "\n"
     ]
    },
    {
     "data": {
      "text/plain": [
       "''"
      ]
     },
     "execution_count": 76,
     "metadata": {},
     "output_type": "execute_result"
    }
   ],
   "source": [
    "input()"
   ]
  },
  {
   "cell_type": "code",
   "execution_count": null,
   "id": "b4ae75cd",
   "metadata": {},
   "outputs": [],
   "source": [
    "##EX1 From the keyboard input the student profile including : \n",
    "# Name of Subject 1,2,3 and Mark of Subject 1,2,3.\n",
    "# Name of Student and Date of Birth\n",
    "# And print the profile of these students with Average Mark"
   ]
  },
  {
   "cell_type": "code",
   "execution_count": null,
   "id": "e6619d64",
   "metadata": {},
   "outputs": [],
   "source": [
    "#EX2 Quiz\n",
    "#EX3 Test"
   ]
  },
  {
   "cell_type": "code",
   "execution_count": null,
   "id": "fd48762c",
   "metadata": {},
   "outputs": [],
   "source": []
  },
  {
   "cell_type": "code",
   "execution_count": null,
   "id": "db6895e1",
   "metadata": {},
   "outputs": [],
   "source": []
  }
 ],
 "metadata": {
  "kernelspec": {
   "display_name": "Python 3 (ipykernel)",
   "language": "python",
   "name": "python3"
  },
  "language_info": {
   "codemirror_mode": {
    "name": "ipython",
    "version": 3
   },
   "file_extension": ".py",
   "mimetype": "text/x-python",
   "name": "python",
   "nbconvert_exporter": "python",
   "pygments_lexer": "ipython3",
   "version": "3.9.5"
  }
 },
 "nbformat": 4,
 "nbformat_minor": 5
}
