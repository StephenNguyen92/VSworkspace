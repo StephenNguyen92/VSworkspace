{
 "cells": [
  {
   "cell_type": "code",
   "execution_count": 1,
   "id": "dfe32bde",
   "metadata": {},
   "outputs": [
    {
     "name": "stdout",
     "output_type": "stream",
     "text": [
      "True\n"
     ]
    }
   ],
   "source": [
    "print(3==3)"
   ]
  },
  {
   "cell_type": "code",
   "execution_count": 2,
   "id": "3663327b",
   "metadata": {},
   "outputs": [
    {
     "name": "stdout",
     "output_type": "stream",
     "text": [
      "False\n"
     ]
    }
   ],
   "source": [
    "print('letter'==3)"
   ]
  },
  {
   "cell_type": "code",
   "execution_count": 3,
   "id": "f156d943",
   "metadata": {},
   "outputs": [
    {
     "data": {
      "text/plain": [
       "-2"
      ]
     },
     "execution_count": 3,
     "metadata": {},
     "output_type": "execute_result"
    }
   ],
   "source": [
    "+1\n",
    "-2"
   ]
  },
  {
   "cell_type": "code",
   "execution_count": 7,
   "id": "58698190",
   "metadata": {},
   "outputs": [
    {
     "data": {
      "text/plain": [
       "True"
      ]
     },
     "execution_count": 7,
     "metadata": {},
     "output_type": "execute_result"
    }
   ],
   "source": [
    "3==3 and True"
   ]
  },
  {
   "cell_type": "code",
   "execution_count": null,
   "id": "90006b29",
   "metadata": {},
   "outputs": [],
   "source": [
    "var=0"
   ]
  },
  {
   "cell_type": "code",
   "execution_count": 11,
   "id": "72033f7b",
   "metadata": {},
   "outputs": [],
   "source": [
    "var = var+3 \n",
    "var -=5"
   ]
  },
  {
   "cell_type": "code",
   "execution_count": 12,
   "id": "52eccbe3",
   "metadata": {},
   "outputs": [
    {
     "data": {
      "text/plain": [
       "False"
      ]
     },
     "execution_count": 12,
     "metadata": {},
     "output_type": "execute_result"
    }
   ],
   "source": [
    "var==0"
   ]
  },
  {
   "cell_type": "code",
   "execution_count": 13,
   "id": "a63f3063",
   "metadata": {},
   "outputs": [
    {
     "data": {
      "text/plain": [
       "True"
      ]
     },
     "execution_count": 13,
     "metadata": {},
     "output_type": "execute_result"
    }
   ],
   "source": [
    "var!=0"
   ]
  },
  {
   "cell_type": "code",
   "execution_count": 14,
   "id": "447f8a1e",
   "metadata": {},
   "outputs": [
    {
     "name": "stdout",
     "output_type": "stream",
     "text": [
      "False\n",
      "True\n"
     ]
    }
   ],
   "source": [
    "var = 0  # Assigning 0 to var\n",
    "print(var != 0)\n",
    "\n",
    "var = 1  # Assigning 1 to var\n",
    "print(var != 0)"
   ]
  },
  {
   "cell_type": "code",
   "execution_count": 16,
   "id": "e1acf8b0",
   "metadata": {},
   "outputs": [
    {
     "data": {
      "text/plain": [
       "True"
      ]
     },
     "execution_count": 16,
     "metadata": {},
     "output_type": "execute_result"
    }
   ],
   "source": [
    "black_sheep = 300\n",
    "white_sheep = 200\n",
    "black_sheep>white_sheep"
   ]
  },
  {
   "cell_type": "code",
   "execution_count": 18,
   "id": "75fb3d6d",
   "metadata": {},
   "outputs": [
    {
     "data": {
      "text/plain": [
       "True"
      ]
     },
     "execution_count": 18,
     "metadata": {},
     "output_type": "execute_result"
    }
   ],
   "source": [
    "black_sheep = 300\n",
    "white_sheep = 200\n",
    "black_sheep>=white_sheep"
   ]
  },
  {
   "cell_type": "code",
   "execution_count": 22,
   "id": "c7c5049b",
   "metadata": {},
   "outputs": [],
   "source": [
    "black_sheep = 300\n",
    "white_sheep = 200\n",
    "conditional_a=black_sheep<=white_sheep"
   ]
  },
  {
   "cell_type": "code",
   "execution_count": 23,
   "id": "66b6a82d",
   "metadata": {},
   "outputs": [
    {
     "name": "stdout",
     "output_type": "stream",
     "text": [
      "Is number of black sheep large than white sheep False\n"
     ]
    }
   ],
   "source": [
    "print('Is number of black sheep large than white sheep',conditional_a)"
   ]
  },
  {
   "cell_type": "code",
   "execution_count": 24,
   "id": "aaaca28e",
   "metadata": {},
   "outputs": [
    {
     "data": {
      "text/plain": [
       "False"
      ]
     },
     "execution_count": 24,
     "metadata": {},
     "output_type": "execute_result"
    }
   ],
   "source": [
    "4+4<5"
   ]
  },
  {
   "cell_type": "code",
   "execution_count": 27,
   "id": "c77757d3",
   "metadata": {},
   "outputs": [
    {
     "data": {
      "text/plain": [
       "True"
      ]
     },
     "execution_count": 27,
     "metadata": {},
     "output_type": "execute_result"
    }
   ],
   "source": [
    "4+4<5+6"
   ]
  },
  {
   "cell_type": "code",
   "execution_count": 28,
   "id": "6e5f5225",
   "metadata": {},
   "outputs": [
    {
     "data": {
      "text/plain": [
       "True"
      ]
     },
     "execution_count": 28,
     "metadata": {},
     "output_type": "execute_result"
    }
   ],
   "source": [
    "2<6"
   ]
  },
  {
   "cell_type": "code",
   "execution_count": 29,
   "id": "425e619c",
   "metadata": {},
   "outputs": [
    {
     "name": "stdout",
     "output_type": "stream",
     "text": [
      "please input an integer number200\n",
      "True\n"
     ]
    }
   ],
   "source": [
    "n = input('please input an integer number')\n",
    "n = int(n)\n",
    "if n<100:\n",
    "    print('False')\n",
    "if n>=100:\n",
    "    print('True')"
   ]
  },
  {
   "cell_type": "code",
   "execution_count": 31,
   "id": "e683f093",
   "metadata": {},
   "outputs": [
    {
     "name": "stdout",
     "output_type": "stream",
     "text": [
      "please input an integer number90\n",
      "False\n"
     ]
    }
   ],
   "source": [
    "n = int(input('please input an integer number'))\n",
    "print(n>100)"
   ]
  },
  {
   "cell_type": "code",
   "execution_count": 50,
   "id": "9e828818",
   "metadata": {},
   "outputs": [
    {
     "name": "stdout",
     "output_type": "stream",
     "text": [
      "48\n"
     ]
    }
   ],
   "source": [
    "import numpy as np\n",
    "a= np.random.randint(0,100)\n",
    "print(a)"
   ]
  },
  {
   "cell_type": "code",
   "execution_count": 48,
   "id": "974d693f",
   "metadata": {},
   "outputs": [
    {
     "data": {
      "text/plain": [
       "True"
      ]
     },
     "execution_count": 48,
     "metadata": {},
     "output_type": "execute_result"
    }
   ],
   "source": [
    "a>50"
   ]
  },
  {
   "cell_type": "code",
   "execution_count": 43,
   "id": "c4538d57",
   "metadata": {},
   "outputs": [
    {
     "name": "stdout",
     "output_type": "stream",
     "text": [
      "This true condition\n"
     ]
    }
   ],
   "source": [
    "if True: print('This true condition')"
   ]
  },
  {
   "cell_type": "code",
   "execution_count": 46,
   "id": "330a95f7",
   "metadata": {},
   "outputs": [],
   "source": [
    "if False: \n",
    "    print('This true condition')\n",
    "    print('This true condition')\n",
    "    "
   ]
  },
  {
   "cell_type": "code",
   "execution_count": null,
   "id": "e4653b81",
   "metadata": {},
   "outputs": [],
   "source": [
    "if False: \n",
    "    print('This true condition')"
   ]
  },
  {
   "cell_type": "code",
   "execution_count": 51,
   "id": "9fe6ae3d",
   "metadata": {},
   "outputs": [],
   "source": [
    "if a>50:\n",
    "    print(a)\n",
    "    if a>80:\n",
    "        print()\n",
    "    \n",
    "    "
   ]
  },
  {
   "cell_type": "code",
   "execution_count": 53,
   "id": "a3bea4e1",
   "metadata": {},
   "outputs": [
    {
     "name": "stdout",
     "output_type": "stream",
     "text": [
      "watch TV\n",
      "have lunch\n"
     ]
    }
   ],
   "source": [
    "\n",
    "weather_is_good =False\n",
    "if weather_is_good:\n",
    "    print('go for walk')\n",
    "else:\n",
    "    print('watch TV')\n",
    "print('have lunch')"
   ]
  },
  {
   "cell_type": "code",
   "execution_count": 54,
   "id": "396fa201",
   "metadata": {},
   "outputs": [
    {
     "name": "stdout",
     "output_type": "stream",
     "text": [
      "go_for_a_walk()\n",
      "have_lunch()\n"
     ]
    }
   ],
   "source": [
    "the_weather_is_good = True\n",
    "if the_weather_is_good:\n",
    "    print('go_for_a_walk()')\n",
    "else:\n",
    "    print('go_to_a_theater()')\n",
    "print('have_lunch()')\n"
   ]
  },
  {
   "cell_type": "code",
   "execution_count": 56,
   "id": "7f7c721d",
   "metadata": {},
   "outputs": [
    {
     "name": "stdout",
     "output_type": "stream",
     "text": [
      "go for walk\n",
      "have icream\n",
      "have lunch\n"
     ]
    }
   ],
   "source": [
    "weather_is_good =True\n",
    "met_icream=True\n",
    "if weather_is_good:\n",
    "    print('go for walk')\n",
    "    if met_icream:\n",
    "        print('have icream')\n",
    "else:\n",
    "    print('watch TV')\n",
    "print('have lunch')"
   ]
  },
  {
   "cell_type": "code",
   "execution_count": 59,
   "id": "5e06381f",
   "metadata": {},
   "outputs": [
    {
     "name": "stdout",
     "output_type": "stream",
     "text": [
      "Play in yard\n",
      "have_lunch()\n"
     ]
    }
   ],
   "source": [
    "the_weather_is_good = False\n",
    "the_weather_is_normal = True\n",
    "\n",
    "if the_weather_is_good:\n",
    "    \n",
    "    print('go_for_a_walk()')\n",
    "elif the_weather_is_normal:\n",
    "    print('Play in yard')\n",
    "else:\n",
    "    print('go_to_a_theater()')\n",
    "\n",
    "print('have_lunch()')"
   ]
  },
  {
   "cell_type": "code",
   "execution_count": 60,
   "id": "00b21065",
   "metadata": {},
   "outputs": [
    {
     "ename": "SyntaxError",
     "evalue": "invalid syntax (Temp/ipykernel_16620/3258057881.py, line 11)",
     "output_type": "error",
     "traceback": [
      "\u001b[1;36m  File \u001b[1;32m\"C:\\Users\\hieub\\AppData\\Local\\Temp/ipykernel_16620/3258057881.py\"\u001b[1;36m, line \u001b[1;32m11\u001b[0m\n\u001b[1;33m    elif the_weather_is_normal:\u001b[0m\n\u001b[1;37m    ^\u001b[0m\n\u001b[1;31mSyntaxError\u001b[0m\u001b[1;31m:\u001b[0m invalid syntax\n"
     ]
    }
   ],
   "source": [
    "the_weather_is_good = False\n",
    "the_weather_is_normal = True\n",
    "\n",
    "if the_weather_is_good:\n",
    "    \n",
    "    print('go_for_a_walk()')\n",
    "\n",
    "else:\n",
    "    print('go_to_a_theater()')\n",
    "\n",
    "elif the_weather_is_normal:\n",
    "    print('Play in yard')\n",
    "\n",
    "print('have_lunch()')"
   ]
  },
  {
   "cell_type": "code",
   "execution_count": 61,
   "id": "b8c63842",
   "metadata": {},
   "outputs": [
    {
     "name": "stdout",
     "output_type": "stream",
     "text": [
      "Enter the first number: 6\n",
      "Enter the second number: 9\n",
      "The larger number is: 9\n"
     ]
    }
   ],
   "source": [
    "# Read two numbers\n",
    "number1 = int(input(\"Enter the first number: \"))\n",
    "number2 = int(input(\"Enter the second number: \"))\n",
    "\n",
    "# Choose the larger number\n",
    "if number1 > number2:\n",
    "    larger_number = number1\n",
    "else:\n",
    "    larger_number = number2\n",
    "\n",
    "# Print the result\n",
    "print(\"The larger number is:\", larger_number)\n"
   ]
  },
  {
   "cell_type": "code",
   "execution_count": 62,
   "id": "1ad7ea83",
   "metadata": {},
   "outputs": [
    {
     "name": "stdout",
     "output_type": "stream",
     "text": [
      "Enter the first number: 6\n",
      "Enter the second number: 9\n",
      "The larger number is: 9\n"
     ]
    }
   ],
   "source": [
    "# Read two numbers\n",
    "number1 = int(input(\"Enter the first number: \"))\n",
    "number2 = int(input(\"Enter the second number: \"))\n",
    "\n",
    "# Choose the larger number\n",
    "if number1 > number2: larger_number = number1\n",
    "else: larger_number = number2\n",
    "\n",
    "# Print the result\n",
    "print(\"The larger number is:\", larger_number)"
   ]
  },
  {
   "cell_type": "code",
   "execution_count": 64,
   "id": "bedac713",
   "metadata": {},
   "outputs": [],
   "source": [
    "if number1 > number2: pass"
   ]
  },
  {
   "cell_type": "code",
   "execution_count": 65,
   "id": "1e09c4da",
   "metadata": {},
   "outputs": [
    {
     "name": "stdout",
     "output_type": "stream",
     "text": [
      "Enter the first number: 1\n",
      "Enter the second number: 2\n",
      "Enter the third number: 3\n",
      "The largest number is: 3\n"
     ]
    }
   ],
   "source": [
    "# Read three numbers\n",
    "number1 = int(input(\"Enter the first number: \"))\n",
    "number2 = int(input(\"Enter the second number: \"))\n",
    "number3 = int(input(\"Enter the third number: \"))\n",
    "\n",
    "# We temporarily assume that the first number\n",
    "# is the largest one.\n",
    "# We will verify this soon.\n",
    "largest_number = number1\n",
    "\n",
    "# We check if the second number is larger than current largest_number\n",
    "# and update largest_number if needed.\n",
    "if number2 > largest_number:\n",
    "    largest_number = number2\n",
    "\n",
    "# We check if the third number is larger than current largest_number\n",
    "# and update largest_number if needed.\n",
    "if number3 > largest_number:\n",
    "    largest_number = number3\n",
    "\n",
    "# Print the result\n",
    "print(\"The largest number is:\", largest_number)\n"
   ]
  },
  {
   "cell_type": "code",
   "execution_count": 67,
   "id": "b65e3729",
   "metadata": {},
   "outputs": [
    {
     "name": "stdout",
     "output_type": "stream",
     "text": [
      "6\n"
     ]
    }
   ],
   "source": [
    "largest_number = -999999999\n",
    "number = int(input())\n",
    "if number == -1:\n",
    "    print(largest_number)\n",
    "    exit()\n",
    "if number > largest_number:\n",
    "    largest_number = number\n",
    "# Go to line 02"
   ]
  },
  {
   "cell_type": "code",
   "execution_count": 73,
   "id": "98d5b4d7",
   "metadata": {},
   "outputs": [
    {
     "name": "stdout",
     "output_type": "stream",
     "text": [
      "Please input a name of plantpathiphyllum\n",
      "Spathiphyllum! Not pathiphyllum!\n"
     ]
    }
   ],
   "source": [
    "lily = input('Please input a name of plant')\n",
    "if lily ==\"Spathiphyllum\":\n",
    "    print (\"Yes - Spathiphyllum is the best plant ever!\")\n",
    "elif lily == \"spathiphyllum\":\n",
    "    \n",
    "    print(\"No, I want a big Spathiphyllum!\")\n",
    "else:    \n",
    "    print(f\"Spathiphyllum! Not {lily}!\")"
   ]
  },
  {
   "cell_type": "code",
   "execution_count": null,
   "id": "e9467621",
   "metadata": {},
   "outputs": [],
   "source": [
    "income = float(input('Please input your income: '))\n"
   ]
  },
  {
   "cell_type": "code",
   "execution_count": 81,
   "id": "69436c3b",
   "metadata": {},
   "outputs": [
    {
     "name": "stdout",
     "output_type": "stream",
     "text": [
      "Please input your income in thaler: 90000\n",
      "The tax is:  16270.0  thalers\n"
     ]
    }
   ],
   "source": [
    "income = float(input('Please input your income in thaler: '))\n",
    "if income<=85528:\n",
    "    tax = 0.18*income - 556 -0.02\n",
    "else:\n",
    "    tax = 14839+0.02+(income-85528)*0.32\n",
    "tax = round(tax,0)\n",
    "if tax>0:\n",
    "    print('The tax is: ', tax, ' thalers' )\n",
    "else:\n",
    "    tax=0\n",
    "    print('The tax is: ', tax, ' thalers' )"
   ]
  },
  {
   "cell_type": "code",
   "execution_count": null,
   "id": "3d5ef937",
   "metadata": {},
   "outputs": [],
   "source": [
    "#EX1: Write a program to random a number in range (0..9) and predict the random number\n",
    "# correct_number = random\n",
    "# until it is correct\n",
    "# check if the input number is numeric, if the input is not number print(\"please input a number\")\n",
    "# if it is a correct number print('Congratulations')\n",
    "# if it is greater than the correct number print('Sorry, the correctly number is greater than this number')\n",
    "# if it is smallerr than the correct number print('Sorry, the correctly number is smaller than this number')"
   ]
  },
  {
   "cell_type": "code",
   "execution_count": null,
   "id": "87690756",
   "metadata": {},
   "outputs": [],
   "source": []
  }
 ],
 "metadata": {
  "kernelspec": {
   "display_name": "Python 3 (ipykernel)",
   "language": "python",
   "name": "python3"
  },
  "language_info": {
   "codemirror_mode": {
    "name": "ipython",
    "version": 3
   },
   "file_extension": ".py",
   "mimetype": "text/x-python",
   "name": "python",
   "nbconvert_exporter": "python",
   "pygments_lexer": "ipython3",
   "version": "3.9.5"
  }
 },
 "nbformat": 4,
 "nbformat_minor": 5
}
