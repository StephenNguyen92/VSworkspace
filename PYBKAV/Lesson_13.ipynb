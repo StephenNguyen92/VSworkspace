{
 "cells": [
  {
   "cell_type": "code",
   "execution_count": 2,
   "id": "d27a8cdd",
   "metadata": {},
   "outputs": [],
   "source": [
    "dic ={'k':12,'k2':(2,2)}"
   ]
  },
  {
   "cell_type": "code",
   "execution_count": 3,
   "id": "ebf99540",
   "metadata": {},
   "outputs": [
    {
     "data": {
      "text/plain": [
       "dict_keys(['k', 'k2'])"
      ]
     },
     "execution_count": 3,
     "metadata": {},
     "output_type": "execute_result"
    }
   ],
   "source": [
    "dic.keys()"
   ]
  },
  {
   "cell_type": "code",
   "execution_count": 4,
   "id": "054730b8",
   "metadata": {},
   "outputs": [
    {
     "data": {
      "text/plain": [
       "dict_values([12, (2, 2)])"
      ]
     },
     "execution_count": 4,
     "metadata": {},
     "output_type": "execute_result"
    }
   ],
   "source": [
    "dic.values()"
   ]
  },
  {
   "cell_type": "code",
   "execution_count": 5,
   "id": "f02f303d",
   "metadata": {},
   "outputs": [
    {
     "data": {
      "text/plain": [
       "dict_items([('k', 12), ('k2', (2, 2))])"
      ]
     },
     "execution_count": 5,
     "metadata": {},
     "output_type": "execute_result"
    }
   ],
   "source": [
    "dic.items()"
   ]
  },
  {
   "cell_type": "code",
   "execution_count": 6,
   "id": "b9b4776a",
   "metadata": {},
   "outputs": [
    {
     "name": "stdout",
     "output_type": "stream",
     "text": [
      "[[1, 2, 3], [4, 5, 6], [7, 8, 9]]\n"
     ]
    }
   ],
   "source": [
    "board=[[1,2,3],\n",
    " [4,5,6],\n",
    " [7,8,9]]\n",
    "print(board)"
   ]
  },
  {
   "cell_type": "code",
   "execution_count": 8,
   "id": "4adc9dfc",
   "metadata": {},
   "outputs": [
    {
     "name": "stdout",
     "output_type": "stream",
     "text": [
      "[[1, 2, 3], [4, 'X', 6], [7, 8, 9]]\n",
      "[[1, 2, 3], [4, 'X', 'O'], [7, 8, 9]]\n"
     ]
    }
   ],
   "source": [
    "board[1][1]='X'\n",
    "print(board)\n",
    "board[1][2]='O'\n",
    "print(board)"
   ]
  },
  {
   "cell_type": "code",
   "execution_count": 9,
   "id": "16ad3023",
   "metadata": {},
   "outputs": [],
   "source": [
    "def display_board(board):\n",
    "    print('+-------' * 3, '+', sep='')\n",
    "    for row in range(3):\n",
    "        print('|       ' * 3, '|', sep='')\n",
    "        for col in range(3):\n",
    "            print('|  ', str(board[row][col])+ '   ', end='')\n",
    "        print('|')\n",
    "        print('|       ' * 3, '|', sep='')\n",
    "        print('+-------' * 3, '+', sep='')"
   ]
  },
  {
   "cell_type": "code",
   "execution_count": 10,
   "id": "6599d6de",
   "metadata": {},
   "outputs": [
    {
     "name": "stdout",
     "output_type": "stream",
     "text": [
      "+-------+-------+-------+\n",
      "|       |       |       |\n",
      "|   1   |   2   |   3   |\n",
      "|       |       |       |\n",
      "+-------+-------+-------+\n",
      "|       |       |       |\n",
      "|   4   |   X   |   O   |\n",
      "|       |       |       |\n",
      "+-------+-------+-------+\n",
      "|       |       |       |\n",
      "|   7   |   8   |   9   |\n",
      "|       |       |       |\n",
      "+-------+-------+-------+\n"
     ]
    }
   ],
   "source": [
    "display_board(board)"
   ]
  },
  {
   "cell_type": "code",
   "execution_count": 11,
   "id": "2d96bbe0",
   "metadata": {},
   "outputs": [],
   "source": [
    "def enter_move(board):\n",
    "    turn_ok = False\n",
    "    \n",
    "    while not turn_ok:\n",
    "        move = '3' #input('Enter a move (1 to 9) : ')\n",
    "        \n",
    "        if len(move) != 1 or move <= '0' or move > '9':\n",
    "            print(\"Your move isn't correct, retry please \")\n",
    "            continue\n",
    "        \n",
    "        move = int(move) -1\n",
    "        row = move // 3\n",
    "        col = move % 3\n",
    "        \n",
    "        if board[row][col] in ['O', 'X']:\n",
    "            print(\"Your move isn't correct, this square is occupied, please retry again !\")\n",
    "            continue\n",
    "\n",
    "        turn_ok = not turn_ok\n",
    "        board[row][col] = 'O'\n",
    "\n",
    "enter_move(board)"
   ]
  },
  {
   "cell_type": "code",
   "execution_count": 12,
   "id": "cdab758a",
   "metadata": {},
   "outputs": [],
   "source": [
    "def victory_for(board, sign):\n",
    "    # check rows\n",
    "    for row in range(3):\n",
    "        if board[row][0] == sign and board[row][0] == board[row][1] and board[row][1]==board[row][2]:\n",
    "            return sign\n",
    "    \n",
    "    # check columns\n",
    "    for column in range(3):\n",
    "        if board[0][column] == sign and board[0][column] == board[1][column] and board[0][column]==board[2][column]:\n",
    "            return sign\n",
    "    \n",
    "    # check diagonals\n",
    "    if board[0][0] == sign and board[0][0] == board[1][1] and board[1][1] == board[2][2] or \\\n",
    "        board[0][2] == sign and board[0][2] == board[1][1] and board[1][1] == board[2][0]:\n",
    "        return sign\n",
    "\n",
    "    return None"
   ]
  },
  {
   "cell_type": "code",
   "execution_count": null,
   "id": "fc00c3b4",
   "metadata": {},
   "outputs": [],
   "source": [
    "def enter_move(board):\n",
    "    turn_ok = False\n",
    "    \n",
    "    while not turn_ok:\n",
    "        move = '3' #input('Enter a move (1 to 9) : ')\n",
    "        \n",
    "        if len(move) != 1 or move <= '0' or move > '9':\n",
    "            print(\"Your move isn't correct, retry please \")\n",
    "            continue\n",
    "        \n",
    "        move = int(move) -1\n",
    "        row = move // 3\n",
    "        col = move % 3\n",
    "        \n",
    "        if board[row][col] in ['O', 'X']:\n",
    "            print(\"Your move isn't correct, this square is occupied, please retry again !\")\n",
    "            continue\n",
    "\n",
    "        turn_ok = not turn_ok\n",
    "        board[row][col] = 'O'\n",
    "\n",
    "\n",
    "def free_fileds(board):\n",
    "    free_squares = []\n",
    "    for row in range(3):\n",
    "        for column in range(3):\n",
    "            if board[row][column] not in ['O', 'X']:\n",
    "                free_squares.append((row, column))\n",
    "    return free_squares\n",
    "\n",
    "\n",
    "def draw_move(board):\n",
    "    free_squares = free_fileds(board)\n",
    "\n",
    "    free_squares_length = len(free_squares)\n",
    "    if free_squares_length > 0:\n",
    "        random = randrange(free_squares_length)\n",
    "        row, col = free_squares[random] \n",
    "        board[row][col] = 'X'\n"
   ]
  },
  {
   "cell_type": "code",
   "execution_count": 15,
   "id": "eec90836",
   "metadata": {},
   "outputs": [
    {
     "name": "stdout",
     "output_type": "stream",
     "text": [
      "100\n"
     ]
    }
   ],
   "source": [
    "x=1\n",
    "\n",
    "def y(x):\n",
    "    y =4*x*x\n",
    "    return y\n",
    "print(y(5))"
   ]
  },
  {
   "cell_type": "code",
   "execution_count": null,
   "id": "f2ca604d",
   "metadata": {},
   "outputs": [],
   "source": [
    "import numpy as np\n"
   ]
  },
  {
   "cell_type": "code",
   "execution_count": 17,
   "id": "609a01e9",
   "metadata": {},
   "outputs": [],
   "source": [
    "import math, sys, numpy\n"
   ]
  },
  {
   "cell_type": "code",
   "execution_count": 18,
   "id": "1572cb60",
   "metadata": {},
   "outputs": [
    {
     "name": "stdout",
     "output_type": "stream",
     "text": [
      "3.141592653589793\n"
     ]
    }
   ],
   "source": [
    "print(math.pi)"
   ]
  },
  {
   "cell_type": "code",
   "execution_count": 19,
   "id": "a05c186c",
   "metadata": {},
   "outputs": [
    {
     "name": "stdout",
     "output_type": "stream",
     "text": [
      "1.0\n"
     ]
    }
   ],
   "source": [
    "import math\n",
    "print(math.sin(math.pi/2))\n"
   ]
  },
  {
   "cell_type": "code",
   "execution_count": 20,
   "id": "666a0bbd",
   "metadata": {},
   "outputs": [
    {
     "name": "stdout",
     "output_type": "stream",
     "text": [
      "0.99999999\n",
      "1.0\n"
     ]
    }
   ],
   "source": [
    "import math\n",
    "\n",
    "\n",
    "def sin(x):\n",
    "    if 2 * x == pi:\n",
    "        return 0.99999999\n",
    "    else:\n",
    "        return None\n",
    "\n",
    "\n",
    "pi = 3.14\n",
    "\n",
    "print(sin(pi/2))\n",
    "print(math.sin(math.pi/2))\n"
   ]
  },
  {
   "cell_type": "code",
   "execution_count": 1,
   "id": "cc5bbd1e",
   "metadata": {},
   "outputs": [],
   "source": [
    "from math import pi,sin,cos"
   ]
  },
  {
   "cell_type": "code",
   "execution_count": 2,
   "id": "e8eb734b",
   "metadata": {},
   "outputs": [
    {
     "ename": "NameError",
     "evalue": "name 'math' is not defined",
     "output_type": "error",
     "traceback": [
      "\u001b[1;31m---------------------------------------------------------------------------\u001b[0m",
      "\u001b[1;31mNameError\u001b[0m                                 Traceback (most recent call last)",
      "\u001b[1;32m~\\AppData\\Local\\Temp/ipykernel_8928/4124167083.py\u001b[0m in \u001b[0;36m<module>\u001b[1;34m\u001b[0m\n\u001b[1;32m----> 1\u001b[1;33m \u001b[0mprint\u001b[0m\u001b[1;33m(\u001b[0m\u001b[0mmath\u001b[0m\u001b[1;33m.\u001b[0m\u001b[0me\u001b[0m\u001b[1;33m)\u001b[0m\u001b[1;33m\u001b[0m\u001b[1;33m\u001b[0m\u001b[0m\n\u001b[0m",
      "\u001b[1;31mNameError\u001b[0m: name 'math' is not defined"
     ]
    }
   ],
   "source": [
    "print(math.e)"
   ]
  },
  {
   "cell_type": "code",
   "execution_count": 3,
   "id": "e93c41f6",
   "metadata": {},
   "outputs": [
    {
     "ename": "NameError",
     "evalue": "name 'math' is not defined",
     "output_type": "error",
     "traceback": [
      "\u001b[1;31m---------------------------------------------------------------------------\u001b[0m",
      "\u001b[1;31mNameError\u001b[0m                                 Traceback (most recent call last)",
      "\u001b[1;32m~\\AppData\\Local\\Temp/ipykernel_8928/3340640096.py\u001b[0m in \u001b[0;36m<module>\u001b[1;34m\u001b[0m\n\u001b[1;32m----> 1\u001b[1;33m \u001b[0mprint\u001b[0m\u001b[1;33m(\u001b[0m\u001b[0mmath\u001b[0m\u001b[1;33m.\u001b[0m\u001b[0mpi\u001b[0m\u001b[1;33m)\u001b[0m\u001b[1;33m\u001b[0m\u001b[1;33m\u001b[0m\u001b[0m\n\u001b[0m",
      "\u001b[1;31mNameError\u001b[0m: name 'math' is not defined"
     ]
    }
   ],
   "source": [
    "print(math.pi)"
   ]
  },
  {
   "cell_type": "code",
   "execution_count": 4,
   "id": "b28c51c1",
   "metadata": {},
   "outputs": [
    {
     "name": "stdout",
     "output_type": "stream",
     "text": [
      "3.141592653589793\n"
     ]
    }
   ],
   "source": [
    "print(pi)"
   ]
  },
  {
   "cell_type": "code",
   "execution_count": 5,
   "id": "e2114e80",
   "metadata": {},
   "outputs": [
    {
     "name": "stdout",
     "output_type": "stream",
     "text": [
      "1.0\n"
     ]
    }
   ],
   "source": [
    "from math import sin, pi\n",
    "\n",
    "print(sin(pi/2))\n"
   ]
  },
  {
   "cell_type": "code",
   "execution_count": 6,
   "id": "8c513722",
   "metadata": {},
   "outputs": [
    {
     "name": "stdout",
     "output_type": "stream",
     "text": [
      "1.0\n"
     ]
    }
   ],
   "source": [
    "from math import sin, pi\n",
    "print(sin(pi/2))"
   ]
  },
  {
   "cell_type": "code",
   "execution_count": 9,
   "id": "cb5599f7",
   "metadata": {},
   "outputs": [
    {
     "name": "stdout",
     "output_type": "stream",
     "text": [
      "111.999999\n",
      "1.0\n"
     ]
    }
   ],
   "source": [
    "def sin(x):\n",
    "    if 2*x==pi:\n",
    "        return 111.999999\n",
    "    else:\n",
    "        return None\n",
    "print(sin(pi/2))\n",
    "from math import sin, pi\n",
    "print(sin(pi/2))"
   ]
  },
  {
   "cell_type": "code",
   "execution_count": null,
   "id": "ecbec3f3",
   "metadata": {},
   "outputs": [],
   "source": []
  },
  {
   "cell_type": "code",
   "execution_count": 10,
   "id": "41a01cd9",
   "metadata": {},
   "outputs": [],
   "source": [
    "from math import *"
   ]
  },
  {
   "cell_type": "code",
   "execution_count": 11,
   "id": "d40998f7",
   "metadata": {},
   "outputs": [
    {
     "name": "stdout",
     "output_type": "stream",
     "text": [
      "2.718281828459045\n"
     ]
    }
   ],
   "source": [
    "print(e)"
   ]
  },
  {
   "cell_type": "code",
   "execution_count": 12,
   "id": "66ce00c6",
   "metadata": {},
   "outputs": [
    {
     "name": "stdout",
     "output_type": "stream",
     "text": [
      "3.141592653589793\n"
     ]
    }
   ],
   "source": [
    "import math as m\n",
    "print(m.pi)"
   ]
  },
  {
   "cell_type": "code",
   "execution_count": 13,
   "id": "101e9d4d",
   "metadata": {},
   "outputs": [
    {
     "ename": "NameError",
     "evalue": "name 'math' is not defined",
     "output_type": "error",
     "traceback": [
      "\u001b[1;31m---------------------------------------------------------------------------\u001b[0m",
      "\u001b[1;31mNameError\u001b[0m                                 Traceback (most recent call last)",
      "\u001b[1;32m~\\AppData\\Local\\Temp/ipykernel_8928/3340640096.py\u001b[0m in \u001b[0;36m<module>\u001b[1;34m\u001b[0m\n\u001b[1;32m----> 1\u001b[1;33m \u001b[0mprint\u001b[0m\u001b[1;33m(\u001b[0m\u001b[0mmath\u001b[0m\u001b[1;33m.\u001b[0m\u001b[0mpi\u001b[0m\u001b[1;33m)\u001b[0m\u001b[1;33m\u001b[0m\u001b[1;33m\u001b[0m\u001b[0m\n\u001b[0m",
      "\u001b[1;31mNameError\u001b[0m: name 'math' is not defined"
     ]
    }
   ],
   "source": [
    "print(math.pi)"
   ]
  },
  {
   "cell_type": "code",
   "execution_count": 16,
   "id": "a18da756",
   "metadata": {},
   "outputs": [
    {
     "name": "stdout",
     "output_type": "stream",
     "text": [
      "3.141592653589793\n"
     ]
    }
   ],
   "source": [
    "from math import pi as pinumber, sin as hamsin, cos as hamcos\n",
    "print(pinumber)"
   ]
  },
  {
   "cell_type": "code",
   "execution_count": 17,
   "id": "4fe36ced",
   "metadata": {},
   "outputs": [
    {
     "data": {
      "text/plain": [
       "1.0"
      ]
     },
     "execution_count": 17,
     "metadata": {},
     "output_type": "execute_result"
    }
   ],
   "source": [
    "hamsin(pi/2)"
   ]
  },
  {
   "cell_type": "code",
   "execution_count": 21,
   "id": "42ac8210",
   "metadata": {},
   "outputs": [
    {
     "name": "stdout",
     "output_type": "stream",
     "text": [
      "__doc__\t__loader__\t__name__\t__package__\t__spec__\tacos\tacosh\tasin\tasinh\tatan\tatan2\tatanh\tceil\tcomb\tcopysign\tcos\tcosh\tdegrees\tdist\te\terf\terfc\texp\texpm1\tfabs\tfactorial\tfloor\tfmod\tfrexp\tfsum\tgamma\tgcd\thypot\tinf\tisclose\tisfinite\tisinf\tisnan\tisqrt\tlcm\tldexp\tlgamma\tlog\tlog10\tlog1p\tlog2\tmodf\tnan\tnextafter\tperm\tpi\tpow\tprod\tradians\tremainder\tsin\tsinh\tsqrt\ttan\ttanh\ttau\ttrunc\tulp\t"
     ]
    }
   ],
   "source": [
    "import math\n",
    "dir(math)\n",
    "\n",
    "for name in dir(math):\n",
    "    print(name, end=\"\\t\")\n",
    "\n"
   ]
  },
  {
   "cell_type": "code",
   "execution_count": 22,
   "id": "7f0bade4",
   "metadata": {},
   "outputs": [
    {
     "name": "stdout",
     "output_type": "stream",
     "text": [
      "True\n",
      "True\n",
      "True\n",
      "True\n"
     ]
    }
   ],
   "source": [
    "from math import pi, radians, degrees, sin, cos, tan, asin\n",
    "\n",
    "ad = 90\n",
    "ar = radians(ad)\n",
    "ad = degrees(ar)\n",
    "\n",
    "print(ad == 90.)\n",
    "print(ar == pi / 2.)\n",
    "print(sin(ar) / cos(ar) == tan(ar))\n",
    "print(asin(sin(ar)) == ar)\n"
   ]
  },
  {
   "cell_type": "code",
   "execution_count": 23,
   "id": "a3723cea",
   "metadata": {},
   "outputs": [
    {
     "name": "stdout",
     "output_type": "stream",
     "text": [
      "True\n",
      "True\n",
      "True\n"
     ]
    }
   ],
   "source": [
    "from math import e, exp, log\n",
    "\n",
    "print(pow(e, 1) == exp(log(e)))\n",
    "print(pow(2, 2) == exp(2 * log(2)))\n",
    "print(log(e, e) == exp(0))\n"
   ]
  },
  {
   "cell_type": "code",
   "execution_count": 24,
   "id": "30352729",
   "metadata": {},
   "outputs": [
    {
     "name": "stdout",
     "output_type": "stream",
     "text": [
      "1 2\n",
      "-2 -3\n",
      "2 3\n",
      "-1 -2\n",
      "1 2\n",
      "-1 -2\n"
     ]
    }
   ],
   "source": [
    "from math import ceil, floor, trunc\n",
    "\n",
    "x = 1.4\n",
    "y = 2.6\n",
    "\n",
    "print(floor(x), floor(y))\n",
    "print(floor(-x), floor(-y))\n",
    "print(ceil(x), ceil(y))\n",
    "print(ceil(-x), ceil(-y))\n",
    "print(trunc(x), trunc(y))\n",
    "print(trunc(-x), trunc(-y))\n"
   ]
  },
  {
   "cell_type": "code",
   "execution_count": 25,
   "id": "d8e3d321",
   "metadata": {},
   "outputs": [],
   "source": [
    "from random import random"
   ]
  },
  {
   "cell_type": "code",
   "execution_count": 30,
   "id": "ba561fff",
   "metadata": {},
   "outputs": [
    {
     "name": "stdout",
     "output_type": "stream",
     "text": [
      "0.31560099566726274\n",
      "0.46942907071833107\n",
      "0.5157153821607714\n",
      "0.3926701153176312\n",
      "0.1690264765528502\n"
     ]
    }
   ],
   "source": [
    "\n",
    "for i in range(5):\n",
    "    print(random())\n"
   ]
  },
  {
   "cell_type": "code",
   "execution_count": 35,
   "id": "a49af37f",
   "metadata": {},
   "outputs": [
    {
     "name": "stdout",
     "output_type": "stream",
     "text": [
      "0.5714025946899135\n",
      "0.4288890546751146\n",
      "0.5780913011344704\n",
      "0.20609823213950174\n",
      "0.81332125135732\n"
     ]
    }
   ],
   "source": [
    "from random import random, seed\n",
    "\n",
    "seed(10)\n",
    "\n",
    "for i in range(5):\n",
    "    print(random())\n",
    "\n"
   ]
  },
  {
   "cell_type": "code",
   "execution_count": 39,
   "id": "85dad26e",
   "metadata": {},
   "outputs": [
    {
     "name": "stdout",
     "output_type": "stream",
     "text": [
      "0 0 6 1\n"
     ]
    }
   ],
   "source": [
    "from random import randrange, randint\n",
    "\n",
    "print(randrange(1), end=' ')\n",
    "print(randrange(0, 1), end=' ')\n",
    "print(randrange(0, 10, 1), end=' ')\n",
    "print(randint(0, 1))\n"
   ]
  },
  {
   "cell_type": "code",
   "execution_count": 40,
   "id": "4b4938e2",
   "metadata": {},
   "outputs": [
    {
     "name": "stdout",
     "output_type": "stream",
     "text": [
      "5,5,8,3,5,6,3,8,4,8,"
     ]
    }
   ],
   "source": [
    "from random import randint\n",
    "\n",
    "for i in range(10):\n",
    "    print(randint(1, 10), end=',')"
   ]
  },
  {
   "cell_type": "code",
   "execution_count": 45,
   "id": "8224689a",
   "metadata": {},
   "outputs": [
    {
     "name": "stdout",
     "output_type": "stream",
     "text": [
      "1\n",
      "[9, 1, 6, 3, 2]\n",
      "[2, 5, 8, 4, 9, 10, 7, 6, 1, 3]\n"
     ]
    }
   ],
   "source": [
    "from random import choice, sample\n",
    "\n",
    "my_list = [1, 2, 3, 4, 5, 6, 7, 8, 9, 10]\n",
    "\n",
    "print(choice(my_list))\n",
    "print(sample(my_list, 5))\n",
    "print(sample(my_list, 10))\n",
    "\n"
   ]
  },
  {
   "cell_type": "code",
   "execution_count": 46,
   "id": "e79b5727",
   "metadata": {},
   "outputs": [
    {
     "name": "stdout",
     "output_type": "stream",
     "text": [
      "Windows-10-10.0.22581-SP0\n",
      "Windows-10-10.0.22581-SP0\n",
      "Windows-10\n"
     ]
    }
   ],
   "source": [
    "from platform import platform\n",
    "\n",
    "print(platform())\n",
    "print(platform(1))\n",
    "print(platform(0, 1))\n"
   ]
  },
  {
   "cell_type": "code",
   "execution_count": 47,
   "id": "1ca85fcf",
   "metadata": {},
   "outputs": [
    {
     "name": "stdout",
     "output_type": "stream",
     "text": [
      "AMD64\n"
     ]
    }
   ],
   "source": [
    "from platform import machine\n",
    "\n",
    "print(machine())\n"
   ]
  },
  {
   "cell_type": "code",
   "execution_count": 48,
   "id": "4928aac2",
   "metadata": {},
   "outputs": [
    {
     "name": "stdout",
     "output_type": "stream",
     "text": [
      "AMD64 Family 23 Model 24 Stepping 1, AuthenticAMD\n"
     ]
    }
   ],
   "source": [
    "from platform import processor\n",
    "\n",
    "print(processor())\n"
   ]
  },
  {
   "cell_type": "code",
   "execution_count": 49,
   "id": "0cb77dd2",
   "metadata": {},
   "outputs": [
    {
     "name": "stdout",
     "output_type": "stream",
     "text": [
      "Windows\n"
     ]
    }
   ],
   "source": [
    "from platform import system\n",
    "\n",
    "print(system())\n"
   ]
  },
  {
   "cell_type": "code",
   "execution_count": 50,
   "id": "4d7149e8",
   "metadata": {},
   "outputs": [
    {
     "name": "stdout",
     "output_type": "stream",
     "text": [
      "10.0.22581\n"
     ]
    }
   ],
   "source": [
    "from platform import version\n",
    "\n",
    "print(version())"
   ]
  },
  {
   "cell_type": "code",
   "execution_count": 51,
   "id": "c15e0eaf",
   "metadata": {},
   "outputs": [
    {
     "name": "stdout",
     "output_type": "stream",
     "text": [
      "CPython\n",
      "3\n",
      "9\n",
      "5\n"
     ]
    }
   ],
   "source": [
    "from platform import python_implementation, python_version_tuple\n",
    "\n",
    "print(python_implementation())\n",
    "\n",
    "for atr in python_version_tuple():\n",
    "    print(atr)\n"
   ]
  },
  {
   "cell_type": "code",
   "execution_count": null,
   "id": "5f69ede1",
   "metadata": {},
   "outputs": [],
   "source": [
    "#EX tic-tac-toe "
   ]
  }
 ],
 "metadata": {
  "kernelspec": {
   "display_name": "Python 3 (ipykernel)",
   "language": "python",
   "name": "python3"
  },
  "language_info": {
   "codemirror_mode": {
    "name": "ipython",
    "version": 3
   },
   "file_extension": ".py",
   "mimetype": "text/x-python",
   "name": "python",
   "nbconvert_exporter": "python",
   "pygments_lexer": "ipython3",
   "version": "3.9.5"
  }
 },
 "nbformat": 4,
 "nbformat_minor": 5
}
