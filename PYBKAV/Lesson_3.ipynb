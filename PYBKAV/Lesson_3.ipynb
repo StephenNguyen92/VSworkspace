{
 "cells": [
  {
   "cell_type": "code",
   "execution_count": 1,
   "id": "3784c23b",
   "metadata": {},
   "outputs": [
    {
     "name": "stdout",
     "output_type": "stream",
     "text": [
      "2\n",
      "2\n"
     ]
    }
   ],
   "source": [
    "print(\"2\")\n",
    "print(2)\n"
   ]
  },
  {
   "cell_type": "code",
   "execution_count": 3,
   "id": "e671f732",
   "metadata": {},
   "outputs": [
    {
     "data": {
      "text/plain": [
       "4"
      ]
     },
     "execution_count": 3,
     "metadata": {},
     "output_type": "execute_result"
    }
   ],
   "source": [
    "a = \"2\"\n",
    "b = 2\n",
    "b**2"
   ]
  },
  {
   "cell_type": "code",
   "execution_count": 5,
   "id": "00082364",
   "metadata": {},
   "outputs": [
    {
     "name": "stdout",
     "output_type": "stream",
     "text": [
      "<class 'int'>\n"
     ]
    }
   ],
   "source": [
    "print(type(b))"
   ]
  },
  {
   "cell_type": "code",
   "execution_count": 6,
   "id": "07ccfa6e",
   "metadata": {},
   "outputs": [
    {
     "name": "stdout",
     "output_type": "stream",
     "text": [
      "111111\n"
     ]
    }
   ],
   "source": [
    "a= 111111\n",
    "print(a)"
   ]
  },
  {
   "cell_type": "code",
   "execution_count": 8,
   "id": "6c3d7d73",
   "metadata": {},
   "outputs": [
    {
     "name": "stdout",
     "output_type": "stream",
     "text": [
      "<class 'int'>\n"
     ]
    }
   ],
   "source": [
    "b= +111_111\n",
    "print(type(b))"
   ]
  },
  {
   "cell_type": "code",
   "execution_count": 9,
   "id": "1f5a0c45",
   "metadata": {},
   "outputs": [
    {
     "name": "stdout",
     "output_type": "stream",
     "text": [
      "123\n"
     ]
    }
   ],
   "source": [
    "print(123)"
   ]
  },
  {
   "cell_type": "code",
   "execution_count": 10,
   "id": "92224ba4",
   "metadata": {},
   "outputs": [
    {
     "name": "stdout",
     "output_type": "stream",
     "text": [
      "83\n"
     ]
    }
   ],
   "source": [
    "print(0o123) #octal"
   ]
  },
  {
   "cell_type": "code",
   "execution_count": 11,
   "id": "232d1298",
   "metadata": {},
   "outputs": [
    {
     "name": "stdout",
     "output_type": "stream",
     "text": [
      "291\n"
     ]
    }
   ],
   "source": [
    "print(0x123)# hexa"
   ]
  },
  {
   "cell_type": "code",
   "execution_count": 12,
   "id": "b76ee2f7",
   "metadata": {},
   "outputs": [
    {
     "data": {
      "text/plain": [
       "float"
      ]
     },
     "execution_count": 12,
     "metadata": {},
     "output_type": "execute_result"
    }
   ],
   "source": [
    "type(0.4)\n"
   ]
  },
  {
   "cell_type": "code",
   "execution_count": 13,
   "id": "d61c8ec5",
   "metadata": {},
   "outputs": [
    {
     "data": {
      "text/plain": [
       "float"
      ]
     },
     "execution_count": 13,
     "metadata": {},
     "output_type": "execute_result"
    }
   ],
   "source": [
    "type(.4)"
   ]
  },
  {
   "cell_type": "code",
   "execution_count": 16,
   "id": "39bc03b1",
   "metadata": {},
   "outputs": [
    {
     "name": "stdout",
     "output_type": "stream",
     "text": [
      "<class 'float'>\n"
     ]
    }
   ],
   "source": [
    "a = 4.\n",
    "print(type(a))\n"
   ]
  },
  {
   "cell_type": "code",
   "execution_count": 17,
   "id": "9a3276c3",
   "metadata": {},
   "outputs": [
    {
     "data": {
      "text/plain": [
       "4000000.0"
      ]
     },
     "execution_count": 17,
     "metadata": {},
     "output_type": "execute_result"
    }
   ],
   "source": [
    "4e6"
   ]
  },
  {
   "cell_type": "code",
   "execution_count": 21,
   "id": "1fd9aac1",
   "metadata": {},
   "outputs": [],
   "source": [
    "a = 'I am a string'"
   ]
  },
  {
   "cell_type": "code",
   "execution_count": 22,
   "id": "23e0891a",
   "metadata": {},
   "outputs": [
    {
     "name": "stdout",
     "output_type": "stream",
     "text": [
      "I like \"Monty Python\"\n"
     ]
    }
   ],
   "source": [
    "print(\"I like \\\"Monty Python\\\"\")"
   ]
  },
  {
   "cell_type": "code",
   "execution_count": 24,
   "id": "fe5993fa",
   "metadata": {},
   "outputs": [
    {
     "name": "stdout",
     "output_type": "stream",
     "text": [
      "I am\n"
     ]
    }
   ],
   "source": [
    "print(a[0:4])"
   ]
  },
  {
   "cell_type": "code",
   "execution_count": 25,
   "id": "28417d6e",
   "metadata": {},
   "outputs": [
    {
     "name": "stdout",
     "output_type": "stream",
     "text": [
      "I am a strin\n"
     ]
    }
   ],
   "source": [
    "print(a[0:-1])"
   ]
  },
  {
   "cell_type": "code",
   "execution_count": 26,
   "id": "07741e6d",
   "metadata": {},
   "outputs": [
    {
     "name": "stdout",
     "output_type": "stream",
     "text": [
      "I am a string\n"
     ]
    }
   ],
   "source": [
    "print(a[0:])"
   ]
  },
  {
   "cell_type": "code",
   "execution_count": 27,
   "id": "95e7ff65",
   "metadata": {},
   "outputs": [
    {
     "name": "stdout",
     "output_type": "stream",
     "text": [
      "I am a string\n"
     ]
    }
   ],
   "source": [
    "A = a.capitalize()\n",
    "print(A)"
   ]
  },
  {
   "cell_type": "code",
   "execution_count": 28,
   "id": "98ec0717",
   "metadata": {},
   "outputs": [
    {
     "name": "stdout",
     "output_type": "stream",
     "text": [
      "I AM A STRING\n"
     ]
    }
   ],
   "source": [
    "A = a.upper()\n",
    "print(A)"
   ]
  },
  {
   "cell_type": "code",
   "execution_count": 29,
   "id": "7c2d6704",
   "metadata": {},
   "outputs": [
    {
     "name": "stdout",
     "output_type": "stream",
     "text": [
      "I was a string\n"
     ]
    }
   ],
   "source": [
    "print(a.replace('am','was'))"
   ]
  },
  {
   "cell_type": "code",
   "execution_count": 30,
   "id": "7e1cc6d6",
   "metadata": {},
   "outputs": [
    {
     "name": "stdout",
     "output_type": "stream",
     "text": [
      "['hello, my name is python', ' I am 40 years old']\n"
     ]
    }
   ],
   "source": [
    "sent = 'hello, my name is python. I am 40 years old'\n",
    "x = sent.split('.')\n",
    "print(x)"
   ]
  },
  {
   "cell_type": "code",
   "execution_count": 32,
   "id": "d874f562",
   "metadata": {},
   "outputs": [
    {
     "name": "stdout",
     "output_type": "stream",
     "text": [
      " I am 40 years old\n"
     ]
    }
   ],
   "source": [
    "print(x[1])"
   ]
  },
  {
   "cell_type": "code",
   "execution_count": 33,
   "id": "4d3124a8",
   "metadata": {},
   "outputs": [
    {
     "name": "stdout",
     "output_type": "stream",
     "text": [
      "['hello,', 'my', 'name', 'is', 'python.', 'I', 'am', '40', 'years', 'old']\n"
     ]
    }
   ],
   "source": [
    "x2 = sent.split(' ')\n",
    "print(x2)"
   ]
  },
  {
   "cell_type": "code",
   "execution_count": 46,
   "id": "15198c34",
   "metadata": {},
   "outputs": [
    {
     "name": "stdout",
     "output_type": "stream",
     "text": [
      "10\n"
     ]
    }
   ],
   "source": [
    "print(len(x2))"
   ]
  },
  {
   "cell_type": "code",
   "execution_count": 36,
   "id": "c895d910",
   "metadata": {},
   "outputs": [
    {
     "name": "stdout",
     "output_type": "stream",
     "text": [
      "['I', 'am', '40']\n"
     ]
    }
   ],
   "source": [
    "print(x2[5:8])"
   ]
  },
  {
   "cell_type": "code",
   "execution_count": 38,
   "id": "70151042",
   "metadata": {},
   "outputs": [
    {
     "name": "stdout",
     "output_type": "stream",
     "text": [
      "hello, my name is python. I am 60 years old\n"
     ]
    }
   ],
   "source": [
    "print(sent.replace('40','60'))"
   ]
  },
  {
   "cell_type": "code",
   "execution_count": 40,
   "id": "79a9d5c5",
   "metadata": {},
   "outputs": [
    {
     "data": {
      "text/plain": [
       "True"
      ]
     },
     "execution_count": 40,
     "metadata": {},
     "output_type": "execute_result"
    }
   ],
   "source": [
    "x2[7].isdigit()"
   ]
  },
  {
   "cell_type": "code",
   "execution_count": 44,
   "id": "4832e901",
   "metadata": {},
   "outputs": [
    {
     "name": "stdout",
     "output_type": "stream",
     "text": [
      "I am a string  _hello, my name is python. I am 40 years old\n"
     ]
    }
   ],
   "source": [
    "print(a+' '+' _'+sent)"
   ]
  },
  {
   "cell_type": "code",
   "execution_count": 45,
   "id": "e18a3bfa",
   "metadata": {},
   "outputs": [
    {
     "name": "stdout",
     "output_type": "stream",
     "text": [
      "Hello World;Xin chao H o Hello  chao\n",
      "20 True False False\n",
      "Hello World;Xin chao;Ohaiyo gozaimashu 38 -ABCD- ABCD\n",
      "HELLO WORLD;XIN CHAO;OHAIYO GOZAIMASHU hello world;xin chao;ohaiyo gozaimashu\n",
      "['Hello World', 'Xin chao', 'Ohaiyo gozaimashu'] 3\n",
      "True True 21\n"
     ]
    }
   ],
   "source": [
    "x = \"Hello World;Xin chao\"\n",
    "y = x + \";Ohaiyo gozaimashu\"\n",
    "print(x, x[0], x[-1], x[:5], x[-5:])\n",
    "print(len(x), \"World\" in x, \"python\" in x, \"World\" not in x)\n",
    "print(y, len(y), \"      -ABCD-     \".strip(), \"-ABCD-\".replace('-', ''))\n",
    "print(y.upper(), y.lower())\n",
    "\n",
    "WordList = y.split(\";\")\n",
    "print(WordList, len(WordList))\n",
    "print(\"1234\".isdigit(), \"1234\".isnumeric(), y.find(\"Ohaiyo\"))"
   ]
  },
  {
   "cell_type": "code",
   "execution_count": 48,
   "id": "8909f25d",
   "metadata": {},
   "outputs": [
    {
     "name": "stdout",
     "output_type": "stream",
     "text": [
      "I'm Monty Python\n"
     ]
    }
   ],
   "source": [
    "print('I\\'m Monty Python')"
   ]
  },
  {
   "cell_type": "code",
   "execution_count": 57,
   "id": "3d059ba2",
   "metadata": {},
   "outputs": [
    {
     "name": "stdout",
     "output_type": "stream",
     "text": [
      "0.3333333333333333\n"
     ]
    }
   ],
   "source": [
    "a= 2\n",
    "a /=6\n",
    "print(a)"
   ]
  },
  {
   "cell_type": "code",
   "execution_count": 50,
   "id": "780373eb",
   "metadata": {},
   "outputs": [
    {
     "name": "stdout",
     "output_type": "stream",
     "text": [
      "True\n",
      "False\n"
     ]
    }
   ],
   "source": [
    "print(True > False)\n",
    "print(True < False)\n"
   ]
  },
  {
   "cell_type": "code",
   "execution_count": 52,
   "id": "2be4bc74",
   "metadata": {},
   "outputs": [
    {
     "name": "stdout",
     "output_type": "stream",
     "text": [
      "\"\"I'm\" \n",
      "\"\"learning\"\" \n",
      "\"\"\"Python\"\"\"\n"
     ]
    }
   ],
   "source": [
    "print(\"\\\"\\\"I\\'m\\\" \\n\\\"\\\"learning\\\"\\\" \\n\\\"\\\"\\\"Python\\\"\\\"\\\"\")"
   ]
  },
  {
   "cell_type": "code",
   "execution_count": 53,
   "id": "2e998603",
   "metadata": {},
   "outputs": [
    {
     "name": "stdout",
     "output_type": "stream",
     "text": [
      "4\n"
     ]
    }
   ],
   "source": [
    "print(2+2)"
   ]
  },
  {
   "cell_type": "code",
   "execution_count": null,
   "id": "a1c26185",
   "metadata": {},
   "outputs": [],
   "source": [
    "# Arithmetic Operators\n",
    "#Rational Operators\n",
    "# Assignment Operators\n",
    "# Logical Operators\n",
    "# Bitwise Operators\n",
    "# Membership Operator\n",
    "# Identity Operator"
   ]
  },
  {
   "cell_type": "code",
   "execution_count": 58,
   "id": "a2211214",
   "metadata": {},
   "outputs": [
    {
     "name": "stderr",
     "output_type": "stream",
     "text": [
      "<>:2: SyntaxWarning: \"is\" with a literal. Did you mean \"==\"?\n",
      "<>:2: SyntaxWarning: \"is\" with a literal. Did you mean \"==\"?\n",
      "C:\\Users\\hieub\\AppData\\Local\\Temp/ipykernel_12748/948057835.py:2: SyntaxWarning: \"is\" with a literal. Did you mean \"==\"?\n",
      "  L[2] is 3\n"
     ]
    },
    {
     "data": {
      "text/plain": [
       "True"
      ]
     },
     "execution_count": 58,
     "metadata": {},
     "output_type": "execute_result"
    }
   ],
   "source": [
    "L =[1,2,3]\n",
    "L[2] is 3 #Ientity Operator"
   ]
  },
  {
   "cell_type": "code",
   "execution_count": 59,
   "id": "7a887c06",
   "metadata": {},
   "outputs": [
    {
     "data": {
      "text/plain": [
       "True"
      ]
     },
     "execution_count": 59,
     "metadata": {},
     "output_type": "execute_result"
    }
   ],
   "source": [
    " 2 in L #Membership"
   ]
  },
  {
   "cell_type": "code",
   "execution_count": 61,
   "id": "e9ef4257",
   "metadata": {},
   "outputs": [],
   "source": [
    "a= 43\n",
    "b= 21"
   ]
  },
  {
   "cell_type": "code",
   "execution_count": 62,
   "id": "53ecc0e3",
   "metadata": {},
   "outputs": [
    {
     "name": "stdout",
     "output_type": "stream",
     "text": [
      "+ 64 - 22 * 903 / 2.0476190476190474 // 2 % 1 ** 20083415214428110320965436874242043\n"
     ]
    }
   ],
   "source": [
    "print('+',a+b, '-',a-b, '*',a*b, '/',a/b, '//',a//b, '%',a%b, '**',a**b)"
   ]
  },
  {
   "cell_type": "code",
   "execution_count": 63,
   "id": "68262935",
   "metadata": {},
   "outputs": [
    {
     "name": "stdout",
     "output_type": "stream",
     "text": [
      "8\n",
      "8.0\n",
      "8.0\n",
      "8.0\n"
     ]
    }
   ],
   "source": [
    "print(2 ** 3)\n",
    "print(2 ** 3.)\n",
    "print(2. ** 3)\n",
    "print(2. ** 3.)"
   ]
  },
  {
   "cell_type": "code",
   "execution_count": 64,
   "id": "ebf67210",
   "metadata": {},
   "outputs": [
    {
     "name": "stdout",
     "output_type": "stream",
     "text": [
      "6\n",
      "6.0\n",
      "6.0\n",
      "6.0\n"
     ]
    }
   ],
   "source": [
    "print(2 * 3)\n",
    "print(2 * 3.)\n",
    "print(2. * 3)\n",
    "print(2. * 3.)\n",
    "\n"
   ]
  },
  {
   "cell_type": "code",
   "execution_count": 65,
   "id": "f4bd2fc1",
   "metadata": {},
   "outputs": [
    {
     "name": "stdout",
     "output_type": "stream",
     "text": [
      "2.0\n",
      "2.0\n",
      "2.0\n",
      "2.0\n"
     ]
    }
   ],
   "source": [
    "print(6 / 3)\n",
    "print(6 / 3.)\n",
    "print(6. / 3)\n",
    "print(6. / 3.)"
   ]
  },
  {
   "cell_type": "code",
   "execution_count": 66,
   "id": "80429a03",
   "metadata": {},
   "outputs": [
    {
     "name": "stdout",
     "output_type": "stream",
     "text": [
      "2\n",
      "2.0\n",
      "2.0\n",
      "2.0\n"
     ]
    }
   ],
   "source": [
    "print(6 // 3)\n",
    "print(6 // 3.)\n",
    "print(6. // 3)\n",
    "print(6. // 3.)\n"
   ]
  },
  {
   "cell_type": "code",
   "execution_count": 68,
   "id": "724bfc24",
   "metadata": {},
   "outputs": [
    {
     "name": "stdout",
     "output_type": "stream",
     "text": [
      "1\n",
      "1.0\n"
     ]
    }
   ],
   "source": [
    "print(7 // 4)\n",
    "print(6. // 4)\n"
   ]
  },
  {
   "cell_type": "code",
   "execution_count": 71,
   "id": "24346a7e",
   "metadata": {},
   "outputs": [
    {
     "name": "stdout",
     "output_type": "stream",
     "text": [
      "-2\n",
      "-2.0\n"
     ]
    }
   ],
   "source": [
    "print(-7 // 6)\n",
    "print(6. // -4)\n"
   ]
  },
  {
   "cell_type": "code",
   "execution_count": 72,
   "id": "ef9b0392",
   "metadata": {},
   "outputs": [
    {
     "name": "stdout",
     "output_type": "stream",
     "text": [
      "1\n"
     ]
    }
   ],
   "source": [
    "print(9 % 6 % 2)"
   ]
  },
  {
   "cell_type": "code",
   "execution_count": 73,
   "id": "fc9568d6",
   "metadata": {},
   "outputs": [
    {
     "name": "stdout",
     "output_type": "stream",
     "text": [
      "256\n"
     ]
    }
   ],
   "source": [
    "print(2 ** 2 ** 3)"
   ]
  },
  {
   "cell_type": "code",
   "execution_count": 74,
   "id": "40409512",
   "metadata": {},
   "outputs": [
    {
     "name": "stdout",
     "output_type": "stream",
     "text": [
      "1\n"
     ]
    }
   ],
   "source": [
    "print(2 * 3 % 5)"
   ]
  },
  {
   "cell_type": "code",
   "execution_count": 75,
   "id": "08a2cf1f",
   "metadata": {},
   "outputs": [
    {
     "name": "stdout",
     "output_type": "stream",
     "text": [
      "10.0\n"
     ]
    }
   ],
   "source": [
    "print((5 * ((25 % 13) + 100) / (2 * 13)) // 2)"
   ]
  },
  {
   "cell_type": "code",
   "execution_count": 76,
   "id": "edf91f8f",
   "metadata": {},
   "outputs": [],
   "source": [
    "aD1_ =2"
   ]
  },
  {
   "cell_type": "code",
   "execution_count": 78,
   "id": "a086b568",
   "metadata": {},
   "outputs": [],
   "source": [
    "_1aD1_1 =2\n"
   ]
  },
  {
   "cell_type": "code",
   "execution_count": 85,
   "id": "5e1a7422",
   "metadata": {},
   "outputs": [],
   "source": [
    "_in =2\n",
    "_import=0\n",
    "_as=0\n",
    "Việt_Nam =2\n"
   ]
  },
  {
   "cell_type": "markdown",
   "id": "225db3ee",
   "metadata": {},
   "source": [
    "-['False', 'None', 'True', 'and', 'as', 'assert', 'break', 'class', 'continue', 'def', 'del', 'elif', 'else', 'except', 'finally', 'for', 'from', 'global', 'if', 'import', 'in', 'is', 'lambda', 'nonlocal', 'not', 'or', 'pass', 'raise', 'return', 'try', 'while', 'with', 'yield']\n",
    "\n",
    "\n"
   ]
  },
  {
   "cell_type": "code",
   "execution_count": 94,
   "id": "60ba8446",
   "metadata": {},
   "outputs": [
    {
     "name": "stdout",
     "output_type": "stream",
     "text": [
      "[2, 3]\n"
     ]
    }
   ],
   "source": [
    "c_ ={'a':[2,3],'b':5,'e':'hello'}\n",
    "print(c_['a'])"
   ]
  },
  {
   "cell_type": "code",
   "execution_count": null,
   "id": "d285859e",
   "metadata": {},
   "outputs": [],
   "source": [
    "#pip install opencv-python"
   ]
  },
  {
   "cell_type": "code",
   "execution_count": 91,
   "id": "0d9e4c25",
   "metadata": {},
   "outputs": [
    {
     "name": "stdout",
     "output_type": "stream",
     "text": [
      "{'a': 2, 'b': 5, 'e': 'hello'}\n"
     ]
    }
   ],
   "source": [
    "import cv2\n",
    "a= 10\n",
    "b= [1,2,3]\n",
    "print(b[0])\n",
    "c_ ={'a':2,'b':5,'e':'hello'}\n",
    "d =(1,2,3)\n",
    "e= cv2.imread('G:/My Drive/1. Lectures/Computer vision/ipynb/Images/cat.jpg')\n",
    "cv2.imshow('variable',e)\n",
    "cv2.waitKey(0)\n",
    "print(c_)"
   ]
  },
  {
   "cell_type": "code",
   "execution_count": null,
   "id": "82226be9",
   "metadata": {},
   "outputs": [],
   "source": [
    "# EX1: Assume we have a string \"Today is Sunday and we don't need to wake up at 8 am\". \n",
    "# Print how many words in the string and check whether number in string. Print position of that number in string   \n",
    "# EX2: Assume we have string \"This product is good. It's price is 30 USD and it is cheappest in this town\"\n",
    "# Print this feedback and Convert USD to VND in the statement."
   ]
  }
 ],
 "metadata": {
  "kernelspec": {
   "display_name": "Python 3 (ipykernel)",
   "language": "python",
   "name": "python3"
  },
  "language_info": {
   "codemirror_mode": {
    "name": "ipython",
    "version": 3
   },
   "file_extension": ".py",
   "mimetype": "text/x-python",
   "name": "python",
   "nbconvert_exporter": "python",
   "pygments_lexer": "ipython3",
   "version": "3.9.5"
  }
 },
 "nbformat": 4,
 "nbformat_minor": 5
}
