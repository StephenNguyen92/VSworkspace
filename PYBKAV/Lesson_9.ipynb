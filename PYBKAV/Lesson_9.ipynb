{
 "cells": [
  {
   "cell_type": "code",
   "execution_count": 1,
   "id": "aa15722f",
   "metadata": {},
   "outputs": [
    {
     "name": "stdout",
     "output_type": "stream",
     "text": [
      "[2, 4, 3]\n"
     ]
    }
   ],
   "source": [
    "l = [2,4]\n",
    "l.append(3)\n",
    "print(l)"
   ]
  },
  {
   "cell_type": "code",
   "execution_count": 2,
   "id": "f9be4840",
   "metadata": {},
   "outputs": [
    {
     "name": "stdout",
     "output_type": "stream",
     "text": [
      "[2, 4, 10, 3]\n"
     ]
    }
   ],
   "source": [
    "l.insert(-1,10)\n",
    "print(l)"
   ]
  },
  {
   "cell_type": "code",
   "execution_count": 4,
   "id": "07bfef22",
   "metadata": {},
   "outputs": [
    {
     "name": "stdout",
     "output_type": "stream",
     "text": [
      "[4, 2, 10, 3]\n"
     ]
    }
   ],
   "source": [
    "l[0],l[1]=l[1],l[0]\n",
    "print(l)"
   ]
  },
  {
   "cell_type": "code",
   "execution_count": 5,
   "id": "0099322c",
   "metadata": {},
   "outputs": [
    {
     "name": "stdout",
     "output_type": "stream",
     "text": [
      "False\n"
     ]
    }
   ],
   "source": [
    "print(5 in l)"
   ]
  },
  {
   "cell_type": "code",
   "execution_count": 7,
   "id": "56b71000",
   "metadata": {},
   "outputs": [
    {
     "name": "stdout",
     "output_type": "stream",
     "text": [
      "The list with unique elements only:\n",
      "[1, 2, 4, 6, 9]\n"
     ]
    }
   ],
   "source": [
    "my_list = [1, 2, 4, 4, 1, 4, 2, 6, 2, 9]\n",
    "#\n",
    "# Write your code here.\n",
    "#\n",
    "new_list =[]\n",
    "for i in my_list:\n",
    "    if i in my_list:\n",
    "        if i not in new_list: \n",
    "            new_list.append(i)\n",
    "    \n",
    "print(\"The list with unique elements only:\")\n",
    "print(new_list)\n"
   ]
  },
  {
   "cell_type": "code",
   "execution_count": 9,
   "id": "5df57a16",
   "metadata": {},
   "outputs": [
    {
     "name": "stdout",
     "output_type": "stream",
     "text": [
      "[1 2 4 6 9]\n"
     ]
    }
   ],
   "source": [
    "my_list = [1, 2, 4, 4, 1, 4, 2, 6, 2, 9]\n",
    "import numpy as np\n",
    "print(np.unique(my_list))"
   ]
  },
  {
   "cell_type": "code",
   "execution_count": 11,
   "id": "9f942507",
   "metadata": {},
   "outputs": [],
   "source": [
    "colors = ['red', 'green', 'orange']\n",
    "\n",
    "copy_whole_colors = colors[:]  # copy the entire list\n",
    "copy_part_colors = colors[0:2]  # copy part of the list\n",
    "copy_whole_colors_2=colors.copy()"
   ]
  },
  {
   "cell_type": "code",
   "execution_count": 14,
   "id": "b2c51683",
   "metadata": {},
   "outputs": [
    {
     "name": "stdout",
     "output_type": "stream",
     "text": [
      "['WHITE_PAWN', 'WHITE_PAWN', 'WHITE_PAWN', 'WHITE_PAWN', 'WHITE_PAWN', 'WHITE_PAWN', 'WHITE_PAWN', 'WHITE_PAWN']\n"
     ]
    }
   ],
   "source": [
    "row = []\n",
    "\n",
    "for i in range(8):\n",
    "    row.append('WHITE_PAWN')\n",
    "\n",
    "print(row)"
   ]
  },
  {
   "cell_type": "code",
   "execution_count": 15,
   "id": "a0c2308d",
   "metadata": {},
   "outputs": [
    {
     "name": "stdout",
     "output_type": "stream",
     "text": [
      "['WHITE_PAWN', 'WHITE_PAWN', 'WHITE_PAWN', 'WHITE_PAWN', 'WHITE_PAWN', 'WHITE_PAWN', 'WHITE_PAWN', 'WHITE_PAWN']\n"
     ]
    }
   ],
   "source": [
    "row =['WHITE_PAWN' for i in range(8)]\n",
    "print(row)"
   ]
  },
  {
   "cell_type": "code",
   "execution_count": 16,
   "id": "2646dd6d",
   "metadata": {},
   "outputs": [
    {
     "name": "stdout",
     "output_type": "stream",
     "text": [
      "[2, 4, 10, 28, 82, 244, 730, 2188]\n"
     ]
    }
   ],
   "source": [
    "row2 =[3**i+1 for i in range(8)]\n",
    "print(row2)"
   ]
  },
  {
   "cell_type": "code",
   "execution_count": 18,
   "id": "89db0b91",
   "metadata": {},
   "outputs": [
    {
     "name": "stdout",
     "output_type": "stream",
     "text": [
      "[4, 9, 16, 36, 64]\n"
     ]
    }
   ],
   "source": [
    "l=[2,3,4,6,8]\n",
    "row2 =[i**2 for i in l]\n",
    "print(row2)"
   ]
  },
  {
   "cell_type": "code",
   "execution_count": 19,
   "id": "5b04a424",
   "metadata": {},
   "outputs": [],
   "source": [
    "squares = [x ** 2 for x in range(10)]"
   ]
  },
  {
   "cell_type": "code",
   "execution_count": 20,
   "id": "77db5673",
   "metadata": {},
   "outputs": [],
   "source": [
    "twos = [2 ** i for i in range(8)]"
   ]
  },
  {
   "cell_type": "code",
   "execution_count": 22,
   "id": "792fd10d",
   "metadata": {},
   "outputs": [
    {
     "name": "stdout",
     "output_type": "stream",
     "text": [
      "[0, 1, 4, 9, 16, 25, 36, 49, 64, 81]\n",
      "[1, 9, 25, 49, 81]\n"
     ]
    }
   ],
   "source": [
    "odds = [x for x in squares if x % 2 != 0 ]\n",
    "print(squares)\n",
    "print(odds)"
   ]
  },
  {
   "cell_type": "code",
   "execution_count": 23,
   "id": "b1cffd7c",
   "metadata": {},
   "outputs": [
    {
     "name": "stdout",
     "output_type": "stream",
     "text": [
      "[0, 1, 4, 9, 16, 25, 36, 49, 64, 81]\n",
      "[16, 25]\n"
     ]
    }
   ],
   "source": [
    "_20_30 = [x for x in squares if x>10 and x<30 ]\n",
    "print(squares)\n",
    "print(_20_30)"
   ]
  },
  {
   "cell_type": "code",
   "execution_count": 24,
   "id": "9f07296d",
   "metadata": {},
   "outputs": [],
   "source": [
    "board = []\n",
    "\n",
    "for i in range(8):\n",
    "    row = ['EMPTY' for i in range(8)]\n",
    "    board.append(row)\n",
    "\n"
   ]
  },
  {
   "cell_type": "code",
   "execution_count": 25,
   "id": "0d0f8e2b",
   "metadata": {},
   "outputs": [
    {
     "name": "stdout",
     "output_type": "stream",
     "text": [
      "[['EMPTY', 'EMPTY', 'EMPTY', 'EMPTY', 'EMPTY', 'EMPTY', 'EMPTY', 'EMPTY'], ['EMPTY', 'EMPTY', 'EMPTY', 'EMPTY', 'EMPTY', 'EMPTY', 'EMPTY', 'EMPTY'], ['EMPTY', 'EMPTY', 'EMPTY', 'EMPTY', 'EMPTY', 'EMPTY', 'EMPTY', 'EMPTY'], ['EMPTY', 'EMPTY', 'EMPTY', 'EMPTY', 'EMPTY', 'EMPTY', 'EMPTY', 'EMPTY'], ['EMPTY', 'EMPTY', 'EMPTY', 'EMPTY', 'EMPTY', 'EMPTY', 'EMPTY', 'EMPTY'], ['EMPTY', 'EMPTY', 'EMPTY', 'EMPTY', 'EMPTY', 'EMPTY', 'EMPTY', 'EMPTY'], ['EMPTY', 'EMPTY', 'EMPTY', 'EMPTY', 'EMPTY', 'EMPTY', 'EMPTY', 'EMPTY'], ['EMPTY', 'EMPTY', 'EMPTY', 'EMPTY', 'EMPTY', 'EMPTY', 'EMPTY', 'EMPTY']]\n"
     ]
    }
   ],
   "source": [
    "print(board)"
   ]
  },
  {
   "cell_type": "code",
   "execution_count": 26,
   "id": "74f91797",
   "metadata": {},
   "outputs": [
    {
     "name": "stdout",
     "output_type": "stream",
     "text": [
      "[['EMPTY', 'EMPTY', 'EMPTY', 'EMPTY', 'EMPTY', 'EMPTY', 'EMPTY', 'EMPTY'], ['EMPTY', 'EMPTY', 'EMPTY', 'EMPTY', 'EMPTY', 'EMPTY', 'EMPTY', 'EMPTY'], ['EMPTY', 'EMPTY', 'EMPTY', 'EMPTY', 'EMPTY', 'EMPTY', 'EMPTY', 'EMPTY'], ['EMPTY', 'EMPTY', 'EMPTY', 'EMPTY', 'EMPTY', 'EMPTY', 'EMPTY', 'EMPTY'], ['EMPTY', 'EMPTY', 'EMPTY', 'EMPTY', 'EMPTY', 'EMPTY', 'EMPTY', 'EMPTY'], ['EMPTY', 'EMPTY', 'EMPTY', 'EMPTY', 'EMPTY', 'EMPTY', 'EMPTY', 'EMPTY'], ['EMPTY', 'EMPTY', 'EMPTY', 'EMPTY', 'EMPTY', 'EMPTY', 'EMPTY', 'EMPTY'], ['EMPTY', 'EMPTY', 'EMPTY', 'EMPTY', 'EMPTY', 'EMPTY', 'EMPTY', 'EMPTY']]\n"
     ]
    }
   ],
   "source": [
    "board2 = [['EMPTY' for i in range(8)] for j in range(8)]\n",
    "print(board2)"
   ]
  },
  {
   "cell_type": "code",
   "execution_count": 28,
   "id": "8aec5776",
   "metadata": {},
   "outputs": [
    {
     "name": "stdout",
     "output_type": "stream",
     "text": [
      "[['EMPTY_00', 'EMPTY_10', 'EMPTY_20', 'EMPTY_30', 'EMPTY_40', 'EMPTY_50', 'EMPTY_60', 'EMPTY_70'], ['EMPTY_01', 'EMPTY_11', 'EMPTY_21', 'EMPTY_31', 'EMPTY_41', 'EMPTY_51', 'EMPTY_61', 'EMPTY_71'], ['EMPTY_02', 'EMPTY_12', 'EMPTY_22', 'EMPTY_32', 'EMPTY_42', 'EMPTY_52', 'EMPTY_62', 'EMPTY_72'], ['EMPTY_03', 'EMPTY_13', 'EMPTY_23', 'EMPTY_33', 'EMPTY_43', 'EMPTY_53', 'EMPTY_63', 'EMPTY_73'], ['EMPTY_04', 'EMPTY_14', 'EMPTY_24', 'EMPTY_34', 'EMPTY_44', 'EMPTY_54', 'EMPTY_64', 'EMPTY_74'], ['EMPTY_05', 'EMPTY_15', 'EMPTY_25', 'EMPTY_35', 'EMPTY_45', 'EMPTY_55', 'EMPTY_65', 'EMPTY_75'], ['EMPTY_06', 'EMPTY_16', 'EMPTY_26', 'EMPTY_36', 'EMPTY_46', 'EMPTY_56', 'EMPTY_66', 'EMPTY_76'], ['EMPTY_07', 'EMPTY_17', 'EMPTY_27', 'EMPTY_37', 'EMPTY_47', 'EMPTY_57', 'EMPTY_67', 'EMPTY_77']]\n"
     ]
    }
   ],
   "source": [
    "board2 = [['EMPTY'+'_'+str(i)+str(j) for i in range(8)] for j in range(8)]\n",
    "print(board2)"
   ]
  },
  {
   "cell_type": "code",
   "execution_count": 29,
   "id": "e5836baf",
   "metadata": {},
   "outputs": [
    {
     "data": {
      "text/plain": [
       "['EMPTY_00',\n",
       " 'EMPTY_10',\n",
       " 'EMPTY_20',\n",
       " 'EMPTY_30',\n",
       " 'EMPTY_40',\n",
       " 'EMPTY_50',\n",
       " 'EMPTY_60',\n",
       " 'EMPTY_70']"
      ]
     },
     "execution_count": 29,
     "metadata": {},
     "output_type": "execute_result"
    }
   ],
   "source": [
    "board2[0]"
   ]
  },
  {
   "cell_type": "code",
   "execution_count": 30,
   "id": "2a480cb5",
   "metadata": {},
   "outputs": [
    {
     "name": "stdout",
     "output_type": "stream",
     "text": [
      "EMPTY_10\n"
     ]
    }
   ],
   "source": [
    "print(board2[0][1])"
   ]
  },
  {
   "cell_type": "code",
   "execution_count": 33,
   "id": "9d7e6e0e",
   "metadata": {},
   "outputs": [
    {
     "name": "stdout",
     "output_type": "stream",
     "text": [
      "EMPTY_10\n",
      "EMPTY_10\n"
     ]
    }
   ],
   "source": [
    "board3 = np.array(board2)\n",
    "print(board3[0][1])#\n",
    "print(board3[0,1])#"
   ]
  },
  {
   "cell_type": "code",
   "execution_count": 35,
   "id": "9a91df18",
   "metadata": {},
   "outputs": [
    {
     "name": "stdout",
     "output_type": "stream",
     "text": [
      "[[0.0, 0.0, 0.0, 0.0, 0.0, 0.0, 0.0, 0.0, 0.0, 0.0, 0.0, 0.0, 0.0, 0.0, 0.0, 0.0, 0.0, 0.0, 0.0, 0.0, 0.0, 0.0, 0.0, 0.0], [0.0, 0.0, 0.0, 0.0, 0.0, 0.0, 0.0, 0.0, 0.0, 0.0, 0.0, 0.0, 0.0, 0.0, 0.0, 0.0, 0.0, 0.0, 0.0, 0.0, 0.0, 0.0, 0.0, 0.0], [0.0, 0.0, 0.0, 0.0, 0.0, 0.0, 0.0, 0.0, 0.0, 0.0, 0.0, 0.0, 0.0, 0.0, 0.0, 0.0, 0.0, 0.0, 0.0, 0.0, 0.0, 0.0, 0.0, 0.0], [0.0, 0.0, 0.0, 0.0, 0.0, 0.0, 0.0, 0.0, 0.0, 0.0, 0.0, 0.0, 0.0, 0.0, 0.0, 0.0, 0.0, 0.0, 0.0, 0.0, 0.0, 0.0, 0.0, 0.0], [0.0, 0.0, 0.0, 0.0, 0.0, 0.0, 0.0, 0.0, 0.0, 0.0, 0.0, 0.0, 0.0, 0.0, 0.0, 0.0, 0.0, 0.0, 0.0, 0.0, 0.0, 0.0, 0.0, 0.0], [0.0, 0.0, 0.0, 0.0, 0.0, 0.0, 0.0, 0.0, 0.0, 0.0, 0.0, 0.0, 0.0, 0.0, 0.0, 0.0, 0.0, 0.0, 0.0, 0.0, 0.0, 0.0, 0.0, 0.0], [0.0, 0.0, 0.0, 0.0, 0.0, 0.0, 0.0, 0.0, 0.0, 0.0, 0.0, 0.0, 0.0, 0.0, 0.0, 0.0, 0.0, 0.0, 0.0, 0.0, 0.0, 0.0, 0.0, 0.0], [0.0, 0.0, 0.0, 0.0, 0.0, 0.0, 0.0, 0.0, 0.0, 0.0, 0.0, 0.0, 0.0, 0.0, 0.0, 0.0, 0.0, 0.0, 0.0, 0.0, 0.0, 0.0, 0.0, 0.0], [0.0, 0.0, 0.0, 0.0, 0.0, 0.0, 0.0, 0.0, 0.0, 0.0, 0.0, 0.0, 0.0, 0.0, 0.0, 0.0, 0.0, 0.0, 0.0, 0.0, 0.0, 0.0, 0.0, 0.0], [0.0, 0.0, 0.0, 0.0, 0.0, 0.0, 0.0, 0.0, 0.0, 0.0, 0.0, 0.0, 0.0, 0.0, 0.0, 0.0, 0.0, 0.0, 0.0, 0.0, 0.0, 0.0, 0.0, 0.0], [0.0, 0.0, 0.0, 0.0, 0.0, 0.0, 0.0, 0.0, 0.0, 0.0, 0.0, 0.0, 0.0, 0.0, 0.0, 0.0, 0.0, 0.0, 0.0, 0.0, 0.0, 0.0, 0.0, 0.0], [0.0, 0.0, 0.0, 0.0, 0.0, 0.0, 0.0, 0.0, 0.0, 0.0, 0.0, 0.0, 0.0, 0.0, 0.0, 0.0, 0.0, 0.0, 0.0, 0.0, 0.0, 0.0, 0.0, 0.0], [0.0, 0.0, 0.0, 0.0, 0.0, 0.0, 0.0, 0.0, 0.0, 0.0, 0.0, 0.0, 0.0, 0.0, 0.0, 0.0, 0.0, 0.0, 0.0, 0.0, 0.0, 0.0, 0.0, 0.0], [0.0, 0.0, 0.0, 0.0, 0.0, 0.0, 0.0, 0.0, 0.0, 0.0, 0.0, 0.0, 0.0, 0.0, 0.0, 0.0, 0.0, 0.0, 0.0, 0.0, 0.0, 0.0, 0.0, 0.0], [0.0, 0.0, 0.0, 0.0, 0.0, 0.0, 0.0, 0.0, 0.0, 0.0, 0.0, 0.0, 0.0, 0.0, 0.0, 0.0, 0.0, 0.0, 0.0, 0.0, 0.0, 0.0, 0.0, 0.0], [0.0, 0.0, 0.0, 0.0, 0.0, 0.0, 0.0, 0.0, 0.0, 0.0, 0.0, 0.0, 0.0, 0.0, 0.0, 0.0, 0.0, 0.0, 0.0, 0.0, 0.0, 0.0, 0.0, 0.0], [0.0, 0.0, 0.0, 0.0, 0.0, 0.0, 0.0, 0.0, 0.0, 0.0, 0.0, 0.0, 0.0, 0.0, 0.0, 0.0, 0.0, 0.0, 0.0, 0.0, 0.0, 0.0, 0.0, 0.0], [0.0, 0.0, 0.0, 0.0, 0.0, 0.0, 0.0, 0.0, 0.0, 0.0, 0.0, 0.0, 0.0, 0.0, 0.0, 0.0, 0.0, 0.0, 0.0, 0.0, 0.0, 0.0, 0.0, 0.0], [0.0, 0.0, 0.0, 0.0, 0.0, 0.0, 0.0, 0.0, 0.0, 0.0, 0.0, 0.0, 0.0, 0.0, 0.0, 0.0, 0.0, 0.0, 0.0, 0.0, 0.0, 0.0, 0.0, 0.0], [0.0, 0.0, 0.0, 0.0, 0.0, 0.0, 0.0, 0.0, 0.0, 0.0, 0.0, 0.0, 0.0, 0.0, 0.0, 0.0, 0.0, 0.0, 0.0, 0.0, 0.0, 0.0, 0.0, 0.0], [0.0, 0.0, 0.0, 0.0, 0.0, 0.0, 0.0, 0.0, 0.0, 0.0, 0.0, 0.0, 0.0, 0.0, 0.0, 0.0, 0.0, 0.0, 0.0, 0.0, 0.0, 0.0, 0.0, 0.0], [0.0, 0.0, 0.0, 0.0, 0.0, 0.0, 0.0, 0.0, 0.0, 0.0, 0.0, 0.0, 0.0, 0.0, 0.0, 0.0, 0.0, 0.0, 0.0, 0.0, 0.0, 0.0, 0.0, 0.0], [0.0, 0.0, 0.0, 0.0, 0.0, 0.0, 0.0, 0.0, 0.0, 0.0, 0.0, 0.0, 0.0, 0.0, 0.0, 0.0, 0.0, 0.0, 0.0, 0.0, 0.0, 0.0, 0.0, 0.0], [0.0, 0.0, 0.0, 0.0, 0.0, 0.0, 0.0, 0.0, 0.0, 0.0, 0.0, 0.0, 0.0, 0.0, 0.0, 0.0, 0.0, 0.0, 0.0, 0.0, 0.0, 0.0, 0.0, 0.0], [0.0, 0.0, 0.0, 0.0, 0.0, 0.0, 0.0, 0.0, 0.0, 0.0, 0.0, 0.0, 0.0, 0.0, 0.0, 0.0, 0.0, 0.0, 0.0, 0.0, 0.0, 0.0, 0.0, 0.0], [0.0, 0.0, 0.0, 0.0, 0.0, 0.0, 0.0, 0.0, 0.0, 0.0, 0.0, 0.0, 0.0, 0.0, 0.0, 0.0, 0.0, 0.0, 0.0, 0.0, 0.0, 0.0, 0.0, 0.0], [0.0, 0.0, 0.0, 0.0, 0.0, 0.0, 0.0, 0.0, 0.0, 0.0, 0.0, 0.0, 0.0, 0.0, 0.0, 0.0, 0.0, 0.0, 0.0, 0.0, 0.0, 0.0, 0.0, 0.0], [0.0, 0.0, 0.0, 0.0, 0.0, 0.0, 0.0, 0.0, 0.0, 0.0, 0.0, 0.0, 0.0, 0.0, 0.0, 0.0, 0.0, 0.0, 0.0, 0.0, 0.0, 0.0, 0.0, 0.0], [0.0, 0.0, 0.0, 0.0, 0.0, 0.0, 0.0, 0.0, 0.0, 0.0, 0.0, 0.0, 0.0, 0.0, 0.0, 0.0, 0.0, 0.0, 0.0, 0.0, 0.0, 0.0, 0.0, 0.0], [0.0, 0.0, 0.0, 0.0, 0.0, 0.0, 0.0, 0.0, 0.0, 0.0, 0.0, 0.0, 0.0, 0.0, 0.0, 0.0, 0.0, 0.0, 0.0, 0.0, 0.0, 0.0, 0.0, 0.0], [0.0, 0.0, 0.0, 0.0, 0.0, 0.0, 0.0, 0.0, 0.0, 0.0, 0.0, 0.0, 0.0, 0.0, 0.0, 0.0, 0.0, 0.0, 0.0, 0.0, 0.0, 0.0, 0.0, 0.0]]\n"
     ]
    }
   ],
   "source": [
    "temps = [[0.0 for h in range(24)] for d in range(31)]\n",
    "print(temps)"
   ]
  },
  {
   "cell_type": "code",
   "execution_count": 36,
   "id": "3e18ca1b",
   "metadata": {},
   "outputs": [
    {
     "name": "stdout",
     "output_type": "stream",
     "text": [
      "Average temperature at noon: 0.0\n"
     ]
    }
   ],
   "source": [
    "temps = [[0.0 for h in range(24)] for d in range(31)]\n",
    "#\n",
    "# The matrix is magically updated here.\n",
    "#\n",
    "\n",
    "total = 0.0\n",
    "\n",
    "for day in temps:\n",
    "    total += day[11]\n",
    "\n",
    "average = total / 31\n",
    "\n",
    "print(\"Average temperature at noon:\", average)\n",
    "\n"
   ]
  },
  {
   "cell_type": "code",
   "execution_count": 37,
   "id": "f437d694",
   "metadata": {},
   "outputs": [
    {
     "name": "stdout",
     "output_type": "stream",
     "text": [
      "The highest temperature was: 0.0\n"
     ]
    }
   ],
   "source": [
    "temps = [[0.0 for h in range(24)] for d in range(31)]\n",
    "#\n",
    "# The matrix is magically updated here.\n",
    "#\n",
    "\n",
    "highest = -100.0\n",
    "\n",
    "for day in temps:\n",
    "    for temp in day:\n",
    "        if temp > highest:\n",
    "            highest = temp\n",
    "\n",
    "print(\"The highest temperature was:\", highest)\n",
    "\n"
   ]
  },
  {
   "cell_type": "code",
   "execution_count": 39,
   "id": "ef90916f",
   "metadata": {},
   "outputs": [
    {
     "name": "stdout",
     "output_type": "stream",
     "text": [
      "False\n"
     ]
    }
   ],
   "source": [
    "rooms =[[[False for r in range(20)] for f in range(15)] for t in range(3)]\n",
    "print(rooms[1][1][1])\n"
   ]
  },
  {
   "cell_type": "code",
   "execution_count": 40,
   "id": "42e664d4",
   "metadata": {},
   "outputs": [
    {
     "name": "stdout",
     "output_type": "stream",
     "text": [
      "False\n"
     ]
    }
   ],
   "source": [
    "rooms2 = np.array(rooms)\n",
    "print(rooms2[1,1,1])"
   ]
  },
  {
   "cell_type": "code",
   "execution_count": null,
   "id": "f39d4f4e",
   "metadata": {},
   "outputs": [],
   "source": [
    "print(\"Enter a value: \")\n",
    "a = int(input())\n",
    "\n",
    "print(\"Enter a value: \")\n",
    "b = int(input())\n",
    "\n",
    "print(\"Enter a value: \")\n",
    "c = int(input())\n"
   ]
  },
  {
   "cell_type": "code",
   "execution_count": 41,
   "id": "95bcf9dc",
   "metadata": {},
   "outputs": [],
   "source": [
    "def my_function():\n",
    "    pass\n",
    "    "
   ]
  },
  {
   "cell_type": "code",
   "execution_count": 42,
   "id": "afaebd8f",
   "metadata": {},
   "outputs": [],
   "source": [
    "def message():\n",
    "    print(\"Enter a value: \")\n"
   ]
  },
  {
   "cell_type": "code",
   "execution_count": 43,
   "id": "fb0b510d",
   "metadata": {},
   "outputs": [
    {
     "name": "stdout",
     "output_type": "stream",
     "text": [
      "We start here.\n",
      "We end here.\n"
     ]
    }
   ],
   "source": [
    "def message():\n",
    "    print(\"Enter a value: \")\n",
    "\n",
    "print(\"We start here.\")\n",
    "print(\"We end here.\")\n"
   ]
  },
  {
   "cell_type": "code",
   "execution_count": 1,
   "id": "62a117e4",
   "metadata": {},
   "outputs": [
    {
     "name": "stdout",
     "output_type": "stream",
     "text": [
      "We start here.\n"
     ]
    },
    {
     "ename": "NameError",
     "evalue": "name 'message' is not defined",
     "output_type": "error",
     "traceback": [
      "\u001b[1;31m---------------------------------------------------------------------------\u001b[0m",
      "\u001b[1;31mNameError\u001b[0m                                 Traceback (most recent call last)",
      "\u001b[1;32m~\\AppData\\Local\\Temp/ipykernel_12368/2727413901.py\u001b[0m in \u001b[0;36m<module>\u001b[1;34m\u001b[0m\n\u001b[0;32m      1\u001b[0m \u001b[0mprint\u001b[0m\u001b[1;33m(\u001b[0m\u001b[1;34m\"We start here.\"\u001b[0m\u001b[1;33m)\u001b[0m\u001b[1;33m\u001b[0m\u001b[1;33m\u001b[0m\u001b[0m\n\u001b[1;32m----> 2\u001b[1;33m \u001b[0mmessage\u001b[0m\u001b[1;33m(\u001b[0m\u001b[1;33m)\u001b[0m\u001b[1;33m\u001b[0m\u001b[1;33m\u001b[0m\u001b[0m\n\u001b[0m\u001b[0;32m      3\u001b[0m \u001b[0mprint\u001b[0m\u001b[1;33m(\u001b[0m\u001b[1;34m\"We end here.\"\u001b[0m\u001b[1;33m)\u001b[0m\u001b[1;33m\u001b[0m\u001b[1;33m\u001b[0m\u001b[0m\n\u001b[0;32m      4\u001b[0m \u001b[1;32mdef\u001b[0m \u001b[0mmessage\u001b[0m\u001b[1;33m(\u001b[0m\u001b[1;33m)\u001b[0m\u001b[1;33m:\u001b[0m\u001b[1;33m\u001b[0m\u001b[1;33m\u001b[0m\u001b[0m\n\u001b[0;32m      5\u001b[0m     \u001b[0mprint\u001b[0m\u001b[1;33m(\u001b[0m\u001b[1;34m\"Enter a value: \"\u001b[0m\u001b[1;33m)\u001b[0m\u001b[1;33m\u001b[0m\u001b[1;33m\u001b[0m\u001b[0m\n",
      "\u001b[1;31mNameError\u001b[0m: name 'message' is not defined"
     ]
    }
   ],
   "source": [
    "def message():\n",
    "    print(\"Enter a value: \")\n",
    "\n",
    "print(\"We start here.\")\n",
    "message()\n",
    "print(\"We end here.\")\n",
    "\n"
   ]
  },
  {
   "cell_type": "code",
   "execution_count": 3,
   "id": "3696e0d4",
   "metadata": {},
   "outputs": [],
   "source": [
    "def message(number):\n",
    "    print(\"Enter a number:\", number)\n"
   ]
  },
  {
   "cell_type": "code",
   "execution_count": 4,
   "id": "90b2e2c4",
   "metadata": {},
   "outputs": [
    {
     "name": "stdout",
     "output_type": "stream",
     "text": [
      "Enter a number: 6\n"
     ]
    }
   ],
   "source": [
    "a=6\n",
    "message(a)"
   ]
  },
  {
   "cell_type": "code",
   "execution_count": 5,
   "id": "2fe1e2d8",
   "metadata": {},
   "outputs": [
    {
     "ename": "TypeError",
     "evalue": "message() missing 1 required positional argument: 'number'",
     "output_type": "error",
     "traceback": [
      "\u001b[1;31m---------------------------------------------------------------------------\u001b[0m",
      "\u001b[1;31mTypeError\u001b[0m                                 Traceback (most recent call last)",
      "\u001b[1;32m~\\AppData\\Local\\Temp/ipykernel_12368/4043543603.py\u001b[0m in \u001b[0;36m<module>\u001b[1;34m\u001b[0m\n\u001b[1;32m----> 1\u001b[1;33m \u001b[0mmessage\u001b[0m\u001b[1;33m(\u001b[0m\u001b[1;33m)\u001b[0m\u001b[1;33m\u001b[0m\u001b[1;33m\u001b[0m\u001b[0m\n\u001b[0m",
      "\u001b[1;31mTypeError\u001b[0m: message() missing 1 required positional argument: 'number'"
     ]
    }
   ],
   "source": [
    "message()"
   ]
  },
  {
   "cell_type": "code",
   "execution_count": 6,
   "id": "43d48c23",
   "metadata": {},
   "outputs": [
    {
     "name": "stdout",
     "output_type": "stream",
     "text": [
      "Enter a number: 6\n"
     ]
    }
   ],
   "source": [
    "number =6\n",
    "def message(number):\n",
    "    print(\"Enter a number:\", number)\n",
    "message(number)"
   ]
  },
  {
   "cell_type": "code",
   "execution_count": 10,
   "id": "94f09640",
   "metadata": {},
   "outputs": [
    {
     "name": "stdout",
     "output_type": "stream",
     "text": [
      "Enter a number: 6\n",
      "6\n"
     ]
    }
   ],
   "source": [
    "number =6\n",
    "numbers =10\n",
    "def message(numbers):\n",
    "    print(\"Enter a number:\", number)\n",
    "    print(number)\n",
    "message(8)"
   ]
  },
  {
   "cell_type": "code",
   "execution_count": 11,
   "id": "40d2b6c0",
   "metadata": {},
   "outputs": [],
   "source": [
    "def message(what, number):\n",
    "    print(\"Enter\", what, \"number\", number)\n",
    "\n",
    "# invoke the function\n"
   ]
  },
  {
   "cell_type": "code",
   "execution_count": 12,
   "id": "dcf2bb5a",
   "metadata": {},
   "outputs": [
    {
     "name": "stdout",
     "output_type": "stream",
     "text": [
      "Enter 67 number 88\n"
     ]
    }
   ],
   "source": [
    "message(67, 88)"
   ]
  },
  {
   "cell_type": "code",
   "execution_count": 13,
   "id": "3f27683f",
   "metadata": {},
   "outputs": [
    {
     "name": "stdout",
     "output_type": "stream",
     "text": [
      "Enter 67 number 88\n"
     ]
    }
   ],
   "source": [
    "def message(what, number,number2):\n",
    "    print(\"Enter\", what, \"number\", number)\n",
    "\n",
    "# invoke the function\n",
    "message(67, 88,'hello')"
   ]
  },
  {
   "cell_type": "code",
   "execution_count": 14,
   "id": "b473020f",
   "metadata": {},
   "outputs": [
    {
     "name": "stdout",
     "output_type": "stream",
     "text": [
      "Enter telephone number 11\n",
      "Enter price number 5\n",
      "Enter number number number\n"
     ]
    }
   ],
   "source": [
    "def message(what, number):\n",
    "    print(\"Enter\", what, \"number\", number)\n",
    "\n",
    "message(\"telephone\", 11)\n",
    "message(\"price\", 5)\n",
    "message(\"number\", \"number\")\n"
   ]
  },
  {
   "cell_type": "code",
   "execution_count": null,
   "id": "3d74aeb3",
   "metadata": {},
   "outputs": [],
   "source": [
    "def my_function(a, b, c):\n",
    "    print(a, b, c)\n",
    "\n",
    "my_function(1, 2, 3)\n"
   ]
  },
  {
   "cell_type": "code",
   "execution_count": 15,
   "id": "8acc891d",
   "metadata": {},
   "outputs": [
    {
     "name": "stdout",
     "output_type": "stream",
     "text": [
      "Hello, my name is Luke Skywalker\n",
      "Hello, my name is Jesse Quick\n",
      "Hello, my name is Clark Kent\n"
     ]
    }
   ],
   "source": [
    "def introduction(first_name, last_name):\n",
    "    print(\"Hello, my name is\", first_name, last_name)\n",
    "\n",
    "introduction(\"Luke\", \"Skywalker\")\n",
    "introduction(\"Jesse\", \"Quick\")\n",
    "introduction(\"Clark\", \"Kent\")\n",
    "\n"
   ]
  },
  {
   "cell_type": "code",
   "execution_count": 16,
   "id": "be88fdcf",
   "metadata": {},
   "outputs": [
    {
     "name": "stdout",
     "output_type": "stream",
     "text": [
      "Hello, my name is Skywalker Luke\n",
      "Hello, my name is Quick Jesse\n",
      "Hello, my name is Kent Clark\n"
     ]
    }
   ],
   "source": [
    "def introduction(first_name, last_name):\n",
    "    print(\"Hello, my name is\", first_name, last_name)\n",
    "\n",
    "introduction(\"Skywalker\", \"Luke\")\n",
    "introduction(\"Quick\", \"Jesse\")\n",
    "introduction(\"Kent\", \"Clark\")\n"
   ]
  },
  {
   "cell_type": "code",
   "execution_count": 17,
   "id": "f343669d",
   "metadata": {},
   "outputs": [
    {
     "name": "stdout",
     "output_type": "stream",
     "text": [
      "Hello, my name is James Bond\n",
      "Hello, my name is Luke Skywalker\n"
     ]
    }
   ],
   "source": [
    "def introduction(first_name, last_name):\n",
    "    print(\"Hello, my name is\", first_name, last_name)\n",
    "\n",
    "introduction(first_name = \"James\", last_name = \"Bond\")\n",
    "introduction(last_name = \"Skywalker\", first_name = \"Luke\")\n"
   ]
  },
  {
   "cell_type": "code",
   "execution_count": 21,
   "id": "4a965063",
   "metadata": {},
   "outputs": [],
   "source": [
    "def adding(a, b, c):\n",
    "    print(a, \"+\", b, \"+\", c, \"=\", a + b + c)\n",
    "\n",
    "# Call the adding function here.\n"
   ]
  },
  {
   "cell_type": "code",
   "execution_count": 22,
   "id": "db18cddf",
   "metadata": {},
   "outputs": [
    {
     "name": "stdout",
     "output_type": "stream",
     "text": [
      "1 + 2 + 3 = 6\n"
     ]
    }
   ],
   "source": [
    "adding(1, 2, 3)"
   ]
  },
  {
   "cell_type": "code",
   "execution_count": 23,
   "id": "279f6610",
   "metadata": {},
   "outputs": [
    {
     "name": "stdout",
     "output_type": "stream",
     "text": [
      "2 + 3 + 1 = 6\n"
     ]
    }
   ],
   "source": [
    "adding(c = 1, a = 2, b = 3)"
   ]
  },
  {
   "cell_type": "code",
   "execution_count": 24,
   "id": "3345f6cd",
   "metadata": {},
   "outputs": [
    {
     "name": "stdout",
     "output_type": "stream",
     "text": [
      "3 + 2 + 1 = 6\n"
     ]
    }
   ],
   "source": [
    "adding(3, c = 1, b = 2)"
   ]
  },
  {
   "cell_type": "code",
   "execution_count": 25,
   "id": "73961418",
   "metadata": {},
   "outputs": [
    {
     "ename": "TypeError",
     "evalue": "adding() got multiple values for argument 'a'",
     "output_type": "error",
     "traceback": [
      "\u001b[1;31m---------------------------------------------------------------------------\u001b[0m",
      "\u001b[1;31mTypeError\u001b[0m                                 Traceback (most recent call last)",
      "\u001b[1;32m~\\AppData\\Local\\Temp/ipykernel_12368/4280288698.py\u001b[0m in \u001b[0;36m<module>\u001b[1;34m\u001b[0m\n\u001b[1;32m----> 1\u001b[1;33m \u001b[0madding\u001b[0m\u001b[1;33m(\u001b[0m\u001b[1;36m3\u001b[0m\u001b[1;33m,\u001b[0m \u001b[0ma\u001b[0m \u001b[1;33m=\u001b[0m \u001b[1;36m1\u001b[0m\u001b[1;33m,\u001b[0m \u001b[0mb\u001b[0m \u001b[1;33m=\u001b[0m \u001b[1;36m2\u001b[0m\u001b[1;33m)\u001b[0m\u001b[1;33m\u001b[0m\u001b[1;33m\u001b[0m\u001b[0m\n\u001b[0m",
      "\u001b[1;31mTypeError\u001b[0m: adding() got multiple values for argument 'a'"
     ]
    }
   ],
   "source": [
    "adding(3, a = 1, b = 2)"
   ]
  },
  {
   "cell_type": "code",
   "execution_count": 26,
   "id": "443e130c",
   "metadata": {},
   "outputs": [
    {
     "name": "stdout",
     "output_type": "stream",
     "text": [
      "4 + 3 + 2 = 9\n"
     ]
    }
   ],
   "source": [
    "adding(4, 3, c = 2)"
   ]
  },
  {
   "cell_type": "code",
   "execution_count": 27,
   "id": "0e90374e",
   "metadata": {},
   "outputs": [],
   "source": [
    "def introduction(first_name, last_name=\"Smith\"):\n",
    "    print(\"Hello, my name is\", first_name, last_name)\n"
   ]
  },
  {
   "cell_type": "code",
   "execution_count": 28,
   "id": "e3e60d0b",
   "metadata": {},
   "outputs": [
    {
     "name": "stdout",
     "output_type": "stream",
     "text": [
      "Hello, my name is James Doe\n"
     ]
    }
   ],
   "source": [
    "introduction(\"James\", \"Doe\")"
   ]
  },
  {
   "cell_type": "code",
   "execution_count": 29,
   "id": "06cd4e1e",
   "metadata": {},
   "outputs": [
    {
     "name": "stdout",
     "output_type": "stream",
     "text": [
      "Hello, my name is James Smith\n"
     ]
    }
   ],
   "source": [
    "introduction(\"James\",)"
   ]
  },
  {
   "cell_type": "code",
   "execution_count": 30,
   "id": "b106da0f",
   "metadata": {},
   "outputs": [
    {
     "name": "stdout",
     "output_type": "stream",
     "text": [
      "Hello, my name is Henry Smith\n"
     ]
    }
   ],
   "source": [
    "introduction(\"Henry\")"
   ]
  },
  {
   "cell_type": "code",
   "execution_count": null,
   "id": "993a81bc",
   "metadata": {},
   "outputs": [],
   "source": [
    "#EX1: Test\n",
    "#EX2: Write a function to input a number N and start, stop  \n",
    "# and do the following things:\n",
    "# A. Random a N elements of floating number and round to 2 decimals\n",
    "# B. Seperate the generated list into the Integer and Decimal Part List \n",
    "# C. Make the three test cases : with start and stop, only start, and no start or stop"
   ]
  }
 ],
 "metadata": {
  "kernelspec": {
   "display_name": "Python 3 (ipykernel)",
   "language": "python",
   "name": "python3"
  },
  "language_info": {
   "codemirror_mode": {
    "name": "ipython",
    "version": 3
   },
   "file_extension": ".py",
   "mimetype": "text/x-python",
   "name": "python",
   "nbconvert_exporter": "python",
   "pygments_lexer": "ipython3",
   "version": "3.9.5"
  }
 },
 "nbformat": 4,
 "nbformat_minor": 5
}
