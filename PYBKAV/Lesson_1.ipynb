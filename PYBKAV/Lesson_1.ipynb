{
 "cells": [
  {
   "cell_type": "code",
   "execution_count": 5,
   "id": "e71e4617",
   "metadata": {},
   "outputs": [
    {
     "name": "stdout",
     "output_type": "stream",
     "text": [
      "<class 'str'>\n"
     ]
    }
   ],
   "source": [
    "# Write a programme to calcualte the area of rectangle\n",
    "width = '5.0'\n",
    "#height = 10\n",
    "#area = width*height\n",
    "#print('Area of rectangle is',area)\n",
    "print(type(width))\n"
   ]
  },
  {
   "cell_type": "code",
   "execution_count": 6,
   "id": "964a4762",
   "metadata": {},
   "outputs": [
    {
     "ename": "SyntaxError",
     "evalue": "invalid syntax (Temp/ipykernel_7056/2807088261.py, line 4)",
     "output_type": "error",
     "traceback": [
      "\u001b[1;36m  File \u001b[1;32m\"C:\\Users\\hieub\\AppData\\Local\\Temp/ipykernel_7056/2807088261.py\"\u001b[1;36m, line \u001b[1;32m4\u001b[0m\n\u001b[1;33m    area = width*/height\u001b[0m\n\u001b[1;37m                 ^\u001b[0m\n\u001b[1;31mSyntaxError\u001b[0m\u001b[1;31m:\u001b[0m invalid syntax\n"
     ]
    }
   ],
   "source": [
    "# Write a programme to calcualte the area of rectangle\n",
    "width = 5.0\n",
    "height = 10\n",
    "area = width*/height\n",
    "print('Area of rectangle is',area)\n",
    "print(type(width))\n"
   ]
  },
  {
   "cell_type": "code",
   "execution_count": 8,
   "id": "f507d777",
   "metadata": {},
   "outputs": [
    {
     "ename": "NameError",
     "evalue": "name 'areaa' is not defined",
     "output_type": "error",
     "traceback": [
      "\u001b[1;31m---------------------------------------------------------------------------\u001b[0m",
      "\u001b[1;31mNameError\u001b[0m                                 Traceback (most recent call last)",
      "\u001b[1;32m~\\AppData\\Local\\Temp/ipykernel_7056/3426752220.py\u001b[0m in \u001b[0;36m<module>\u001b[1;34m\u001b[0m\n\u001b[0;32m      3\u001b[0m \u001b[0mheight\u001b[0m \u001b[1;33m=\u001b[0m \u001b[1;36m10\u001b[0m\u001b[1;33m\u001b[0m\u001b[1;33m\u001b[0m\u001b[0m\n\u001b[0;32m      4\u001b[0m \u001b[0marea\u001b[0m \u001b[1;33m=\u001b[0m \u001b[0mwidth\u001b[0m\u001b[1;33m*\u001b[0m\u001b[0mheight\u001b[0m\u001b[1;33m\u001b[0m\u001b[1;33m\u001b[0m\u001b[0m\n\u001b[1;32m----> 5\u001b[1;33m \u001b[0mprint\u001b[0m\u001b[1;33m(\u001b[0m\u001b[1;34m'Area of rectangle is'\u001b[0m\u001b[1;33m,\u001b[0m\u001b[0mareaa\u001b[0m\u001b[1;33m)\u001b[0m\u001b[1;33m\u001b[0m\u001b[1;33m\u001b[0m\u001b[0m\n\u001b[0m\u001b[0;32m      6\u001b[0m \u001b[0mprint\u001b[0m\u001b[1;33m(\u001b[0m\u001b[0mtype\u001b[0m\u001b[1;33m(\u001b[0m\u001b[0mwidth\u001b[0m\u001b[1;33m)\u001b[0m\u001b[1;33m)\u001b[0m\u001b[1;33m\u001b[0m\u001b[1;33m\u001b[0m\u001b[0m\n",
      "\u001b[1;31mNameError\u001b[0m: name 'areaa' is not defined"
     ]
    }
   ],
   "source": [
    "# Write a programme to calcualte the area of rectangle\n",
    "width = 5.0\n",
    "height = 10\n",
    "area = width*height\n",
    "print('Area of rectangle is',areaa)\n",
    "print(type(width))"
   ]
  },
  {
   "cell_type": "code",
   "execution_count": 9,
   "id": "46da788c",
   "metadata": {},
   "outputs": [
    {
     "name": "stdout",
     "output_type": "stream",
     "text": [
      "Area of rectangle is []\n",
      "<class 'list'>\n"
     ]
    }
   ],
   "source": [
    "# Write a programme to calcualte the area of rectangle\n",
    "width = 5.0\n",
    "height = 10\n",
    "area = width*height\n",
    "areaa=[]\n",
    "print('Area of rectangle is',areaa)\n",
    "print(type(areaa))"
   ]
  },
  {
   "cell_type": "code",
   "execution_count": 10,
   "id": "d75698a0",
   "metadata": {},
   "outputs": [
    {
     "ename": "SyntaxError",
     "evalue": "invalid syntax (Temp/ipykernel_7056/1315484920.py, line 1)",
     "output_type": "error",
     "traceback": [
      "\u001b[1;36m  File \u001b[1;32m\"C:\\Users\\hieub\\AppData\\Local\\Temp/ipykernel_7056/1315484920.py\"\u001b[1;36m, line \u001b[1;32m1\u001b[0m\n\u001b[1;33m    import =2\u001b[0m\n\u001b[1;37m           ^\u001b[0m\n\u001b[1;31mSyntaxError\u001b[0m\u001b[1;31m:\u001b[0m invalid syntax\n"
     ]
    }
   ],
   "source": [
    "import =2\n"
   ]
  },
  {
   "cell_type": "code",
   "execution_count": 11,
   "id": "0ac2fe50",
   "metadata": {},
   "outputs": [
    {
     "name": "stdout",
     "output_type": "stream",
     "text": [
      "Requirement already satisfied: matplotlib in c:\\users\\hieub\\miniconda3\\lib\\site-packages (3.5.0)Note: you may need to restart the kernel to use updated packages.\n",
      "Requirement already satisfied: setuptools-scm>=4 in c:\\users\\hieub\\miniconda3\\lib\\site-packages (from matplotlib) (6.3.2)\n",
      "Requirement already satisfied: fonttools>=4.22.0 in c:\\users\\hieub\\miniconda3\\lib\\site-packages (from matplotlib) (4.28.3)\n",
      "Requirement already satisfied: pillow>=6.2.0 in c:\\users\\hieub\\miniconda3\\lib\\site-packages (from matplotlib) (8.4.0)\n",
      "Requirement already satisfied: packaging>=20.0 in c:\\users\\hieub\\miniconda3\\lib\\site-packages (from matplotlib) (21.3)\n",
      "Requirement already satisfied: numpy>=1.17 in c:\\users\\hieub\\miniconda3\\lib\\site-packages (from matplotlib) (1.21.4)\n",
      "Requirement already satisfied: kiwisolver>=1.0.1 in c:\\users\\hieub\\miniconda3\\lib\\site-packages (from matplotlib) (1.3.2)\n",
      "Requirement already satisfied: pyparsing>=2.2.1 in c:\\users\\hieub\\miniconda3\\lib\\site-packages (from matplotlib) (3.0.6)\n",
      "Requirement already satisfied: python-dateutil>=2.7 in c:\\users\\hieub\\miniconda3\\lib\\site-packages (from matplotlib) (2.8.2)\n",
      "Requirement already satisfied: cycler>=0.10 in c:\\users\\hieub\\miniconda3\\lib\\site-packages (from matplotlib) (0.11.0)\n",
      "Requirement already satisfied: six>=1.5 in c:\\users\\hieub\\miniconda3\\lib\\site-packages (from python-dateutil>=2.7->matplotlib) (1.16.0)\n",
      "Requirement already satisfied: tomli>=1.0.0 in c:\\users\\hieub\\miniconda3\\lib\\site-packages (from setuptools-scm>=4->matplotlib) (1.2.2)\n",
      "Requirement already satisfied: setuptools in c:\\users\\hieub\\miniconda3\\lib\\site-packages (from setuptools-scm>=4->matplotlib) (52.0.0.post20210125)\n",
      "\n"
     ]
    }
   ],
   "source": [
    "pip install matplotlib"
   ]
  },
  {
   "cell_type": "code",
   "execution_count": 18,
   "id": "d81d415c",
   "metadata": {
    "scrolled": true
   },
   "outputs": [
    {
     "ename": "SyntaxError",
     "evalue": "invalid syntax (Temp/ipykernel_7056/832785655.py, line 1)",
     "output_type": "error",
     "traceback": [
      "\u001b[1;36m  File \u001b[1;32m\"C:\\Users\\hieub\\AppData\\Local\\Temp/ipykernel_7056/832785655.py\"\u001b[1;36m, line \u001b[1;32m1\u001b[0m\n\u001b[1;33m    import numpy as for np\u001b[0m\n\u001b[1;37m                    ^\u001b[0m\n\u001b[1;31mSyntaxError\u001b[0m\u001b[1;31m:\u001b[0m invalid syntax\n"
     ]
    }
   ],
   "source": [
    "import numpy as for np\n",
    "a = np.array([[1,2,2],[4,5,6]])\n",
    "print(a)"
   ]
  },
  {
   "cell_type": "code",
   "execution_count": 17,
   "id": "906e75b9",
   "metadata": {},
   "outputs": [
    {
     "name": "stdout",
     "output_type": "stream",
     "text": [
      "[[2]\n",
      " [5]]\n",
      "[2 2]\n"
     ]
    }
   ],
   "source": [
    "print(a[:,1:2])\n",
    "print(a[0,1:3])"
   ]
  },
  {
   "cell_type": "code",
   "execution_count": 19,
   "id": "74fd4bf7",
   "metadata": {},
   "outputs": [
    {
     "ename": "SyntaxError",
     "evalue": "invalid syntax (Temp/ipykernel_7056/226872028.py, line 4)",
     "output_type": "error",
     "traceback": [
      "\u001b[1;36m  File \u001b[1;32m\"C:\\Users\\hieub\\AppData\\Local\\Temp/ipykernel_7056/226872028.py\"\u001b[1;36m, line \u001b[1;32m4\u001b[0m\n\u001b[1;33m    for\u001b[0m\n\u001b[1;37m       ^\u001b[0m\n\u001b[1;31mSyntaxError\u001b[0m\u001b[1;31m:\u001b[0m invalid syntax\n"
     ]
    }
   ],
   "source": [
    "import numpy as np\n",
    "\n",
    "a = np.array([[1,2,2],[4,5,6]])\n",
    "print(a+b)\n",
    "for"
   ]
  },
  {
   "cell_type": "code",
   "execution_count": null,
   "id": "b3442075",
   "metadata": {},
   "outputs": [],
   "source": [
    "# EX1: write a programm to find total amounts of a product with integers quantity and unitprice\n",
    "# EX2 : Write a program to find Perimeter and Area of a ellipse with integers minor axis and major axis length \n",
    "# EX3: Write a program to convert centimeter to decimeter and inch with float centimeter \n",
    "# EX4: Write a program to find velocity with integer time and float distance "
   ]
  }
 ],
 "metadata": {
  "kernelspec": {
   "display_name": "Python 3 (ipykernel)",
   "language": "python",
   "name": "python3"
  },
  "language_info": {
   "codemirror_mode": {
    "name": "ipython",
    "version": 3
   },
   "file_extension": ".py",
   "mimetype": "text/x-python",
   "name": "python",
   "nbconvert_exporter": "python",
   "pygments_lexer": "ipython3",
   "version": "3.9.5"
  }
 },
 "nbformat": 4,
 "nbformat_minor": 5
}
