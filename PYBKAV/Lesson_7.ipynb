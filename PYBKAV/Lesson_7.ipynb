{
 "cells": [
  {
   "cell_type": "code",
   "execution_count": 4,
   "id": "9c14a28b",
   "metadata": {},
   "outputs": [
    {
     "name": "stdout",
     "output_type": "stream",
     "text": [
      "Please input a word: Gregory\n",
      "G\n",
      "R\n",
      "G\n",
      "R\n",
      "Y\n"
     ]
    }
   ],
   "source": [
    "user_word = input(\"Please input a word: \")\n",
    "user_word = user_word.upper()\n",
    "for letter in user_word:\n",
    "    if letter in ('A', 'E', 'I', 'O', 'U'):\n",
    "        continue\n",
    "    print(letter)"
   ]
  },
  {
   "cell_type": "code",
   "execution_count": 7,
   "id": "3f2808ff",
   "metadata": {},
   "outputs": [
    {
     "name": "stdout",
     "output_type": "stream",
     "text": [
      "Please input a word: Gregory\n",
      "GRGRY\n"
     ]
    }
   ],
   "source": [
    "user_word = input(\"Please input a word: \")\n",
    "user_word = user_word.upper()\n",
    "letters=''\n",
    "for letter in user_word:\n",
    "    if letter in ('A', 'E', 'I', 'O', 'U'):\n",
    "        continue\n",
    "    letters+=letter\n",
    "print(letters)"
   ]
  },
  {
   "cell_type": "code",
   "execution_count": 12,
   "id": "d3bf223a",
   "metadata": {},
   "outputs": [
    {
     "name": "stdout",
     "output_type": "stream",
     "text": [
      "Please input a word: Gregory\n",
      "GRGRY"
     ]
    }
   ],
   "source": [
    "user_word = input(\"Please input a word: \")\n",
    "user_word = user_word.upper()\n",
    "for letter in user_word:\n",
    "    if letter in ('A', 'E', 'I', 'O', 'U'):\n",
    "        continue\n",
    "    print(letter,end='')"
   ]
  },
  {
   "cell_type": "code",
   "execution_count": 14,
   "id": "1bb644b6",
   "metadata": {},
   "outputs": [
    {
     "name": "stdout",
     "output_type": "stream",
     "text": [
      "else: 6\n"
     ]
    }
   ],
   "source": [
    "i = 6\n",
    "while i < 5:\n",
    "    print(i)\n",
    "    i += 1\n",
    "else:\n",
    "    print(\"else:\", i)"
   ]
  },
  {
   "cell_type": "code",
   "execution_count": 16,
   "id": "9d364de0",
   "metadata": {},
   "outputs": [
    {
     "name": "stdout",
     "output_type": "stream",
     "text": [
      "1\n",
      "2\n",
      "3\n",
      "4\n",
      "else: 5\n"
     ]
    }
   ],
   "source": [
    "i = 1\n",
    "while i < 5:\n",
    "    print(i)\n",
    "    i += 1\n",
    "else:\n",
    "    print(\"else:\", i)"
   ]
  },
  {
   "cell_type": "code",
   "execution_count": 17,
   "id": "251da0dc",
   "metadata": {},
   "outputs": [
    {
     "name": "stdout",
     "output_type": "stream",
     "text": [
      "1\n"
     ]
    }
   ],
   "source": [
    "i = 1\n",
    "if i < 5:\n",
    "    print(i)\n",
    "    i += 1\n",
    "else:\n",
    "    print(\"else:\", i)"
   ]
  },
  {
   "cell_type": "code",
   "execution_count": 18,
   "id": "48369575",
   "metadata": {},
   "outputs": [
    {
     "name": "stdout",
     "output_type": "stream",
     "text": [
      "1\n",
      "2\n",
      "3\n",
      "4\n",
      "else: 5\n"
     ]
    }
   ],
   "source": [
    "i = 1\n",
    "while i < 5:\n",
    "    print(i)\n",
    "    i += 1\n",
    "\n",
    "print(\"else:\", i)"
   ]
  },
  {
   "cell_type": "code",
   "execution_count": 19,
   "id": "6aae8aa5",
   "metadata": {},
   "outputs": [
    {
     "name": "stdout",
     "output_type": "stream",
     "text": [
      "0\n",
      "1\n",
      "2\n",
      "3\n",
      "4\n",
      "else: 4\n"
     ]
    }
   ],
   "source": [
    "for i in range(5):\n",
    "    print(i)\n",
    "else:\n",
    "    print(\"else:\", i)\n"
   ]
  },
  {
   "cell_type": "code",
   "execution_count": 20,
   "id": "21c0ab21",
   "metadata": {},
   "outputs": [
    {
     "name": "stdout",
     "output_type": "stream",
     "text": [
      "0\n",
      "1\n",
      "2\n",
      "3\n",
      "4\n",
      "else: 4\n"
     ]
    }
   ],
   "source": [
    "for i in range(5):\n",
    "    print(i)\n",
    "\n",
    "print(\"else:\", i)\n"
   ]
  },
  {
   "cell_type": "code",
   "execution_count": 23,
   "id": "43bc2b8c",
   "metadata": {},
   "outputs": [
    {
     "ename": "NameError",
     "evalue": "name 'n' is not defined",
     "output_type": "error",
     "traceback": [
      "\u001b[1;31m---------------------------------------------------------------------------\u001b[0m",
      "\u001b[1;31mNameError\u001b[0m                                 Traceback (most recent call last)",
      "\u001b[1;32m~\\AppData\\Local\\Temp/ipykernel_10576/3517789309.py\u001b[0m in \u001b[0;36m<module>\u001b[1;34m\u001b[0m\n\u001b[0;32m      2\u001b[0m     \u001b[0mprint\u001b[0m\u001b[1;33m(\u001b[0m\u001b[0mn\u001b[0m\u001b[1;33m)\u001b[0m\u001b[1;33m\u001b[0m\u001b[1;33m\u001b[0m\u001b[0m\n\u001b[0;32m      3\u001b[0m \u001b[1;32melse\u001b[0m\u001b[1;33m:\u001b[0m\u001b[1;33m\u001b[0m\u001b[1;33m\u001b[0m\u001b[0m\n\u001b[1;32m----> 4\u001b[1;33m     \u001b[0mprint\u001b[0m\u001b[1;33m(\u001b[0m\u001b[1;34m\"else:\"\u001b[0m\u001b[1;33m,\u001b[0m \u001b[0mn\u001b[0m\u001b[1;33m)\u001b[0m\u001b[1;33m\u001b[0m\u001b[1;33m\u001b[0m\u001b[0m\n\u001b[0m",
      "\u001b[1;31mNameError\u001b[0m: name 'n' is not defined"
     ]
    }
   ],
   "source": [
    "\n",
    "for n in range(2, 1):\n",
    "    print(n)\n",
    "else:\n",
    "    print(\"else:\", n)\n"
   ]
  },
  {
   "cell_type": "code",
   "execution_count": 30,
   "id": "56d79fb5",
   "metadata": {},
   "outputs": [
    {
     "name": "stdout",
     "output_type": "stream",
     "text": [
      "Enter the number of blocks: 100000\n",
      "The height of the pyramid: 446\n"
     ]
    }
   ],
   "source": [
    "blocks = int(input(\"Enter the number of blocks: \"))\n",
    "height = 0\n",
    "number_block_layer = 1\n",
    "while number_block_layer<=blocks:\n",
    "    height +=1\n",
    "    blocks -= number_block_layer\n",
    "    number_block_layer += 1\n",
    "\n",
    "\n",
    "#\n",
    "# Write your code here.\n",
    "#\t\n",
    "\n",
    "print(\"The height of the pyramid:\", height)\n"
   ]
  },
  {
   "cell_type": "code",
   "execution_count": null,
   "id": "b1286614",
   "metadata": {},
   "outputs": [],
   "source": [
    "\n"
   ]
  },
  {
   "cell_type": "code",
   "execution_count": 34,
   "id": "367c470c",
   "metadata": {},
   "outputs": [
    {
     "name": "stdout",
     "output_type": "stream",
     "text": [
      "Please input a none-negative and none-zero integer number: 1023\n",
      "3070\n",
      "1535\n",
      "4606\n",
      "2303\n",
      "6910\n",
      "3455\n",
      "10366\n",
      "5183\n",
      "15550\n",
      "7775\n",
      "23326\n",
      "11663\n",
      "34990\n",
      "17495\n",
      "52486\n",
      "26243\n",
      "78730\n",
      "39365\n",
      "118096\n",
      "59048\n",
      "29524\n",
      "14762\n",
      "7381\n",
      "22144\n",
      "11072\n",
      "5536\n",
      "2768\n",
      "1384\n",
      "692\n",
      "346\n",
      "173\n",
      "520\n",
      "260\n",
      "130\n",
      "65\n",
      "196\n",
      "98\n",
      "49\n",
      "148\n",
      "74\n",
      "37\n",
      "112\n",
      "56\n",
      "28\n",
      "14\n",
      "7\n",
      "22\n",
      "11\n",
      "34\n",
      "17\n",
      "52\n",
      "26\n",
      "13\n",
      "40\n",
      "20\n",
      "10\n",
      "5\n",
      "16\n",
      "8\n",
      "4\n",
      "2\n",
      "1\n",
      "step 62\n"
     ]
    }
   ],
   "source": [
    "c0 = int(input('Please input a none-negative and none-zero integer number: '))\n",
    "step = 0\n",
    "while c0 !=1:\n",
    "    if c0%2 ==0:\n",
    "        c0=c0/2\n",
    "    else:\n",
    "        c0=c0*3+1\n",
    "    c0=int(c0)\n",
    "    print(c0)\n",
    "    step +=1\n",
    "    \n",
    "print('step',step)"
   ]
  },
  {
   "cell_type": "code",
   "execution_count": 36,
   "id": "2c849555",
   "metadata": {},
   "outputs": [
    {
     "data": {
      "text/plain": [
       "False"
      ]
     },
     "execution_count": 36,
     "metadata": {},
     "output_type": "execute_result"
    }
   ],
   "source": [
    "a=5\n",
    "b=6\n",
    "\n",
    "a==b or a>b and a== 6 or b > a+5"
   ]
  },
  {
   "cell_type": "code",
   "execution_count": 38,
   "id": "e2387c1e",
   "metadata": {},
   "outputs": [
    {
     "name": "stdout",
     "output_type": "stream",
     "text": [
      "True\n",
      "True\n"
     ]
    }
   ],
   "source": [
    "var = 1\n",
    "print(var > 0)\n",
    "print(not (var <= 0))"
   ]
  },
  {
   "cell_type": "code",
   "execution_count": 46,
   "id": "f36b17fc",
   "metadata": {},
   "outputs": [],
   "source": [
    "numbers = [10,5,7,2,1]"
   ]
  },
  {
   "cell_type": "code",
   "execution_count": 47,
   "id": "42f485d2",
   "metadata": {},
   "outputs": [
    {
     "name": "stdout",
     "output_type": "stream",
     "text": [
      "10\n"
     ]
    }
   ],
   "source": [
    "print(numbers[0])"
   ]
  },
  {
   "cell_type": "code",
   "execution_count": 48,
   "id": "a451e09b",
   "metadata": {},
   "outputs": [],
   "source": [
    "numbers[0] = 111"
   ]
  },
  {
   "cell_type": "code",
   "execution_count": 49,
   "id": "18ad764e",
   "metadata": {},
   "outputs": [
    {
     "name": "stdout",
     "output_type": "stream",
     "text": [
      "[111, 5, 7, 2, 1]\n"
     ]
    }
   ],
   "source": [
    "print(numbers)"
   ]
  },
  {
   "cell_type": "code",
   "execution_count": 50,
   "id": "78597f0b",
   "metadata": {},
   "outputs": [
    {
     "name": "stdout",
     "output_type": "stream",
     "text": [
      "[111, 1, 7, 2, 1]\n"
     ]
    }
   ],
   "source": [
    "numbers[1] =numbers[4]\n",
    "print(numbers)"
   ]
  },
  {
   "cell_type": "code",
   "execution_count": 51,
   "id": "f2409850",
   "metadata": {},
   "outputs": [
    {
     "name": "stdout",
     "output_type": "stream",
     "text": [
      "List content: [10, 5, 7, 2, 1]\n"
     ]
    }
   ],
   "source": [
    "numbers = [10, 5, 7, 2, 1]\n",
    "print(\"List content:\", numbers)  # Printing original list content.\n"
   ]
  },
  {
   "cell_type": "code",
   "execution_count": 52,
   "id": "53cb4451",
   "metadata": {},
   "outputs": [
    {
     "data": {
      "text/plain": [
       "5"
      ]
     },
     "execution_count": 52,
     "metadata": {},
     "output_type": "execute_result"
    }
   ],
   "source": [
    "\n",
    "len(numbers)"
   ]
  },
  {
   "cell_type": "code",
   "execution_count": 53,
   "id": "1f768b95",
   "metadata": {},
   "outputs": [
    {
     "name": "stdout",
     "output_type": "stream",
     "text": [
      "Original list content: [10, 5, 7, 2, 1]\n",
      "\n",
      "Previous list content: [111, 5, 7, 2, 1]\n",
      "Previous list content: [111, 1, 7, 2, 1]\n",
      "\n",
      "List length: 5\n"
     ]
    }
   ],
   "source": [
    "numbers = [10, 5, 7, 2, 1]\n",
    "print(\"Original list content:\", numbers)  # Printing original list content.\n",
    "\n",
    "numbers[0] = 111\n",
    "print(\"\\nPrevious list content:\", numbers)  # Printing previous list content.\n",
    "\n",
    "numbers[1] = numbers[4]  # Copying value of the fifth element to the second.\n",
    "print(\"Previous list content:\", numbers)  # Printing previous list content.\n",
    "\n",
    "print(\"\\nList length:\", len(numbers))  # Printing the list's length.\n"
   ]
  },
  {
   "cell_type": "code",
   "execution_count": 56,
   "id": "81d7c3dc",
   "metadata": {},
   "outputs": [
    {
     "name": "stdout",
     "output_type": "stream",
     "text": [
      "[10, 7, 2, 1]\n"
     ]
    }
   ],
   "source": [
    "numbers = [10, 5, 7, 2, 1]\n",
    "del numbers[1]\n",
    "print(numbers)"
   ]
  },
  {
   "cell_type": "code",
   "execution_count": 58,
   "id": "cf242d53",
   "metadata": {},
   "outputs": [
    {
     "ename": "IndexError",
     "evalue": "list index out of range",
     "output_type": "error",
     "traceback": [
      "\u001b[1;31m---------------------------------------------------------------------------\u001b[0m",
      "\u001b[1;31mIndexError\u001b[0m                                Traceback (most recent call last)",
      "\u001b[1;32m~\\AppData\\Local\\Temp/ipykernel_10576/801653375.py\u001b[0m in \u001b[0;36m<module>\u001b[1;34m\u001b[0m\n\u001b[1;32m----> 1\u001b[1;33m \u001b[0mprint\u001b[0m\u001b[1;33m(\u001b[0m\u001b[0mnumbers\u001b[0m\u001b[1;33m[\u001b[0m\u001b[1;36m4\u001b[0m\u001b[1;33m]\u001b[0m\u001b[1;33m)\u001b[0m\u001b[1;33m\u001b[0m\u001b[1;33m\u001b[0m\u001b[0m\n\u001b[0m",
      "\u001b[1;31mIndexError\u001b[0m: list index out of range"
     ]
    }
   ],
   "source": [
    "print(numbers[4])"
   ]
  },
  {
   "cell_type": "code",
   "execution_count": 59,
   "id": "3212ae3d",
   "metadata": {},
   "outputs": [
    {
     "name": "stdout",
     "output_type": "stream",
     "text": [
      "Original list content: [10, 5, 7, 2, 1]\n",
      "\n",
      "Previous list content: [111, 5, 7, 2, 1]\n",
      "Previous list content: [111, 1, 7, 2, 1]\n",
      "\n",
      "List's length: 5\n",
      "New list's length: 4\n",
      "\n",
      "New list content: [111, 7, 2, 1]\n"
     ]
    }
   ],
   "source": [
    "numbers = [10, 5, 7, 2, 1]\n",
    "print(\"Original list content:\", numbers)  # Printing original list content.\n",
    "\n",
    "numbers[0] = 111\n",
    "print(\"\\nPrevious list content:\", numbers)  # Printing previous list content.\n",
    "\n",
    "numbers[1] = numbers[4]  # Copying value of the fifth element to the second.\n",
    "print(\"Previous list content:\", numbers)  # Printing previous list content.\n",
    "\n",
    "print(\"\\nList's length:\", len(numbers))  # Printing previous list length.\n",
    "\n",
    "###\n",
    "\n",
    "del numbers[1]  # Removing the second element from the list.\n",
    "print(\"New list's length:\", len(numbers))  # Printing new list length.\n",
    "print(\"\\nNew list content:\", numbers)  # Printing current list content.\n",
    "\n",
    "###\n"
   ]
  },
  {
   "cell_type": "code",
   "execution_count": 64,
   "id": "ef94956b",
   "metadata": {},
   "outputs": [
    {
     "name": "stdout",
     "output_type": "stream",
     "text": [
      "10\n"
     ]
    }
   ],
   "source": [
    "numbers = [10, 5, 7, 2, 1]\n",
    "print(numbers[-5])"
   ]
  },
  {
   "cell_type": "code",
   "execution_count": 65,
   "id": "1d386722",
   "metadata": {},
   "outputs": [
    {
     "name": "stdout",
     "output_type": "stream",
     "text": [
      "[1, 2, 3, 4, 5]\n"
     ]
    }
   ],
   "source": [
    "hat_list = [1, 2, 3, 4, 5]  # This is an existing list of numbers hidden in the hat.\n",
    "\n",
    "# Step 1: write a line of code that prompts the user\n",
    "# to replace the middle number with an integer number entered by the user.\n",
    "\n",
    "\n",
    "# Step 2: write a line of code that removes the last element from the list.\n",
    "\n",
    "# Step 3: write a line of code that prints the length of the existing list.\n",
    "\n",
    "print(hat_list)\n"
   ]
  },
  {
   "cell_type": "code",
   "execution_count": 71,
   "id": "d8e02c8f",
   "metadata": {},
   "outputs": [
    {
     "name": "stdout",
     "output_type": "stream",
     "text": [
      "please input an integer number1000\n",
      "[1, 2, 1000, 4, 5]\n"
     ]
    }
   ],
   "source": [
    "hat_list = [1, 2, 3, 4, 5]\n",
    "n_mid = int((len(hat_list))/2)\n",
    "hat_list[n_mid] = int(input('please input an integer number'))\n",
    "print(hat_list)"
   ]
  },
  {
   "cell_type": "code",
   "execution_count": 72,
   "id": "f3727aae",
   "metadata": {},
   "outputs": [],
   "source": [
    "del hat_list[-1]"
   ]
  },
  {
   "cell_type": "code",
   "execution_count": 73,
   "id": "ebc07939",
   "metadata": {},
   "outputs": [
    {
     "name": "stdout",
     "output_type": "stream",
     "text": [
      "[1, 2, 1000, 4]\n"
     ]
    }
   ],
   "source": [
    "print(hat_list)"
   ]
  },
  {
   "cell_type": "code",
   "execution_count": 74,
   "id": "b0c6ec65",
   "metadata": {},
   "outputs": [
    {
     "name": "stdout",
     "output_type": "stream",
     "text": [
      "4\n"
     ]
    }
   ],
   "source": [
    "print(len(hat_list))"
   ]
  },
  {
   "cell_type": "code",
   "execution_count": 75,
   "id": "cf977922",
   "metadata": {},
   "outputs": [
    {
     "name": "stdout",
     "output_type": "stream",
     "text": [
      "4\n",
      "[111, 7, 2, 1]\n"
     ]
    }
   ],
   "source": [
    "numbers = [111, 7, 2, 1]\n",
    "print(len(numbers))\n",
    "print(numbers)"
   ]
  },
  {
   "cell_type": "code",
   "execution_count": 77,
   "id": "069b6ef0",
   "metadata": {},
   "outputs": [],
   "source": [
    "numbers.append(5)"
   ]
  },
  {
   "cell_type": "code",
   "execution_count": 78,
   "id": "c3151fbf",
   "metadata": {},
   "outputs": [
    {
     "name": "stdout",
     "output_type": "stream",
     "text": [
      "[111, 7, 2, 1, 5]\n"
     ]
    }
   ],
   "source": [
    "print(numbers)"
   ]
  },
  {
   "cell_type": "code",
   "execution_count": 84,
   "id": "f8a85e60",
   "metadata": {},
   "outputs": [
    {
     "name": "stdout",
     "output_type": "stream",
     "text": [
      "[111, 7, 2, 100, 100, 100, 100, 100, 1, 5]\n"
     ]
    }
   ],
   "source": [
    "numbers.insert(3,100)\n",
    "print(numbers)\n"
   ]
  },
  {
   "cell_type": "code",
   "execution_count": 86,
   "id": "e878880e",
   "metadata": {},
   "outputs": [
    {
     "name": "stdout",
     "output_type": "stream",
     "text": [
      "1\n"
     ]
    }
   ],
   "source": [
    "print(numbers.index(2)) # return index of element"
   ]
  },
  {
   "cell_type": "code",
   "execution_count": 80,
   "id": "583f96ca",
   "metadata": {},
   "outputs": [
    {
     "name": "stdout",
     "output_type": "stream",
     "text": [
      "['__add__', '__class__', '__class_getitem__', '__contains__', '__delattr__', '__delitem__', '__dir__', '__doc__', '__eq__', '__format__', '__ge__', '__getattribute__', '__getitem__', '__gt__', '__hash__', '__iadd__', '__imul__', '__init__', '__init_subclass__', '__iter__', '__le__', '__len__', '__lt__', '__mul__', '__ne__', '__new__', '__reduce__', '__reduce_ex__', '__repr__', '__reversed__', '__rmul__', '__setattr__', '__setitem__', '__sizeof__', '__str__', '__subclasshook__', 'append', 'clear', 'copy', 'count', 'extend', 'index', 'insert', 'pop', 'remove', 'reverse', 'sort']\n"
     ]
    }
   ],
   "source": [
    "print(dir(numbers))"
   ]
  },
  {
   "cell_type": "code",
   "execution_count": null,
   "id": "e0281aa7",
   "metadata": {},
   "outputs": [],
   "source": [
    "#EX1: Given  lists of Customer, Product, Quantity\n",
    "CustomerList = [\"John\", \"John\", \"Marry\", \"Marry\", \"Marry\"]\n",
    "ProductList = [\"Beer\", \"Pork\", \"Milk\", \"Vegetable\", \"Pork\"]\n",
    "QuantityList = [\"2 Bottles\", \"1 kg\", \"5 boxes\", \"2 bunches\", \"3 kg\"]\n",
    "# A. Find order information of a specific customer\n",
    "# B. Find customer information who bought Pork or Vegetable\n",
    "# C. Find customer information who bought Pork over 2kg\n"
   ]
  }
 ],
 "metadata": {
  "kernelspec": {
   "display_name": "Python 3 (ipykernel)",
   "language": "python",
   "name": "python3"
  },
  "language_info": {
   "codemirror_mode": {
    "name": "ipython",
    "version": 3
   },
   "file_extension": ".py",
   "mimetype": "text/x-python",
   "name": "python",
   "nbconvert_exporter": "python",
   "pygments_lexer": "ipython3",
   "version": "3.9.5"
  }
 },
 "nbformat": 4,
 "nbformat_minor": 5
}
